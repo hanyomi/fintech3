{
 "cells": [
  {
   "cell_type": "markdown",
   "id": "ee8ea5a0",
   "metadata": {},
   "source": [
    "# 파이썬 분기문(101~110)"
   ]
  },
  {
   "cell_type": "markdown",
   "id": "16bcf769",
   "metadata": {},
   "source": [
    "False"
   ]
  },
  {
   "cell_type": "markdown",
   "id": "4c52fe7c",
   "metadata": {},
   "source": [
    "True"
   ]
  },
  {
   "cell_type": "markdown",
   "id": "ff6548fc",
   "metadata": {},
   "source": [
    "True"
   ]
  },
  {
   "cell_type": "markdown",
   "id": "68009ced",
   "metadata": {},
   "source": [
    "True"
   ]
  },
  {
   "cell_type": "markdown",
   "id": "d88e1177",
   "metadata": {},
   "source": [
    "\"=>\"가 아닌 \">=\"를 써야 함"
   ]
  },
  {
   "cell_type": "markdown",
   "id": "fad98805",
   "metadata": {},
   "source": [
    "X"
   ]
  },
  {
   "cell_type": "markdown",
   "id": "7bc26325",
   "metadata": {},
   "source": [
    "'Hi, there.'"
   ]
  },
  {
   "cell_type": "markdown",
   "id": "eac097e2",
   "metadata": {},
   "source": [
    "1\n",
    "2\n",
    "4"
   ]
  },
  {
   "cell_type": "markdown",
   "id": "b01c7f4c",
   "metadata": {},
   "source": [
    "3\n",
    "5"
   ]
  },
  {
   "cell_type": "markdown",
   "id": "ef7b689f",
   "metadata": {},
   "source": [
    "# 파이썬 분기문(111~120)"
   ]
  },
  {
   "cell_type": "code",
   "execution_count": 2,
   "id": "088dc063",
   "metadata": {},
   "outputs": [
    {
     "name": "stdout",
     "output_type": "stream",
     "text": [
      "안녕하세요\n",
      "안녕하세요안녕하세요\n"
     ]
    }
   ],
   "source": [
    "hi = input()\n",
    "print(hi * 2)"
   ]
  },
  {
   "cell_type": "code",
   "execution_count": 5,
   "id": "3afcb235",
   "metadata": {},
   "outputs": [
    {
     "name": "stdout",
     "output_type": "stream",
     "text": [
      "숫자를 입력하세요: 30\n",
      "40\n"
     ]
    }
   ],
   "source": [
    "num=int(input(\"숫자를 입력하세요: \"))\n",
    "print(num+10)"
   ]
  },
  {
   "cell_type": "code",
   "execution_count": 6,
   "id": "f35a8bbc",
   "metadata": {},
   "outputs": [
    {
     "name": "stdout",
     "output_type": "stream",
     "text": [
      "30\n",
      "짝수\n"
     ]
    }
   ],
   "source": [
    "num2=int(input())\n",
    "if num2 %2==0:\n",
    "    print(\"짝수\")\n",
    "else:\n",
    "    print(\"홀수\")"
   ]
  },
  {
   "cell_type": "code",
   "execution_count": 13,
   "id": "64f7ce4f",
   "metadata": {},
   "outputs": [
    {
     "name": "stdout",
     "output_type": "stream",
     "text": [
      "240\n",
      "255\n"
     ]
    }
   ],
   "source": [
    "num3=int(input())+20\n",
    "if num3 <= 255:\n",
    "    print(num3)\n",
    "else:\n",
    "    print(255)\n"
   ]
  },
  {
   "cell_type": "code",
   "execution_count": 17,
   "id": "59bec597",
   "metadata": {},
   "outputs": [
    {
     "name": "stdout",
     "output_type": "stream",
     "text": [
      "15\n",
      "0\n"
     ]
    }
   ],
   "source": [
    "num4=int(input())-20\n",
    "if num4<=0:\n",
    "    print(0)\n",
    "elif num4>255:\n",
    "    print(255)\n",
    "else:\n",
    "    print(num4)\n"
   ]
  },
  {
   "cell_type": "code",
   "execution_count": 18,
   "id": "aaad60ac",
   "metadata": {},
   "outputs": [
    {
     "name": "stdout",
     "output_type": "stream",
     "text": [
      "현재시간: 15:55\n",
      "정각이 아닙니다.\n"
     ]
    }
   ],
   "source": [
    "time=input(\"현재시간: \")\n",
    "if time[-2:]==\"00\":\n",
    "    print(\"정각 입니다.\")\n",
    "else:\n",
    "    print(\"정각이 아닙니다.\")"
   ]
  },
  {
   "cell_type": "code",
   "execution_count": 20,
   "id": "52ec04dc",
   "metadata": {},
   "outputs": [
    {
     "name": "stdout",
     "output_type": "stream",
     "text": [
      "좋아하는 과일은?사과\n",
      "정답입니다.\n"
     ]
    }
   ],
   "source": [
    "fruit = [\"사과\", \"포도\", \"홍시\"]\n",
    "fav=input(\"좋아하는 과일은?\")\n",
    "if fav in fruit:\n",
    "    print(\"정답입니다.\")\n",
    "else:\n",
    "    print(\"오답입니다.\")"
   ]
  },
  {
   "cell_type": "code",
   "execution_count": 31,
   "id": "605aac83",
   "metadata": {},
   "outputs": [
    {
     "name": "stdout",
     "output_type": "stream",
     "text": [
      "종목명: Naver\n",
      "투자 경고 종목입니다.\n"
     ]
    }
   ],
   "source": [
    "warn_investment_list = [\"Microsoft\", \"Google\", \"Naver\", \"Kakao\", \"SAMSUNG\", \"LG\"]\n",
    "warn=input(\"종목명: \")\n",
    "if warn in warn_investment_list:\n",
    "    print(\"투자 경고 종목입니다.\")\n",
    "else:\n",
    "    print(\"투자 경고 종목이 아닙니다.\")"
   ]
  },
  {
   "cell_type": "code",
   "execution_count": 34,
   "id": "822f6dc5",
   "metadata": {},
   "outputs": [
    {
     "name": "stdout",
     "output_type": "stream",
     "text": [
      "좋아하는 계절은?봄\n",
      "정답입니다.\n"
     ]
    }
   ],
   "source": [
    "fruit = {\"봄\" : \"딸기\", \"여름\" : \"토마토\", \"가을\" : \"사과\"}\n",
    "fav2=input(\"좋아하는 계절은?\")\n",
    "if fav2 in fruit:\n",
    "    print(\"정답입니다.\")\n",
    "else:\n",
    "    print(\"오답입니다.\")"
   ]
  },
  {
   "cell_type": "code",
   "execution_count": 37,
   "id": "64d63266",
   "metadata": {},
   "outputs": [
    {
     "name": "stdout",
     "output_type": "stream",
     "text": [
      "좋아하는 과일은?한라봉\n",
      "오답입니다.\n"
     ]
    }
   ],
   "source": [
    "fruit = {\"봄\" : \"딸기\", \"여름\" : \"토마토\", \"가을\" : \"사과\"}\n",
    "fav2=input(\"좋아하는 과일은?\")\n",
    "if fav2 in fruit.values():\n",
    "    print(\"정답입니다.\")\n",
    "else:\n",
    "    print(\"오답입니다.\")"
   ]
  },
  {
   "cell_type": "markdown",
   "id": "97eaf2ad",
   "metadata": {},
   "source": [
    "# 파이썬 분기문 121~130"
   ]
  },
  {
   "cell_type": "code",
   "execution_count": 46,
   "id": "201d46f7",
   "metadata": {},
   "outputs": [
    {
     "name": "stdout",
     "output_type": "stream",
     "text": [
      "a\n",
      "A\n"
     ]
    }
   ],
   "source": [
    "a=input()\n",
    "if a.islower():\n",
    "    print(a.upper())\n",
    "else:\n",
    "    print(a.lower())"
   ]
  },
  {
   "cell_type": "code",
   "execution_count": 49,
   "id": "49297dcf",
   "metadata": {},
   "outputs": [
    {
     "name": "stdout",
     "output_type": "stream",
     "text": [
      "score:83\n",
      "grade is A\n"
     ]
    }
   ],
   "source": [
    "score=int(input(\"score:\"))\n",
    "if 80<score<=100:\n",
    "    print(\"grade is A\")\n",
    "elif 60<score<= 80:\n",
    "    print(\"grade is B\")\n",
    "elif 40<score<= 60:\n",
    "    print(\"grade is C\")\n",
    "elif 20<score<= 40:\n",
    "    print(\"grade is D\")\n",
    "else:\n",
    "    print(\"grade is F\")\n"
   ]
  },
  {
   "cell_type": "code",
   "execution_count": 58,
   "id": "9e23c92e",
   "metadata": {},
   "outputs": [
    {
     "name": "stdout",
     "output_type": "stream",
     "text": [
      "입력:100 달러\n",
      "116700.0 원\n"
     ]
    }
   ],
   "source": [
    "exchange_rate=dict(달러=1167,엔=1.096,유로=1268,위안=171)\n",
    "# print(환율)\n",
    "c=input(\"입력:\")\n",
    "num, currency=c.split(sep=\" \")\n",
    "print(float(num)*환율[currency],\"원\")\n"
   ]
  },
  {
   "cell_type": "code",
   "execution_count": 60,
   "id": "44d07d66",
   "metadata": {},
   "outputs": [
    {
     "name": "stdout",
     "output_type": "stream",
     "text": [
      "number1:10\n",
      "number2:9\n",
      "number3:20\n",
      "20\n"
     ]
    }
   ],
   "source": [
    "num5=int(input(\"number1:\"))\n",
    "num6=int(input(\"number2:\"))\n",
    "num7=int(input(\"number3:\"))\n",
    "print(max(num5,num6,num7))\n"
   ]
  },
  {
   "cell_type": "code",
   "execution_count": 65,
   "id": "c954f298",
   "metadata": {},
   "outputs": [
    {
     "name": "stdout",
     "output_type": "stream",
     "text": [
      "휴대전화 번호 입력: 011-345-1922\n",
      "당신은 SKT 사용자입니다.\n"
     ]
    }
   ],
   "source": [
    "phone_num=input(\"휴대전화 번호 입력: \")\n",
    "if phone_num[0:3]==\"011\":\n",
    "    print(\"당신은 SKT 사용자입니다.\")\n",
    "elif phone_num[0:3]==\"016\":\n",
    "    print(\"당신은 KT 사용자입니다.\")\n",
    "elif phone_num[0:3]==\"019\":\n",
    "    print(\"당신은 LGU 사용자입니다.\")\n",
    "elif phone_num[0:3]==\"010\":\n",
    "    print(\"당신은 알수없음 사용자입니다.\")"
   ]
  },
  {
   "cell_type": "code",
   "execution_count": 70,
   "id": "8f23c801",
   "metadata": {},
   "outputs": [
    {
     "name": "stdout",
     "output_type": "stream",
     "text": [
      "우편번호: 01400\n",
      "도봉구\n"
     ]
    }
   ],
   "source": [
    "letter_num=input(\"우편번호: \")\n",
    "if letter_num[2] in [\"0\",\"1\",\"2\"]:\n",
    "    print(\"강북구\")\n",
    "elif letter_num[2] in [\"3\",\"4\",\"5\"]:\n",
    "    print(\"도봉구\")\n",
    "else:\n",
    "    print(\"노원구\")\n"
   ]
  },
  {
   "cell_type": "code",
   "execution_count": 72,
   "id": "db2f5e48",
   "metadata": {},
   "outputs": [
    {
     "name": "stdout",
     "output_type": "stream",
     "text": [
      "주민등록번호: 821010-1635210\n",
      "남자\n"
     ]
    }
   ],
   "source": [
    "id_num=input(\"주민등록번호: \")\n",
    "if id_num[7] in [\"1\",\"3\"]:\n",
    "    print(\"남자\")\n",
    "else:\n",
    "    print(\"여자\")"
   ]
  },
  {
   "cell_type": "code",
   "execution_count": 75,
   "id": "0f0d7234",
   "metadata": {},
   "outputs": [
    {
     "name": "stdout",
     "output_type": "stream",
     "text": [
      "서울이 아닙니다.\n"
     ]
    }
   ],
   "source": [
    "id_num2=input(\"주민등록번호: \")\n",
    "if 0<=int(id_num2[8:10])<=8:\n",
    "    print(\"서울 입니다.\")\n",
    "else:\n",
    "    print(\"서울이 아닙니다.\")"
   ]
  },
  {
   "cell_type": "code",
   "execution_count": 90,
   "id": "3e4f7a45",
   "metadata": {},
   "outputs": [
    {
     "name": "stdout",
     "output_type": "stream",
     "text": [
      "주민등록번호: 821010-1635210\n",
      "유효하지 않은 주민등록번호입니다.\n"
     ]
    }
   ],
   "source": [
    "id_num3=input(\"주민등록번호: \")\n",
    "valid=int(id_num3[0])*2+int(id_num3[1])*3+int(id_num3[2])*4+int(id_num3[3])*5+int(id_num3[4])*6+int(id_num3[5])*7+int(id_num3[7])*8\n",
    "+int(id_num3[8])*9+int(id_num3[9])*2+int(id_num3[10])*3+int(id_num3[11])*4+int(id_num3[12])*5\n",
    "valid2=valid %11\n",
    "if valid2==int(id_num3[12]):\n",
    "    print(\"유효한 주민등록번호입니다.\")\n",
    "else:\n",
    "    print(\"유효하지 않은 주민등록번호입니다.\")"
   ]
  },
  {
   "cell_type": "code",
   "execution_count": 92,
   "id": "13e63bbd",
   "metadata": {},
   "outputs": [
    {
     "ename": "ModuleNotFoundError",
     "evalue": "No module named 'requests'",
     "output_type": "error",
     "traceback": [
      "\u001b[1;31m---------------------------------------------------------------------------\u001b[0m",
      "\u001b[1;31mModuleNotFoundError\u001b[0m                       Traceback (most recent call last)",
      "Cell \u001b[1;32mIn[92], line 1\u001b[0m\n\u001b[1;32m----> 1\u001b[0m \u001b[38;5;28;01mimport\u001b[39;00m\u001b[38;5;250m \u001b[39m\u001b[38;5;21;01mrequests\u001b[39;00m\n\u001b[0;32m      2\u001b[0m btc \u001b[38;5;241m=\u001b[39m requests\u001b[38;5;241m.\u001b[39mget(\u001b[38;5;124m\"\u001b[39m\u001b[38;5;124mhttps://api.bithumb.com/public/ticker/\u001b[39m\u001b[38;5;124m\"\u001b[39m)\u001b[38;5;241m.\u001b[39mjson()[\u001b[38;5;124m'\u001b[39m\u001b[38;5;124mdata\u001b[39m\u001b[38;5;124m'\u001b[39m]\n\u001b[0;32m      3\u001b[0m 변동폭\u001b[38;5;241m=\u001b[39m\u001b[38;5;28mfloat\u001b[39m(btc[max_price])\u001b[38;5;241m-\u001b[39m\u001b[38;5;28mfloat\u001b[39m(btc[min_price])\n",
      "\u001b[1;31mModuleNotFoundError\u001b[0m: No module named 'requests'"
     ]
    }
   ],
   "source": [
    "import requests\n",
    "btc = requests.get(\"https://api.bithumb.com/public/ticker/\").json()['data']\n",
    "변동폭=float(btc[max_price])-float(btc[min_price])\n",
    "시가=float(btc[opening_price])\n",
    "최고가=float(btc[max_price])\n",
    "if 시가+변동폭 > 최고가:\n",
    "    print(\"상승장\")\n",
    "else:\n",
    "    print(\"하락장\")"
   ]
  },
  {
   "cell_type": "markdown",
   "id": "508e566c",
   "metadata": {},
   "source": [
    "# 파이썬 반복문(131~140)"
   ]
  },
  {
   "cell_type": "markdown",
   "id": "13c58246",
   "metadata": {},
   "source": [
    "사과\n",
    "귤\n",
    "수박"
   ]
  },
  {
   "cell_type": "markdown",
   "id": "2e9a4adc",
   "metadata": {},
   "source": [
    "####.\n",
    "####.\n",
    "####."
   ]
  },
  {
   "cell_type": "code",
   "execution_count": 95,
   "id": "6f258d94",
   "metadata": {},
   "outputs": [
    {
     "name": "stdout",
     "output_type": "stream",
     "text": [
      "A\n",
      "B\n",
      "C\n"
     ]
    }
   ],
   "source": [
    "print(\"A\")\n",
    "print(\"B\")\n",
    "print(\"C\")"
   ]
  },
  {
   "cell_type": "code",
   "execution_count": 97,
   "id": "b42f4518",
   "metadata": {},
   "outputs": [
    {
     "name": "stdout",
     "output_type": "stream",
     "text": [
      "출력:A\n",
      "출력:B\n",
      "출력:C\n"
     ]
    }
   ],
   "source": [
    "print(\"출력:A\")\n",
    "print(\"출력:B\")\n",
    "print(\"출력:C\")"
   ]
  },
  {
   "cell_type": "code",
   "execution_count": null,
   "id": "f46bef49",
   "metadata": {},
   "outputs": [],
   "source": [
    "print(\"출력:a\")\n",
    "print(\"출력:b\")\n",
    "print(\"출력:c\")"
   ]
  },
  {
   "cell_type": "code",
   "execution_count": 100,
   "id": "17506f97",
   "metadata": {},
   "outputs": [
    {
     "name": "stdout",
     "output_type": "stream",
     "text": [
      "변수 = 10\n",
      "변수 = 20\n",
      "변수 = 30\n"
     ]
    }
   ],
   "source": [
    "for 변수 in [10,20,30]:\n",
    "    print(f\"변수 = {변수}\")"
   ]
  },
  {
   "cell_type": "code",
   "execution_count": 101,
   "id": "0d10e4d2",
   "metadata": {},
   "outputs": [
    {
     "name": "stdout",
     "output_type": "stream",
     "text": [
      "10\n",
      "20\n",
      "30\n"
     ]
    }
   ],
   "source": [
    "for 변수 in [10,20,30]:\n",
    "    print(변수)"
   ]
  },
  {
   "cell_type": "code",
   "execution_count": 102,
   "id": "8b50a71b",
   "metadata": {},
   "outputs": [
    {
     "name": "stdout",
     "output_type": "stream",
     "text": [
      "10\n",
      "-------\n",
      "20\n",
      "-------\n",
      "30\n",
      "-------\n"
     ]
    }
   ],
   "source": [
    "for 변수 in [10,20,30]:\n",
    "    print(변수)\n",
    "    print(\"-------\")"
   ]
  },
  {
   "cell_type": "code",
   "execution_count": 103,
   "id": "6ed85dc4",
   "metadata": {},
   "outputs": [
    {
     "name": "stdout",
     "output_type": "stream",
     "text": [
      "++++\n",
      "10\n",
      "20\n",
      "30\n"
     ]
    }
   ],
   "source": [
    "print(\"++++\")\n",
    "for 변수 in [10,20,30]:\n",
    "    print(변수)"
   ]
  },
  {
   "cell_type": "code",
   "execution_count": 104,
   "id": "7f60bffd",
   "metadata": {},
   "outputs": [
    {
     "name": "stdout",
     "output_type": "stream",
     "text": [
      "------\n",
      "------\n",
      "------\n",
      "------\n"
     ]
    }
   ],
   "source": [
    "for 변수 in[10,20,30,40]:\n",
    "    print(\"------\")"
   ]
  },
  {
   "cell_type": "markdown",
   "id": "91542db8",
   "metadata": {},
   "source": [
    "# 파이썬 반복문(141~150)"
   ]
  },
  {
   "cell_type": "code",
   "execution_count": 105,
   "id": "71691479",
   "metadata": {},
   "outputs": [
    {
     "name": "stdout",
     "output_type": "stream",
     "text": [
      "110\n",
      "210\n",
      "310\n"
     ]
    }
   ],
   "source": [
    "for 변수 in [100,200,300]:\n",
    "    print((변수)+10)"
   ]
  },
  {
   "cell_type": "code",
   "execution_count": 108,
   "id": "e7bf1ea4",
   "metadata": {},
   "outputs": [
    {
     "name": "stdout",
     "output_type": "stream",
     "text": [
      "오늘의 메뉴: 김밥\n",
      "오늘의 메뉴: 라면\n",
      "오늘의 메뉴: 튀김\n"
     ]
    }
   ],
   "source": [
    "for 변수 in [\"김밥\",\"라면\",\"튀김\"]:\n",
    "    print(f\"오늘의 메뉴: {변수}\")"
   ]
  },
  {
   "cell_type": "code",
   "execution_count": 109,
   "id": "03657c8c",
   "metadata": {},
   "outputs": [
    {
     "name": "stdout",
     "output_type": "stream",
     "text": [
      "6\n",
      "4\n",
      "4\n"
     ]
    }
   ],
   "source": [
    "for 변수 in [\"SK하이닉스\", \"삼성전자\", \"LG전자\"]:\n",
    "    print(len(변수))\n"
   ]
  },
  {
   "cell_type": "code",
   "execution_count": 114,
   "id": "d983a239",
   "metadata": {},
   "outputs": [
    {
     "name": "stdout",
     "output_type": "stream",
     "text": [
      "dog  3\n",
      "cat  3\n",
      "parrot  6\n"
     ]
    }
   ],
   "source": [
    "for 변수 in ['dog', 'cat', 'parrot']:\n",
    "    print(f\"{변수} \",len(변수))"
   ]
  },
  {
   "cell_type": "code",
   "execution_count": 115,
   "id": "88fdf4d8",
   "metadata": {},
   "outputs": [
    {
     "name": "stdout",
     "output_type": "stream",
     "text": [
      "d\n",
      "c\n",
      "p\n"
     ]
    }
   ],
   "source": [
    "for 변수 in ['dog', 'cat', 'parrot']:\n",
    "    print(변수[0])"
   ]
  },
  {
   "cell_type": "code",
   "execution_count": 119,
   "id": "f94d2588",
   "metadata": {},
   "outputs": [
    {
     "name": "stdout",
     "output_type": "stream",
     "text": [
      "3 X 1 = 3\n",
      "3 X 2 = 6\n",
      "3 X 3 = 9\n"
     ]
    }
   ],
   "source": [
    "for 변수 in [1,2,3]:\n",
    "    print(3,\"X\",변수,\"=\", 3*변수)"
   ]
  },
  {
   "cell_type": "code",
   "execution_count": 120,
   "id": "4b03d013",
   "metadata": {},
   "outputs": [
    {
     "name": "stdout",
     "output_type": "stream",
     "text": [
      "나\n",
      "다\n",
      "라\n"
     ]
    }
   ],
   "source": [
    "리스트=[\"가\", \"나\", \"다\", \"라\"]\n",
    "나다라=리스트[1:]\n",
    "for 변수 in 나다라:\n",
    "    print(변수)"
   ]
  },
  {
   "cell_type": "code",
   "execution_count": 121,
   "id": "266555fe",
   "metadata": {},
   "outputs": [
    {
     "name": "stdout",
     "output_type": "stream",
     "text": [
      "가\n",
      "다\n"
     ]
    }
   ],
   "source": [
    "for 변수 in 리스트[::2]:\n",
    "    print(변수)"
   ]
  },
  {
   "cell_type": "code",
   "execution_count": 122,
   "id": "36d7ad12",
   "metadata": {},
   "outputs": [
    {
     "name": "stdout",
     "output_type": "stream",
     "text": [
      "라\n",
      "다\n",
      "나\n",
      "가\n"
     ]
    }
   ],
   "source": [
    "for 변수 in 리스트[::-1]:\n",
    "    print(변수)"
   ]
  },
  {
   "cell_type": "markdown",
   "id": "cd852b48",
   "metadata": {},
   "source": [
    "# 파이썬 반복문(151~160)"
   ]
  },
  {
   "cell_type": "code",
   "execution_count": null,
   "id": "af4c3b43",
   "metadata": {},
   "outputs": [],
   "source": []
  }
 ],
 "metadata": {
  "kernelspec": {
   "display_name": "Python 3 (ipykernel)",
   "language": "python",
   "name": "python3"
  },
  "language_info": {
   "codemirror_mode": {
    "name": "ipython",
    "version": 3
   },
   "file_extension": ".py",
   "mimetype": "text/x-python",
   "name": "python",
   "nbconvert_exporter": "python",
   "pygments_lexer": "ipython3",
   "version": "3.9.23"
  }
 },
 "nbformat": 4,
 "nbformat_minor": 5
}
