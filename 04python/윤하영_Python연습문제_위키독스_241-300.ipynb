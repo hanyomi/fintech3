{
 "cells": [
  {
   "cell_type": "markdown",
   "id": "4699ea3f",
   "metadata": {},
   "source": [
    "# 파이썬 모듈(241-250)"
   ]
  },
  {
   "cell_type": "code",
   "execution_count": 1,
   "id": "e6bf84ba",
   "metadata": {},
   "outputs": [],
   "source": [
    "from datetime import datetime"
   ]
  },
  {
   "cell_type": "code",
   "execution_count": 5,
   "id": "b3986ece",
   "metadata": {},
   "outputs": [
    {
     "name": "stdout",
     "output_type": "stream",
     "text": [
      "2025-10-15 14:34:27.096291\n"
     ]
    }
   ],
   "source": [
    "now=datetime.now()\n",
    "print(now)"
   ]
  },
  {
   "cell_type": "code",
   "execution_count": 6,
   "id": "517d073f",
   "metadata": {},
   "outputs": [
    {
     "name": "stdout",
     "output_type": "stream",
     "text": [
      "2025-10-15 14:34:27.096291 <class 'datetime.datetime'>\n"
     ]
    }
   ],
   "source": [
    "print(now,type(now))"
   ]
  },
  {
   "cell_type": "code",
   "execution_count": 9,
   "id": "d4c750d2",
   "metadata": {},
   "outputs": [
    {
     "name": "stdout",
     "output_type": "stream",
     "text": [
      "2025-10-10 14:34:27.096291\n",
      "2025-10-11 14:34:27.096291\n",
      "2025-10-12 14:34:27.096291\n",
      "2025-10-13 14:34:27.096291\n",
      "2025-10-14 14:34:27.096291\n"
     ]
    }
   ],
   "source": [
    "import datetime\n",
    "for day in range(5,0,-1):\n",
    "    delta=datetime.timedelta(days=day)\n",
    "    date=now-delta\n",
    "    print(date)"
   ]
  },
  {
   "cell_type": "code",
   "execution_count": 10,
   "id": "13000a59",
   "metadata": {},
   "outputs": [],
   "source": [
    "from datetime import datetime"
   ]
  },
  {
   "cell_type": "code",
   "execution_count": 15,
   "id": "66bb0542",
   "metadata": {},
   "outputs": [
    {
     "name": "stdout",
     "output_type": "stream",
     "text": [
      "14:50:38\n"
     ]
    }
   ],
   "source": [
    "now=datetime.now()\n",
    "print(now.strftime(\"%H:%M:%S\"))"
   ]
  },
  {
   "cell_type": "code",
   "execution_count": 18,
   "id": "e637e152",
   "metadata": {},
   "outputs": [
    {
     "name": "stdout",
     "output_type": "stream",
     "text": [
      "2020-05-04 00:00:00 <class 'datetime.datetime'>\n"
     ]
    }
   ],
   "source": [
    "now=datetime.strptime(\"2020-05-04\",\"%Y-%m-%d\")\n",
    "print(now,type(now))"
   ]
  },
  {
   "cell_type": "code",
   "execution_count": 20,
   "id": "694d842b",
   "metadata": {},
   "outputs": [
    {
     "name": "stdout",
     "output_type": "stream",
     "text": [
      "2025-10-15 14:55:18.346690\n",
      "2025-10-15 14:55:19.348938\n",
      "2025-10-15 14:55:20.359942\n",
      "2025-10-15 14:55:21.369358\n",
      "2025-10-15 14:55:22.372266\n",
      "2025-10-15 14:55:23.386574\n",
      "2025-10-15 14:55:24.396707\n",
      "2025-10-15 14:55:25.410665\n",
      "2025-10-15 14:55:26.426348\n",
      "2025-10-15 14:55:27.428434\n",
      "2025-10-15 14:55:28.438020\n",
      "2025-10-15 14:55:29.451578\n",
      "2025-10-15 14:55:30.464863\n"
     ]
    },
    {
     "ename": "KeyboardInterrupt",
     "evalue": "",
     "output_type": "error",
     "traceback": [
      "\u001b[1;31m---------------------------------------------------------------------------\u001b[0m",
      "\u001b[1;31mKeyboardInterrupt\u001b[0m                         Traceback (most recent call last)",
      "Cell \u001b[1;32mIn[20], line 5\u001b[0m\n\u001b[0;32m      3\u001b[0m now\u001b[38;5;241m=\u001b[39mdatetime\u001b[38;5;241m.\u001b[39mnow()\n\u001b[0;32m      4\u001b[0m \u001b[38;5;28mprint\u001b[39m(now)\n\u001b[1;32m----> 5\u001b[0m \u001b[43mtime\u001b[49m\u001b[38;5;241;43m.\u001b[39;49m\u001b[43msleep\u001b[49m\u001b[43m(\u001b[49m\u001b[38;5;241;43m1\u001b[39;49m\u001b[43m)\u001b[49m\n",
      "\u001b[1;31mKeyboardInterrupt\u001b[0m: "
     ]
    }
   ],
   "source": [
    "import time\n",
    "while True:\n",
    "    now=datetime.now()\n",
    "    print(now)\n",
    "    time.sleep(1)"
   ]
  },
  {
   "cell_type": "code",
   "execution_count": 23,
   "id": "dbe47478",
   "metadata": {},
   "outputs": [
    {
     "name": "stdout",
     "output_type": "stream",
     "text": [
      "c:\\fintech3\\04python <class 'str'>\n"
     ]
    }
   ],
   "source": [
    "import os\n",
    "ret=os.getcwd()\n",
    "print(ret,type(ret))"
   ]
  },
  {
   "cell_type": "code",
   "execution_count": 25,
   "id": "ee654ac4",
   "metadata": {
    "scrolled": true
   },
   "outputs": [
    {
     "name": "stdout",
     "output_type": "stream",
     "text": [
      "0.0\n",
      "0.1\n",
      "0.2\n",
      "0.30000000000000004\n",
      "0.4\n",
      "0.5\n",
      "0.6000000000000001\n",
      "0.7000000000000001\n",
      "0.8\n",
      "0.9\n",
      "1.0\n",
      "1.1\n",
      "1.2000000000000002\n",
      "1.3\n",
      "1.4000000000000001\n",
      "1.5\n",
      "1.6\n",
      "1.7000000000000002\n",
      "1.8\n",
      "1.9000000000000001\n",
      "2.0\n",
      "2.1\n",
      "2.2\n",
      "2.3000000000000003\n",
      "2.4000000000000004\n",
      "2.5\n",
      "2.6\n",
      "2.7\n",
      "2.8000000000000003\n",
      "2.9000000000000004\n",
      "3.0\n",
      "3.1\n",
      "3.2\n",
      "3.3000000000000003\n",
      "3.4000000000000004\n",
      "3.5\n",
      "3.6\n",
      "3.7\n",
      "3.8000000000000003\n",
      "3.9000000000000004\n",
      "4.0\n",
      "4.1000000000000005\n",
      "4.2\n",
      "4.3\n",
      "4.4\n",
      "4.5\n",
      "4.6000000000000005\n",
      "4.7\n",
      "4.800000000000001\n",
      "4.9\n"
     ]
    }
   ],
   "source": [
    "import numpy\n",
    "for i in numpy.arange(0,5,0.1):\n",
    "    print(i)"
   ]
  },
  {
   "cell_type": "markdown",
   "id": "0746e62d",
   "metadata": {},
   "source": [
    "# 파이썬 클래스(251-260)"
   ]
  },
  {
   "cell_type": "code",
   "execution_count": 26,
   "id": "68044d88",
   "metadata": {},
   "outputs": [],
   "source": [
    "class Human:\n",
    "    pass"
   ]
  },
  {
   "cell_type": "code",
   "execution_count": 27,
   "id": "adc3ad93",
   "metadata": {},
   "outputs": [],
   "source": [
    "class Human:\n",
    "    pass\n",
    "areum=Human()"
   ]
  },
  {
   "cell_type": "code",
   "execution_count": 28,
   "id": "34302d4a",
   "metadata": {},
   "outputs": [
    {
     "name": "stdout",
     "output_type": "stream",
     "text": [
      "응애응애\n"
     ]
    }
   ],
   "source": [
    "class Human:\n",
    "    def __init__(self):\n",
    "        print(\"응애응애\")\n",
    "areum=Human()"
   ]
  },
  {
   "cell_type": "code",
   "execution_count": 32,
   "id": "c2a4a45d",
   "metadata": {},
   "outputs": [
    {
     "data": {
      "text/plain": [
       "'아름'"
      ]
     },
     "execution_count": 32,
     "metadata": {},
     "output_type": "execute_result"
    }
   ],
   "source": [
    "class Human:\n",
    "    def __init__(self,name,age,sex):\n",
    "        self.name=name\n",
    "        self.age=age\n",
    "        self.sex=sex\n",
    "areum=Human(\"아름\",25,\"여자\")\n",
    "areum.name"
   ]
  },
  {
   "cell_type": "code",
   "execution_count": 34,
   "id": "4b813a2b",
   "metadata": {},
   "outputs": [
    {
     "name": "stdout",
     "output_type": "stream",
     "text": [
      "이름:아름 나이:25 성별:여자\n"
     ]
    }
   ],
   "source": [
    "class Human:\n",
    "    def __init__(self,name,age,sex):\n",
    "        self.name=name\n",
    "        self.age=age\n",
    "        self.sex=sex\n",
    "    def who(self):\n",
    "        print(\"이름:{} 나이:{} 성별:{}\".format(self.name,self.age,self.sex))\n",
    "        \n",
    "areum=Human(\"아름\",25,\"여자\")\n",
    "areum.who()"
   ]
  },
  {
   "cell_type": "code",
   "execution_count": null,
   "id": "83df0b86",
   "metadata": {},
   "outputs": [],
   "source": [
    "class Human:\n",
    "    def __init__(self,name,age,sex):\n",
    "        self.name=name\n",
    "        self.age=age\n",
    "        self.sex=sex\n",
    "    def who(self):\n",
    "        print(\"이름:{} 나이:{} 성별:{}\".format(self.name,self.age,self.sex))\n",
    "    def setInfo(self,name,age,sex):\n",
    "        self.name=name\n",
    "        self.age=age\n",
    "        self.sex=sex\n"
   ]
  },
  {
   "cell_type": "code",
   "execution_count": 35,
   "id": "31442080",
   "metadata": {},
   "outputs": [],
   "source": [
    "class Human:\n",
    "    def __init__(self,name,age,sex):\n",
    "        self.name=name\n",
    "        self.age=age\n",
    "        self.sex=sex\n",
    "    def who(self):\n",
    "        print(\"이름:{} 나이:{} 성별:{}\".format(self.name,self.age,self.sex))\n",
    "    def setInfo(self,name,age,sex):\n",
    "        self.name=name\n",
    "        self.age=age\n",
    "        self.sex=sex\n",
    "    def __del__(self):\n",
    "        print(\"나의 죽음을 알리지마라\")"
   ]
  },
  {
   "cell_type": "code",
   "execution_count": 36,
   "id": "fc7a9d65",
   "metadata": {},
   "outputs": [
    {
     "name": "stdout",
     "output_type": "stream",
     "text": [
      "나의 죽음을 알리지마라\n"
     ]
    },
    {
     "ename": "NameError",
     "evalue": "name 'areum' is not defined",
     "output_type": "error",
     "traceback": [
      "\u001b[1;31m---------------------------------------------------------------------------\u001b[0m",
      "\u001b[1;31mNameError\u001b[0m                                 Traceback (most recent call last)",
      "Cell \u001b[1;32mIn[36], line 3\u001b[0m\n\u001b[0;32m      1\u001b[0m areum\u001b[38;5;241m=\u001b[39mHuman(\u001b[38;5;124m\"\u001b[39m\u001b[38;5;124m아름\u001b[39m\u001b[38;5;124m\"\u001b[39m,\u001b[38;5;241m25\u001b[39m,\u001b[38;5;124m\"\u001b[39m\u001b[38;5;124m여자\u001b[39m\u001b[38;5;124m\"\u001b[39m)\n\u001b[0;32m      2\u001b[0m \u001b[38;5;28;01mdel\u001b[39;00m(areum)\n\u001b[1;32m----> 3\u001b[0m \u001b[43mareum\u001b[49m\u001b[38;5;241m.\u001b[39mwho\n",
      "\u001b[1;31mNameError\u001b[0m: name 'areum' is not defined"
     ]
    }
   ],
   "source": [
    "areum=Human(\"아름\",25,\"여자\")\n",
    "del(areum)\n",
    "areum.who"
   ]
  },
  {
   "cell_type": "code",
   "execution_count": null,
   "id": "bd50cdc1",
   "metadata": {},
   "outputs": [],
   "source": []
  }
 ],
 "metadata": {
  "kernelspec": {
   "display_name": "Python 3 (ipykernel)",
   "language": "python",
   "name": "python3"
  },
  "language_info": {
   "codemirror_mode": {
    "name": "ipython",
    "version": 3
   },
   "file_extension": ".py",
   "mimetype": "text/x-python",
   "name": "python",
   "nbconvert_exporter": "python",
   "pygments_lexer": "ipython3",
   "version": "3.9.23"
  }
 },
 "nbformat": 4,
 "nbformat_minor": 5
}
