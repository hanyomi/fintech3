{
 "cells": [
  {
   "cell_type": "markdown",
   "id": "82d29b5c",
   "metadata": {},
   "source": [
    "# 모듈\n",
    "* 누군가가 미리 사용하기 편하게 만들어 놓은 함수, 클래스\n",
    "* import 명령을 이용해서 프로그램 가장 위에서 모듈을 불러와 사용할 수 있음\n",
    "* 모듈에 너무 많은 기능이 있는 경우 from 모듈명 import 함수/클래스 형식으로 일부 기능만 불러올 수 있음\n",
    "* 모듈은 사용자가 직접 만들 수 있음\n",
    "* 사용자 모듈을 불러올 때는 실행하는 파일과 같은 위치에 있어야 함"
   ]
  },
  {
   "cell_type": "markdown",
   "id": "f772a59a",
   "metadata": {},
   "source": [
    "# datetime 모듈 사용하기"
   ]
  },
  {
   "cell_type": "code",
   "execution_count": 1,
   "id": "3c62bc2a",
   "metadata": {},
   "outputs": [],
   "source": [
    "from datetime import datetime"
   ]
  },
  {
   "cell_type": "code",
   "execution_count": 2,
   "id": "106fc5e8",
   "metadata": {},
   "outputs": [
    {
     "data": {
      "text/plain": [
       "datetime.datetime(2025, 10, 13, 9, 13, 14, 35642)"
      ]
     },
     "execution_count": 2,
     "metadata": {},
     "output_type": "execute_result"
    }
   ],
   "source": [
    "datetime.now()"
   ]
  },
  {
   "cell_type": "code",
   "execution_count": 3,
   "id": "d95b45b2",
   "metadata": {},
   "outputs": [
    {
     "name": "stdout",
     "output_type": "stream",
     "text": [
      "2025-10-13 09:13:47.085640\n"
     ]
    }
   ],
   "source": [
    "now=datetime.now()\n",
    "print(now)"
   ]
  },
  {
   "cell_type": "code",
   "execution_count": 4,
   "id": "3a69f1cd",
   "metadata": {},
   "outputs": [
    {
     "data": {
      "text/plain": [
       "2025"
      ]
     },
     "execution_count": 4,
     "metadata": {},
     "output_type": "execute_result"
    }
   ],
   "source": [
    "now.year"
   ]
  },
  {
   "cell_type": "code",
   "execution_count": 5,
   "id": "511b8e12",
   "metadata": {},
   "outputs": [
    {
     "name": "stdout",
     "output_type": "stream",
     "text": [
      "<class 'datetime.datetime'>\n"
     ]
    }
   ],
   "source": [
    "print(type(now))"
   ]
  },
  {
   "cell_type": "code",
   "execution_count": 6,
   "id": "fc22826a",
   "metadata": {},
   "outputs": [
    {
     "data": {
      "text/plain": [
       "10"
      ]
     },
     "execution_count": 6,
     "metadata": {},
     "output_type": "execute_result"
    }
   ],
   "source": [
    "now.month"
   ]
  },
  {
   "cell_type": "code",
   "execution_count": 7,
   "id": "36a96f90",
   "metadata": {},
   "outputs": [
    {
     "data": {
      "text/plain": [
       "13"
      ]
     },
     "execution_count": 7,
     "metadata": {},
     "output_type": "execute_result"
    }
   ],
   "source": [
    "now.day"
   ]
  },
  {
   "cell_type": "markdown",
   "id": "48c2dc85",
   "metadata": {},
   "source": [
    "\"2025-10-13\""
   ]
  },
  {
   "cell_type": "code",
   "execution_count": 17,
   "id": "9420d76b",
   "metadata": {},
   "outputs": [
    {
     "name": "stdout",
     "output_type": "stream",
     "text": [
      "2025-10-13\n"
     ]
    }
   ],
   "source": [
    "print(f\"{now.year}-{now.month:02d}-{now.day:02d}\")"
   ]
  },
  {
   "cell_type": "markdown",
   "id": "b0232453",
   "metadata": {},
   "source": [
    "## 시간을 포멧에 맞춰 출력하기 strftime(%Y,%m)"
   ]
  },
  {
   "cell_type": "code",
   "execution_count": 19,
   "id": "19858a96",
   "metadata": {},
   "outputs": [
    {
     "data": {
      "text/plain": [
       "'2025.13.13 09:13:47'"
      ]
     },
     "execution_count": 19,
     "metadata": {},
     "output_type": "execute_result"
    }
   ],
   "source": [
    "now.strftime(\"%Y.%M.%d %H:%M:%S\")"
   ]
  },
  {
   "cell_type": "code",
   "execution_count": 20,
   "id": "65ea4af0",
   "metadata": {},
   "outputs": [
    {
     "data": {
      "text/plain": [
       "'25.10.13 09:13:47'"
      ]
     },
     "execution_count": 20,
     "metadata": {},
     "output_type": "execute_result"
    }
   ],
   "source": [
    "now.strftime(\"%y.%m.%d %H:%M:%S\")"
   ]
  },
  {
   "cell_type": "markdown",
   "id": "d5c3ae97",
   "metadata": {},
   "source": [
    "## OS모듈\n",
    "* cmd 명령어를 python 코드에서 실행하는 모듈"
   ]
  },
  {
   "cell_type": "code",
   "execution_count": 21,
   "id": "6a3c95c6",
   "metadata": {},
   "outputs": [],
   "source": [
    "import os"
   ]
  },
  {
   "cell_type": "code",
   "execution_count": 24,
   "id": "82ded7f3",
   "metadata": {},
   "outputs": [
    {
     "name": "stdout",
     "output_type": "stream",
     "text": [
      "현재 운영체제:  nt\n",
      "현재 사용하는 폴더:  c:\\fintech3\\04python\n",
      "현재 폴더 내부의 파일 리스트:  ['.ipynb_checkpoints', '01주피터노트북사용법.ipynb', '02파이썬 기초 문법.ipynb', '03변수_자료형_연산자.ipynb', '04문자열과_문자열함수_input.ipynb', '05리스트와 튜플 사용하기 초급편.ipynb', '06딕셔너리사용하기.ipynb', '07서식지정자와 문자열 포메팅.ipynb', '08조건문.ipynb', '09반복문_for_while.ipynb', '10리스트표현식_파일읽기쓰기_json자료정리.ipynb', '11JSON데이터 언패킹해서 CSV파일로 만들기.ipynb', '12함수만들기_예외처리.ipynb', '13클래스_객체지향형프로그래밍.ipynb', '14모듈사용하기_만들기.ipynb', 'data', '연습문제_01_print_자료형_연산자.ipynb', '연습문제_03_리스트_튜플_20문제.ipynb', '연습문제_04_딕셔너리_30문제.ipynb', '연습문제_05_딕셔너리_조건문_반복문연습문제_48문제.ipynb', '윤하영_Python연습문제_위키독스.ipynb', '윤하영_Python연습문제_위키독스_101-200.ipynb', '윤하영_Python연습문제_위키독스_201-240.ipynb']\n"
     ]
    }
   ],
   "source": [
    "# 내가 사용하는 컴퓨터의 기본정보 출력하기\n",
    "print(\"현재 운영체제: \",os.name)\n",
    "print(\"현재 사용하는 폴더: \",os.getcwd())\n",
    "print(\"현재 폴더 내부의 파일 리스트: \",os.listdir())"
   ]
  },
  {
   "cell_type": "code",
   "execution_count": 25,
   "id": "b16713a7",
   "metadata": {},
   "outputs": [],
   "source": [
    "# 현재 위치에서 폴더 만들기\n",
    "os.mkdir(\"testdir\")"
   ]
  },
  {
   "cell_type": "code",
   "execution_count": 26,
   "id": "68048a4d",
   "metadata": {},
   "outputs": [],
   "source": [
    "# 현재 위치에서 폴더 삭제하기\n",
    "os.rmdir(\"testdir\")"
   ]
  },
  {
   "cell_type": "code",
   "execution_count": 48,
   "id": "7cb8c823",
   "metadata": {},
   "outputs": [
    {
     "data": {
      "text/plain": [
       "0"
      ]
     },
     "execution_count": 48,
     "metadata": {},
     "output_type": "execute_result"
    }
   ],
   "source": [
    "# cmd 명령어 실행하기 실행완료 0 실패 1/ \n",
    "os.system(\"dir/w/a\")\n"
   ]
  },
  {
   "cell_type": "code",
   "execution_count": 30,
   "id": "98bf2fa1",
   "metadata": {},
   "outputs": [],
   "source": [
    "# 파일을 생성하고 파일 이름 변경하기\n",
    "with open(\"original.txt\",\"w\") as file:\n",
    "    file.write(\"안녕하세요\")"
   ]
  },
  {
   "cell_type": "code",
   "execution_count": 31,
   "id": "24a7aa0e",
   "metadata": {},
   "outputs": [],
   "source": [
    "os.rename(\"original.txt\",\"new_name.txt\")"
   ]
  },
  {
   "cell_type": "code",
   "execution_count": 33,
   "id": "bc4cac93",
   "metadata": {},
   "outputs": [
    {
     "name": "stdout",
     "output_type": "stream",
     "text": [
      "testdir이 이미 있습니다.\n"
     ]
    }
   ],
   "source": [
    "# 폴더가 있는지 확인하고 없으면 폴더 생성하기\n",
    "if not os.path.exists(\"./testdir\"):\n",
    "    os.mkdir(\"testdir\")\n",
    "else:\n",
    "    print(\"testdir이 이미 있습니다.\")"
   ]
  },
  {
   "cell_type": "code",
   "execution_count": 34,
   "id": "1fb8f748",
   "metadata": {},
   "outputs": [
    {
     "name": "stdout",
     "output_type": "stream",
     "text": [
      "value\n"
     ]
    }
   ],
   "source": [
    "# 환경변수에 변수와 값 추가하기/읽어오기/현재파일이 실행되는 동안에만 저장됨\n",
    "os.environ['key']=\"value\"\n",
    "\n",
    "# 등록된 환경변수 값 불러오기\n",
    "print(os.environ.get('key'))"
   ]
  },
  {
   "cell_type": "markdown",
   "id": "4307b937",
   "metadata": {},
   "source": [
    "## 내가 만든 함수, 클래스 불러와서 사용하기"
   ]
  },
  {
   "cell_type": "code",
   "execution_count": 1,
   "id": "fa400a78",
   "metadata": {},
   "outputs": [],
   "source": [
    "from mymodule import Cal,add"
   ]
  },
  {
   "cell_type": "code",
   "execution_count": 2,
   "id": "8b3ef667",
   "metadata": {},
   "outputs": [
    {
     "data": {
      "text/plain": [
       "7"
      ]
     },
     "execution_count": 2,
     "metadata": {},
     "output_type": "execute_result"
    }
   ],
   "source": [
    "add(3,4)"
   ]
  },
  {
   "cell_type": "code",
   "execution_count": 3,
   "id": "0adc3206",
   "metadata": {},
   "outputs": [],
   "source": [
    "sam=Cal(3,4)"
   ]
  },
  {
   "cell_type": "code",
   "execution_count": 4,
   "id": "5f487606",
   "metadata": {},
   "outputs": [
    {
     "data": {
      "text/plain": [
       "-1"
      ]
     },
     "execution_count": 4,
     "metadata": {},
     "output_type": "execute_result"
    }
   ],
   "source": [
    "sam.sub()"
   ]
  },
  {
   "cell_type": "code",
   "execution_count": null,
   "id": "d9fadafc",
   "metadata": {},
   "outputs": [],
   "source": []
  }
 ],
 "metadata": {
  "kernelspec": {
   "display_name": "Python 3 (ipykernel)",
   "language": "python",
   "name": "python3"
  },
  "language_info": {
   "codemirror_mode": {
    "name": "ipython",
    "version": 3
   },
   "file_extension": ".py",
   "mimetype": "text/x-python",
   "name": "python",
   "nbconvert_exporter": "python",
   "pygments_lexer": "ipython3",
   "version": "3.9.23"
  }
 },
 "nbformat": 4,
 "nbformat_minor": 5
}
