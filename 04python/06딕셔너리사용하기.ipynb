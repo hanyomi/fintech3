{
 "cells": [
  {
   "cell_type": "markdown",
   "id": "7aae22b4",
   "metadata": {},
   "source": [
    "# 딕셔너리 사용하기\n",
    "* dict타입, json 타입이라고도 함\n",
    "* web에서 자료를 주고 받을 때 주로 사용하는 형식(api)\n",
    "* key : value 쌍으로 이루어진 자료형\n",
    "* key를 호출하면 value가 나옴\n",
    "* key에는 list, dict를 제외한 자료형이 올 수 있음\n",
    "* value에는 모든 자료형이 올 수 있음"
   ]
  },
  {
   "cell_type": "markdown",
   "id": "14553c44",
   "metadata": {},
   "source": [
    "# 딕셔너리 만들기\n",
    "* 중괄호 안에 key: value 쌍으로 만든다.\n",
    "* 빈 딕셔너리 생성 가능 {}\n",
    "* dict()함수를 이용해서 대량의 딕셔너리 생성 가능"
   ]
  },
  {
   "cell_type": "code",
   "execution_count": 1,
   "id": "e860705d",
   "metadata": {},
   "outputs": [
    {
     "data": {
      "text/plain": [
       "{'년월': '20250924', '국가': '미국', '방문자수': 1000}"
      ]
     },
     "execution_count": 1,
     "metadata": {},
     "output_type": "execute_result"
    }
   ],
   "source": [
    "d={\"년월\": \"20250924\",\"국가\" : \"미국\", \"방문자수\":1000}\n",
    "d"
   ]
  },
  {
   "cell_type": "code",
   "execution_count": 3,
   "id": "00809327",
   "metadata": {},
   "outputs": [
    {
     "data": {
      "text/plain": [
       "'20250924'"
      ]
     },
     "execution_count": 3,
     "metadata": {},
     "output_type": "execute_result"
    }
   ],
   "source": [
    "d['년월']"
   ]
  },
  {
   "cell_type": "code",
   "execution_count": 4,
   "id": "f55f2998",
   "metadata": {},
   "outputs": [
    {
     "name": "stdout",
     "output_type": "stream",
     "text": [
      "{} <class 'dict'>\n"
     ]
    }
   ],
   "source": [
    "d2={}\n",
    "print(d2,type(d2))"
   ]
  },
  {
   "cell_type": "markdown",
   "id": "89d39c5f",
   "metadata": {},
   "source": [
    "## dict key의 자료형\n",
    "* list, dict를 제외한 나머지 자료형으로 만듦\n",
    "* 정수, 실수, 문자열, 블린(True,False), Tuple"
   ]
  },
  {
   "cell_type": "code",
   "execution_count": 6,
   "id": "d99236a8",
   "metadata": {},
   "outputs": [
    {
     "data": {
      "text/plain": [
       "{'백': 100, 100: '백', 3.5: [3.5, 3.7], False: 0, (0, '서울'): '강남구'}"
      ]
     },
     "execution_count": 6,
     "metadata": {},
     "output_type": "execute_result"
    }
   ],
   "source": [
    "d3={\"백\": 100, 100:\"백\",3.5:[3.5,3.7], False:0, (0,\"서울\"):\"강남구\"}\n",
    "d3"
   ]
  },
  {
   "cell_type": "code",
   "execution_count": 7,
   "id": "97ec5e0e",
   "metadata": {},
   "outputs": [
    {
     "ename": "TypeError",
     "evalue": "unhashable type: 'list'",
     "output_type": "error",
     "traceback": [
      "\u001b[1;31m---------------------------------------------------------------------------\u001b[0m",
      "\u001b[1;31mTypeError\u001b[0m                                 Traceback (most recent call last)",
      "Cell \u001b[1;32mIn[7], line 1\u001b[0m\n\u001b[1;32m----> 1\u001b[0m d3\u001b[38;5;241m=\u001b[39m{\u001b[38;5;124m\"\u001b[39m\u001b[38;5;124m백\u001b[39m\u001b[38;5;124m\"\u001b[39m: \u001b[38;5;241m100\u001b[39m, \u001b[38;5;241m100\u001b[39m:\u001b[38;5;124m\"\u001b[39m\u001b[38;5;124m백\u001b[39m\u001b[38;5;124m\"\u001b[39m,\u001b[38;5;241m3.5\u001b[39m:[\u001b[38;5;241m3.5\u001b[39m,\u001b[38;5;241m3.7\u001b[39m], \u001b[38;5;28;01mFalse\u001b[39;00m:\u001b[38;5;241m0\u001b[39m, (\u001b[38;5;241m0\u001b[39m,\u001b[38;5;124m\"\u001b[39m\u001b[38;5;124m서울\u001b[39m\u001b[38;5;124m\"\u001b[39m):\u001b[38;5;124m\"\u001b[39m\u001b[38;5;124m강남구\u001b[39m\u001b[38;5;124m\"\u001b[39m,[\u001b[38;5;241m1\u001b[39m,\u001b[38;5;241m2\u001b[39m]:\u001b[38;5;241m123\u001b[39m}\n\u001b[0;32m      2\u001b[0m d3\n",
      "\u001b[1;31mTypeError\u001b[0m: unhashable type: 'list'"
     ]
    }
   ],
   "source": [
    "d3={\"백\": 100, 100:\"백\",3.5:[3.5,3.7], False:0, (0,\"서울\"):\"강남구\",[1,2]:123}\n",
    "d3\n"
   ]
  },
  {
   "cell_type": "code",
   "execution_count": 8,
   "id": "f538d220",
   "metadata": {},
   "outputs": [
    {
     "data": {
      "text/plain": [
       "100"
      ]
     },
     "execution_count": 8,
     "metadata": {},
     "output_type": "execute_result"
    }
   ],
   "source": [
    "# 문자열 키\n",
    "d3[\"백\"]"
   ]
  },
  {
   "cell_type": "code",
   "execution_count": 9,
   "id": "9802ee2b",
   "metadata": {},
   "outputs": [
    {
     "data": {
      "text/plain": [
       "'백'"
      ]
     },
     "execution_count": 9,
     "metadata": {},
     "output_type": "execute_result"
    }
   ],
   "source": [
    "# 정수 키\n",
    "d3[100]"
   ]
  },
  {
   "cell_type": "code",
   "execution_count": 11,
   "id": "79c52ae7",
   "metadata": {},
   "outputs": [
    {
     "data": {
      "text/plain": [
       "[3.5, 3.7]"
      ]
     },
     "execution_count": 11,
     "metadata": {},
     "output_type": "execute_result"
    }
   ],
   "source": [
    "# 실수 키\n",
    "d3[3.5]"
   ]
  },
  {
   "cell_type": "code",
   "execution_count": 12,
   "id": "d629538e",
   "metadata": {},
   "outputs": [
    {
     "data": {
      "text/plain": [
       "'강남구'"
      ]
     },
     "execution_count": 12,
     "metadata": {},
     "output_type": "execute_result"
    }
   ],
   "source": [
    "# 튜플 키\n",
    "d3[(0, '서울')]"
   ]
  },
  {
   "cell_type": "markdown",
   "id": "3960d494",
   "metadata": {},
   "source": [
    "## 딕셔너리 value의 자료형\n",
    "* value는 모든 자료형이 올 수 있다."
   ]
  },
  {
   "cell_type": "code",
   "execution_count": 18,
   "id": "fac217e6",
   "metadata": {},
   "outputs": [
    {
     "data": {
      "text/plain": [
       "{'정수': 100,\n",
       " '실수': 3.5,\n",
       " '문자열': '딕셔너리의 값',\n",
       " '리스트': [1, 2, 3, 4],\n",
       " '튜플': (5, 6, 7, 8),\n",
       " '딕셔너리': {'key': 'value'},\n",
       " '블린': True}"
      ]
     },
     "execution_count": 18,
     "metadata": {},
     "output_type": "execute_result"
    }
   ],
   "source": [
    "d4={\"정수\":100, \"실수\":3.5, \"문자열\":\"딕셔너리의 값\",\n",
    "   \"리스트\":[1,2,3,4],\"튜플\":(5,6,7,8),\n",
    "   \"딕셔너리\":{\"key\":\"value\"}, \"블린\":True}\n",
    "d4"
   ]
  },
  {
   "cell_type": "code",
   "execution_count": 19,
   "id": "7ca52789",
   "metadata": {},
   "outputs": [
    {
     "data": {
      "text/plain": [
       "100"
      ]
     },
     "execution_count": 19,
     "metadata": {},
     "output_type": "execute_result"
    }
   ],
   "source": [
    "d4[\"정수\"]"
   ]
  },
  {
   "cell_type": "code",
   "execution_count": 20,
   "id": "ab285aef",
   "metadata": {},
   "outputs": [
    {
     "data": {
      "text/plain": [
       "3.5"
      ]
     },
     "execution_count": 20,
     "metadata": {},
     "output_type": "execute_result"
    }
   ],
   "source": [
    "d4[\"실수\"]"
   ]
  },
  {
   "cell_type": "code",
   "execution_count": 21,
   "id": "bf405f16",
   "metadata": {},
   "outputs": [
    {
     "data": {
      "text/plain": [
       "(5, 6, 7, 8)"
      ]
     },
     "execution_count": 21,
     "metadata": {},
     "output_type": "execute_result"
    }
   ],
   "source": [
    "d4[\"튜플\"]"
   ]
  },
  {
   "cell_type": "code",
   "execution_count": 22,
   "id": "a9ee0dc7",
   "metadata": {},
   "outputs": [
    {
     "data": {
      "text/plain": [
       "{'key': 'value'}"
      ]
     },
     "execution_count": 22,
     "metadata": {},
     "output_type": "execute_result"
    }
   ],
   "source": [
    "d4[\"딕셔너리\"]"
   ]
  },
  {
   "cell_type": "markdown",
   "id": "dbdfb4ce",
   "metadata": {},
   "source": [
    "## 빈 딕셔너리 만들기\n",
    "* 변수={}\n",
    "* 변수=dict()"
   ]
  },
  {
   "cell_type": "code",
   "execution_count": 23,
   "id": "edded022",
   "metadata": {},
   "outputs": [
    {
     "name": "stdout",
     "output_type": "stream",
     "text": [
      "{} <class 'dict'>\n"
     ]
    }
   ],
   "source": [
    "d5={}\n",
    "print(d5,type(d5))"
   ]
  },
  {
   "cell_type": "code",
   "execution_count": 24,
   "id": "8f7d3c5b",
   "metadata": {},
   "outputs": [
    {
     "name": "stdout",
     "output_type": "stream",
     "text": [
      "{} <class 'dict'>\n"
     ]
    }
   ],
   "source": [
    "d6=dict()\n",
    "print(d6,type(d6))"
   ]
  },
  {
   "cell_type": "markdown",
   "id": "160193a0",
   "metadata": {},
   "source": [
    "## 딕셔너리에 자료 추가하기\n",
    "* 변수['key'] = value\n",
    "* 이미 key가 있는 경우에는 자료가 수정됨, 나중에 입력한 자료로 덮어쓰기 됨"
   ]
  },
  {
   "cell_type": "code",
   "execution_count": 26,
   "id": "c6002c97",
   "metadata": {},
   "outputs": [
    {
     "data": {
      "text/plain": [
       "{}"
      ]
     },
     "execution_count": 26,
     "metadata": {},
     "output_type": "execute_result"
    }
   ],
   "source": [
    "d5"
   ]
  },
  {
   "cell_type": "code",
   "execution_count": 27,
   "id": "f546414c",
   "metadata": {},
   "outputs": [
    {
     "data": {
      "text/plain": [
       "{'번호': 0}"
      ]
     },
     "execution_count": 27,
     "metadata": {},
     "output_type": "execute_result"
    }
   ],
   "source": [
    "d5['번호']=0\n",
    "d5"
   ]
  },
  {
   "cell_type": "code",
   "execution_count": 28,
   "id": "8a0d576e",
   "metadata": {},
   "outputs": [
    {
     "data": {
      "text/plain": [
       "{'번호': 0, '리스트': [1, 2, 3]}"
      ]
     },
     "execution_count": 28,
     "metadata": {},
     "output_type": "execute_result"
    }
   ],
   "source": [
    "d5[\"리스트\"]=[1,2,3]\n",
    "d5"
   ]
  },
  {
   "cell_type": "code",
   "execution_count": 30,
   "id": "85fd30ae",
   "metadata": {},
   "outputs": [
    {
     "data": {
      "text/plain": [
       "{'번호': 0, '리스트': [1, 2, 3, 4]}"
      ]
     },
     "execution_count": 30,
     "metadata": {},
     "output_type": "execute_result"
    }
   ],
   "source": [
    "# 이미 키가 있는 경우 나중 값으로 대체됨\n",
    "d5[\"리스트\"]=[1,2,3,4]\n",
    "d5"
   ]
  },
  {
   "cell_type": "code",
   "execution_count": 31,
   "id": "44a87742",
   "metadata": {},
   "outputs": [
    {
     "ename": "SyntaxError",
     "evalue": "EOL while scanning string literal (499282815.py, line 1)",
     "output_type": "error",
     "traceback": [
      "\u001b[1;36m  Cell \u001b[1;32mIn[31], line 1\u001b[1;36m\u001b[0m\n\u001b[1;33m    d7={'번호':0, '이름':'홍길동',\"나이\":35,'\u001b[0m\n\u001b[1;37m                                    ^\u001b[0m\n\u001b[1;31mSyntaxError\u001b[0m\u001b[1;31m:\u001b[0m EOL while scanning string literal\n"
     ]
    }
   ],
   "source": [
    "d7={'번호':0, '이름':'홍길동',\"나이\":35,'\n",
    "    '번호':1, '이름':'둘리',\"나이\":15'}\n",
    "d7"
   ]
  },
  {
   "cell_type": "markdown",
   "id": "abdbd2bc",
   "metadata": {},
   "source": [
    "# dict 함수를 이용해서 dict 만들기\n",
    "* dict(key1=value1, key2=value2, key3=value3)\n",
    "* key 부분에 \"\"(따옴표)를 사용하지 않음\n",
    "* key는 모두 문자형으로 변환됨\n",
    "* value가 문자형이면 반드시 \"\":가 필요함"
   ]
  },
  {
   "cell_type": "code",
   "execution_count": 32,
   "id": "e0ad371c",
   "metadata": {},
   "outputs": [
    {
     "data": {
      "text/plain": [
       "{'정수': 100,\n",
       " '실수': 3.5,\n",
       " '문자': '문자열',\n",
       " '리스트': [1, 2, 3],\n",
       " '튜플': (4, 5, 6),\n",
       " '딕셔너리': {'key': 'value'}}"
      ]
     },
     "execution_count": 32,
     "metadata": {},
     "output_type": "execute_result"
    }
   ],
   "source": [
    "dict_ex1=dict(정수=100,실수=3.5,문자=\"문자열\",\n",
    "             리스트=[1,2,3],튜플=(4,5,6),딕셔너리={'key':'value'})\n",
    "dict_ex1"
   ]
  },
  {
   "cell_type": "markdown",
   "id": "dae6f076",
   "metadata": {},
   "source": [
    "* dict([(key1,value1),(key2,value2),(key3,value2)])\n",
    "* 리스트 안에 key, value 쌍으로 된 튜플을 넣어서 만듦\n",
    "* key는 자료형에 맞춰서 작성"
   ]
  },
  {
   "cell_type": "code",
   "execution_count": 35,
   "id": "fc29dc1d",
   "metadata": {},
   "outputs": [
    {
     "data": {
      "text/plain": [
       "{1: 10,\n",
       " 3.5: '3.5',\n",
       " '문자열': '문자열입니다.',\n",
       " 'list': [1, 2, 3],\n",
       " 'tuple': (4, 5, 6),\n",
       " 'dict': {'key': 'value'}}"
      ]
     },
     "execution_count": 35,
     "metadata": {},
     "output_type": "execute_result"
    }
   ],
   "source": [
    "dict_ex2=dict([(1,10),(3.5,\"3.5\"),(\"문자열\",\"문자열입니다.\"),\n",
    "              (\"list\",[1,2,3]),(\"tuple\",(4,5,6)),(\"dict\",{\"key\":\"value\"})])\n",
    "dict_ex2"
   ]
  },
  {
   "cell_type": "markdown",
   "id": "02b65279",
   "metadata": {},
   "source": [
    "* dict(zip([key1, key2, key3],[value1,value2,value3]))\n",
    "* key 묶음 리스트와 value 묶음 리스트를 zip함수로 합친 후 dict 생성\n",
    "* key 묶음의 요소 개수와 value 묶음의 요소 개수가 일치해야 함"
   ]
  },
  {
   "cell_type": "code",
   "execution_count": 37,
   "id": "ef8deba8",
   "metadata": {},
   "outputs": [
    {
     "name": "stdout",
     "output_type": "stream",
     "text": [
      "1 2 3 "
     ]
    }
   ],
   "source": [
    "# zip함수 예시\n",
    "for i in[1,2,3] :\n",
    "    print(i,end=\" \")"
   ]
  },
  {
   "cell_type": "code",
   "execution_count": 39,
   "id": "69e7a1fd",
   "metadata": {},
   "outputs": [
    {
     "name": "stdout",
     "output_type": "stream",
     "text": [
      "(1, 4, 7) (2, 5, 8) "
     ]
    }
   ],
   "source": [
    "for i in zip([1,2,3],[4,5,6],[7,8]) :\n",
    "    print(i,end=\" \")"
   ]
  },
  {
   "cell_type": "code",
   "execution_count": 42,
   "id": "93b669b3",
   "metadata": {},
   "outputs": [
    {
     "data": {
      "text/plain": [
       "{'정수': 10, '실수': 12.5, '문자열': '문자열입니다'}"
      ]
     },
     "execution_count": 42,
     "metadata": {},
     "output_type": "execute_result"
    }
   ],
   "source": [
    "dict_ex3= dict(zip([\"정수\",\"실수\",\"문자열\"],[10,12.5,\"문자열입니다\"]))\n",
    "dict_ex3"
   ]
  },
  {
   "cell_type": "markdown",
   "id": "5f0e9092",
   "metadata": {},
   "source": [
    "## 딕셔너리에 값 입력, 수정, 삭제하기"
   ]
  },
  {
   "cell_type": "code",
   "execution_count": 44,
   "id": "090ed805",
   "metadata": {},
   "outputs": [
    {
     "data": {
      "text/plain": [
       "{1: 10,\n",
       " 3.5: '3.5',\n",
       " '문자열': '문자열입니다.',\n",
       " 'list': [1, 2, 3],\n",
       " 'tuple': (4, 5, 6),\n",
       " 'dict': {'key': 'value'}}"
      ]
     },
     "execution_count": 44,
     "metadata": {},
     "output_type": "execute_result"
    }
   ],
   "source": [
    "dict_ex2"
   ]
  },
  {
   "cell_type": "code",
   "execution_count": 45,
   "id": "a5fba4c9",
   "metadata": {},
   "outputs": [
    {
     "data": {
      "text/plain": [
       "{1: 10,\n",
       " 3.5: '3.5',\n",
       " '문자열': '문자열입니다.',\n",
       " 'list': [1, 2, 3],\n",
       " 'tuple': (4, 5, 6),\n",
       " 'dict': {'key': 'value'},\n",
       " 'new key': '새로운 데이터'}"
      ]
     },
     "execution_count": 45,
     "metadata": {},
     "output_type": "execute_result"
    }
   ],
   "source": [
    "dict_ex2[\"new key\"]=\"새로운 데이터\"\n",
    "dict_ex2"
   ]
  },
  {
   "cell_type": "markdown",
   "id": "de159141",
   "metadata": {},
   "source": [
    "## 딕셔너리 안에 있는 list value에 새로운 값 추가, 수정, 삭제"
   ]
  },
  {
   "cell_type": "code",
   "execution_count": 53,
   "id": "59061055",
   "metadata": {},
   "outputs": [
    {
     "data": {
      "text/plain": [
       "13.5"
      ]
     },
     "execution_count": 53,
     "metadata": {},
     "output_type": "execute_result"
    }
   ],
   "source": [
    "# 정수, 문자열\n",
    "dict_ex2[1]+float(dict_ex2[3.5])"
   ]
  },
  {
   "cell_type": "code",
   "execution_count": 47,
   "id": "29828819",
   "metadata": {},
   "outputs": [
    {
     "data": {
      "text/plain": [
       "[1, 2, 3, 4]"
      ]
     },
     "execution_count": 47,
     "metadata": {},
     "output_type": "execute_result"
    }
   ],
   "source": [
    "dict_ex2[\"list\"].append(4)\n",
    "dict_ex2[\"list\"]"
   ]
  },
  {
   "cell_type": "code",
   "execution_count": 48,
   "id": "b092a484",
   "metadata": {},
   "outputs": [
    {
     "data": {
      "text/plain": [
       "4"
      ]
     },
     "execution_count": 48,
     "metadata": {},
     "output_type": "execute_result"
    }
   ],
   "source": [
    "max(dict_ex2[\"list\"])"
   ]
  },
  {
   "cell_type": "code",
   "execution_count": 50,
   "id": "1ed2d465",
   "metadata": {},
   "outputs": [
    {
     "data": {
      "text/plain": [
       "[1, 2, 30, 30, 3, 4]"
      ]
     },
     "execution_count": 50,
     "metadata": {},
     "output_type": "execute_result"
    }
   ],
   "source": [
    "dict_ex2[\"list\"].insert(2,30)\n",
    "dict_ex2[\"list\"]"
   ]
  },
  {
   "cell_type": "code",
   "execution_count": 51,
   "id": "5d2539f6",
   "metadata": {},
   "outputs": [
    {
     "data": {
      "text/plain": [
       "[1, 2, 33, 30, 3, 4]"
      ]
     },
     "execution_count": 51,
     "metadata": {},
     "output_type": "execute_result"
    }
   ],
   "source": [
    "dict_ex2[\"list\"][2]=33\n",
    "dict_ex2[\"list\"]"
   ]
  },
  {
   "cell_type": "code",
   "execution_count": 54,
   "id": "2a58eed9",
   "metadata": {},
   "outputs": [
    {
     "data": {
      "text/plain": [
       "4"
      ]
     },
     "execution_count": 54,
     "metadata": {},
     "output_type": "execute_result"
    }
   ],
   "source": [
    "dict_ex2[\"list\"].pop()"
   ]
  },
  {
   "cell_type": "code",
   "execution_count": 55,
   "id": "ee2dfe05",
   "metadata": {},
   "outputs": [
    {
     "data": {
      "text/plain": [
       "[1, 2, 33, 30, 3]"
      ]
     },
     "execution_count": 55,
     "metadata": {},
     "output_type": "execute_result"
    }
   ],
   "source": [
    "dict_ex2[\"list\"]"
   ]
  },
  {
   "cell_type": "code",
   "execution_count": 56,
   "id": "16f52448",
   "metadata": {},
   "outputs": [
    {
     "data": {
      "text/plain": [
       "[1, 33, 30, 3]"
      ]
     },
     "execution_count": 56,
     "metadata": {},
     "output_type": "execute_result"
    }
   ],
   "source": [
    "dict_ex2[\"list\"].remove(2)\n",
    "dict_ex2[\"list\"]"
   ]
  },
  {
   "cell_type": "code",
   "execution_count": 58,
   "id": "17e3d234",
   "metadata": {},
   "outputs": [
    {
     "data": {
      "text/plain": [
       "{1: 10,\n",
       " 3.5: '3.5',\n",
       " '문자열': '문자열입니다.',\n",
       " 'list': [1, 33, 30, 3],\n",
       " 'tuple': (4, 5, 6),\n",
       " 'dict': {'key': 'value'},\n",
       " 'new key': '새로운 데이터'}"
      ]
     },
     "execution_count": 58,
     "metadata": {},
     "output_type": "execute_result"
    }
   ],
   "source": [
    "dict_ex2"
   ]
  },
  {
   "cell_type": "code",
   "execution_count": 60,
   "id": "151bb56c",
   "metadata": {},
   "outputs": [
    {
     "data": {
      "text/plain": [
       "{'key': 'value', 'key2': 'value2'}"
      ]
     },
     "execution_count": 60,
     "metadata": {},
     "output_type": "execute_result"
    }
   ],
   "source": [
    "dict_ex2[\"dict\"][\"key2\"]=\"value2\"\n",
    "dict_ex2[\"dict\"]"
   ]
  },
  {
   "cell_type": "code",
   "execution_count": 61,
   "id": "d0d64f27",
   "metadata": {},
   "outputs": [
    {
     "data": {
      "text/plain": [
       "{'key': 'value'}"
      ]
     },
     "execution_count": 61,
     "metadata": {},
     "output_type": "execute_result"
    }
   ],
   "source": [
    "del dict_ex2[\"dict\"][\"key2\"]\n",
    "dict_ex2[\"dict\"]"
   ]
  },
  {
   "cell_type": "code",
   "execution_count": 62,
   "id": "4c852544",
   "metadata": {},
   "outputs": [
    {
     "data": {
      "text/plain": [
       "'새로운 데이터'"
      ]
     },
     "execution_count": 62,
     "metadata": {},
     "output_type": "execute_result"
    }
   ],
   "source": [
    "# pop() 을 이용해서 삭제-> 반드시 key를 넣어주어야 한다.\n",
    "dict_ex2.pop(\"new key\")"
   ]
  },
  {
   "cell_type": "code",
   "execution_count": 63,
   "id": "e2a709d5",
   "metadata": {},
   "outputs": [
    {
     "data": {
      "text/plain": [
       "{1: 10,\n",
       " 3.5: '3.5',\n",
       " '문자열': '문자열입니다.',\n",
       " 'list': [1, 33, 30, 3],\n",
       " 'tuple': (4, 5, 6),\n",
       " 'dict': {'key': 'value'}}"
      ]
     },
     "execution_count": 63,
     "metadata": {},
     "output_type": "execute_result"
    }
   ],
   "source": [
    "dict_ex2"
   ]
  },
  {
   "cell_type": "code",
   "execution_count": 64,
   "id": "a66b07b0",
   "metadata": {},
   "outputs": [
    {
     "data": {
      "text/plain": [
       "{1: 10,\n",
       " 3.5: '3.5',\n",
       " 'list': [1, 33, 30, 3],\n",
       " 'tuple': (4, 5, 6),\n",
       " 'dict': {'key': 'value'}}"
      ]
     },
     "execution_count": 64,
     "metadata": {},
     "output_type": "execute_result"
    }
   ],
   "source": [
    "dict_ex2.pop('문자열')\n",
    "dict_ex2"
   ]
  },
  {
   "cell_type": "markdown",
   "id": "e6d48fd2",
   "metadata": {},
   "source": [
    "## 딕셔너리 안에 특정 key가 있는지 확인하기\n",
    "* in, not in"
   ]
  },
  {
   "cell_type": "code",
   "execution_count": 66,
   "id": "c2611a51",
   "metadata": {},
   "outputs": [
    {
     "data": {
      "text/plain": [
       "True"
      ]
     },
     "execution_count": 66,
     "metadata": {},
     "output_type": "execute_result"
    }
   ],
   "source": [
    "\"정수\" in dict_ex1"
   ]
  },
  {
   "cell_type": "code",
   "execution_count": 67,
   "id": "971e4d95",
   "metadata": {},
   "outputs": [
    {
     "data": {
      "text/plain": [
       "False"
      ]
     },
     "execution_count": 67,
     "metadata": {},
     "output_type": "execute_result"
    }
   ],
   "source": [
    "\"정수2\" in dict_ex1"
   ]
  },
  {
   "cell_type": "markdown",
   "id": "3077d6ea",
   "metadata": {},
   "source": [
    "## 딕셔너리 안에 key가 몇 개 있는지 확인하기\n",
    "* len()\n",
    "* key의 개수만 출력\n",
    "* 가장 외부의 key 개수만 카운트, 내부 딕셔너리의 key는 따로 꺼내서 세야 함"
   ]
  },
  {
   "cell_type": "code",
   "execution_count": 68,
   "id": "81dd6cdd",
   "metadata": {},
   "outputs": [
    {
     "data": {
      "text/plain": [
       "{'info': [{'name': 'alice', 'scores': (95, 88, 92)},\n",
       "  {'name': 'bob', 'scores': (78, 85, 89)}],\n",
       " 'extra': {'hobbies': ['reading', 'coding'], 'location': ('seoul', 'busan')}}"
      ]
     },
     "execution_count": 68,
     "metadata": {},
     "output_type": "execute_result"
    }
   ],
   "source": [
    "data={\"info\":[{\"name\":\"alice\",\"scores\":(95,88,92)},\n",
    "             {\"name\":\"bob\",\"scores\":(78,85,89)}],\n",
    "     \"extra\":{\"hobbies\":[\"reading\",\"coding\"],\"location\":(\"seoul\",\"busan\")}\n",
    "     }\n",
    "data"
   ]
  },
  {
   "cell_type": "code",
   "execution_count": 69,
   "id": "0c282ed3",
   "metadata": {},
   "outputs": [
    {
     "data": {
      "text/plain": [
       "2"
      ]
     },
     "execution_count": 69,
     "metadata": {},
     "output_type": "execute_result"
    }
   ],
   "source": [
    "len(data)"
   ]
  },
  {
   "cell_type": "code",
   "execution_count": 71,
   "id": "c0cf247b",
   "metadata": {},
   "outputs": [
    {
     "data": {
      "text/plain": [
       "2"
      ]
     },
     "execution_count": 71,
     "metadata": {},
     "output_type": "execute_result"
    }
   ],
   "source": [
    "len(data[\"info\"][0])"
   ]
  },
  {
   "cell_type": "code",
   "execution_count": 74,
   "id": "07d921b2",
   "metadata": {},
   "outputs": [
    {
     "data": {
      "text/plain": [
       "95"
      ]
     },
     "execution_count": 74,
     "metadata": {},
     "output_type": "execute_result"
    }
   ],
   "source": [
    "# dict-list-dict-tuple-int\n",
    "data[\"info\"][0][\"scores\"][0]"
   ]
  },
  {
   "cell_type": "markdown",
   "id": "38e07f0b",
   "metadata": {},
   "source": [
    "# 딕셔너리 함수 사용하기\n"
   ]
  },
  {
   "cell_type": "markdown",
   "id": "23943a94",
   "metadata": {},
   "source": [
    "## setdefault(key, value) 딕셔너리에 자료 추가\n",
    "* 딕셔너리에 key와 value를 추가\n",
    "* key가 중복되면 나중에 추가하는 값을 무시(원래 자료 보존)\n",
    "* key만 넣고 value를 생략하면 자동으로 none 이 입력됨"
   ]
  },
  {
   "cell_type": "code",
   "execution_count": 76,
   "id": "ff81f61e",
   "metadata": {},
   "outputs": [
    {
     "data": {
      "text/plain": [
       "{'년월': '20250924', '국가': '미국', '방문자수': 1000}"
      ]
     },
     "execution_count": 76,
     "metadata": {},
     "output_type": "execute_result"
    }
   ],
   "source": [
    "d"
   ]
  },
  {
   "cell_type": "code",
   "execution_count": 77,
   "id": "2c5ad40e",
   "metadata": {},
   "outputs": [
    {
     "data": {
      "text/plain": [
       "{'년월': '20240924', '국가': '미국', '방문자수': 1000}"
      ]
     },
     "execution_count": 77,
     "metadata": {},
     "output_type": "execute_result"
    }
   ],
   "source": [
    "d[\"년월\"]='20240924'\n",
    "d"
   ]
  },
  {
   "cell_type": "code",
   "execution_count": 78,
   "id": "dfaad9e4",
   "metadata": {},
   "outputs": [
    {
     "data": {
      "text/plain": [
       "{'년월': '20240924', '국가': '미국', '방문자수': 1000}"
      ]
     },
     "execution_count": 78,
     "metadata": {},
     "output_type": "execute_result"
    }
   ],
   "source": [
    "# 기존에 key가 있는 경우 기존 key 의 value를 출력하고 새로운 값은 무시\n",
    "d.setdefault(\"년월\", 20250924)\n",
    "d"
   ]
  },
  {
   "cell_type": "code",
   "execution_count": 79,
   "id": "d6cb1f51",
   "metadata": {},
   "outputs": [
    {
     "data": {
      "text/plain": [
       "{'년월': '20240924', '국가': '미국', '방문자수': 1000, '날씨': '맑음'}"
      ]
     },
     "execution_count": 79,
     "metadata": {},
     "output_type": "execute_result"
    }
   ],
   "source": [
    "d.setdefault(\"날씨\",\"맑음\")\n",
    "d"
   ]
  },
  {
   "cell_type": "code",
   "execution_count": 80,
   "id": "bbdca303",
   "metadata": {},
   "outputs": [
    {
     "data": {
      "text/plain": [
       "{'년월': '20240924',\n",
       " '국가': '미국',\n",
       " '방문자수': 1000,\n",
       " '날씨': '맑음',\n",
       " '숫자': [1, 2, 3, 4, 5, 6, 7, 8, 9, 10]}"
      ]
     },
     "execution_count": 80,
     "metadata": {},
     "output_type": "execute_result"
    }
   ],
   "source": [
    "for i in range(1,11): \n",
    "    d.setdefault(\"숫자\",[]).append(i)\n",
    "d"
   ]
  },
  {
   "cell_type": "markdown",
   "id": "1f65c02e",
   "metadata": {},
   "source": [
    "# update(key=value)\n",
    "* 기존에 key가 있는 경우 값을 새로운 값으로 update\n",
    "* 기존에 key가 없는 경우 새로운 key와 value 생성\n",
    "* key 부분에는 \"' 를 사용하지 않음\n",
    "* 기존에 key가 없어 새로 추가하는 경우 key 부분에는 문자형 키만 들어올 수 있음\n",
    "* update는 문자형 key만 업데이트 가능"
   ]
  },
  {
   "cell_type": "code",
   "execution_count": 81,
   "id": "45e0c173",
   "metadata": {},
   "outputs": [
    {
     "data": {
      "text/plain": [
       "{'년월': '20240924',\n",
       " '국가': '미국',\n",
       " '방문자수': 1000,\n",
       " '날씨': '맑음',\n",
       " '숫자': [1, 2, 3, 4, 5, 6, 7, 8, 9, 10]}"
      ]
     },
     "execution_count": 81,
     "metadata": {},
     "output_type": "execute_result"
    }
   ],
   "source": [
    "d"
   ]
  },
  {
   "cell_type": "code",
   "execution_count": 82,
   "id": "44b4fb93",
   "metadata": {},
   "outputs": [],
   "source": [
    "d.update(방문자수=500)"
   ]
  },
  {
   "cell_type": "code",
   "execution_count": 83,
   "id": "44f14df1",
   "metadata": {},
   "outputs": [
    {
     "data": {
      "text/plain": [
       "{'년월': '20240924',\n",
       " '국가': '미국',\n",
       " '방문자수': 500,\n",
       " '날씨': '맑음',\n",
       " '숫자': [1, 2, 3, 4, 5, 6, 7, 8, 9, 10]}"
      ]
     },
     "execution_count": 83,
     "metadata": {},
     "output_type": "execute_result"
    }
   ],
   "source": [
    "d"
   ]
  },
  {
   "cell_type": "code",
   "execution_count": 84,
   "id": "ecde97e5",
   "metadata": {},
   "outputs": [
    {
     "data": {
      "text/plain": [
       "{'년월': '20240924',\n",
       " '국가': '미국',\n",
       " '방문자수': 500,\n",
       " '날씨': '맑음',\n",
       " '숫자': [1, 2, 3, 4, 5, 6, 7, 8, 9, 10],\n",
       " '바람': '강함'}"
      ]
     },
     "execution_count": 84,
     "metadata": {},
     "output_type": "execute_result"
    }
   ],
   "source": [
    "d.update(바람='강함')\n",
    "d"
   ]
  },
  {
   "cell_type": "code",
   "execution_count": 86,
   "id": "f73ff3c5",
   "metadata": {},
   "outputs": [
    {
     "ename": "SyntaxError",
     "evalue": "expression cannot contain assignment, perhaps you meant \"==\"? (2659136881.py, line 1)",
     "output_type": "error",
     "traceback": [
      "\u001b[1;36m  Cell \u001b[1;32mIn[86], line 1\u001b[1;36m\u001b[0m\n\u001b[1;33m    d.update(100='백')\u001b[0m\n\u001b[1;37m             ^\u001b[0m\n\u001b[1;31mSyntaxError\u001b[0m\u001b[1;31m:\u001b[0m expression cannot contain assignment, perhaps you meant \"==\"?\n"
     ]
    }
   ],
   "source": [
    "d.update(100='백')\n",
    "d"
   ]
  },
  {
   "cell_type": "code",
   "execution_count": 87,
   "id": "653c66da",
   "metadata": {},
   "outputs": [
    {
     "data": {
      "text/plain": [
       "{'년월': '20240924',\n",
       " '국가': '미국',\n",
       " '방문자수': 500,\n",
       " '날씨': '맑음',\n",
       " '숫자': [1, 2, 3, 4, 5, 6, 7, 8, 9, 10],\n",
       " '바람': '강함',\n",
       " 3: 300}"
      ]
     },
     "execution_count": 87,
     "metadata": {},
     "output_type": "execute_result"
    }
   ],
   "source": [
    "d[3]=300\n",
    "d"
   ]
  },
  {
   "cell_type": "markdown",
   "id": "3ff107a2",
   "metadata": {},
   "source": [
    "## 딕셔너리에서 value를 가져오는 함수 .get()\n",
    "* 딕셔너리에서 value를 보고 싶을 때는 key를 호출하면 됨\n",
    "* 만약 딕션리 안에 key가 없는데 호출하는 경우 오류 발생\n",
    "* .get(\"key\",\"key가 없을 때 출력할 내용\") key가 없어도 오류 발생 x , 기본값 출력\n",
    "* 딕셔너리 내에 key가 있다가 없다가를 반복하는 경우 오류 방지"
   ]
  },
  {
   "cell_type": "code",
   "execution_count": 88,
   "id": "96b75cea",
   "metadata": {},
   "outputs": [
    {
     "data": {
      "text/plain": [
       "'강함'"
      ]
     },
     "execution_count": 88,
     "metadata": {},
     "output_type": "execute_result"
    }
   ],
   "source": [
    "d[\"바람\"]"
   ]
  },
  {
   "cell_type": "code",
   "execution_count": 89,
   "id": "c76ace24",
   "metadata": {},
   "outputs": [
    {
     "ename": "KeyError",
     "evalue": "'강수량'",
     "output_type": "error",
     "traceback": [
      "\u001b[1;31m---------------------------------------------------------------------------\u001b[0m",
      "\u001b[1;31mKeyError\u001b[0m                                  Traceback (most recent call last)",
      "Cell \u001b[1;32mIn[89], line 1\u001b[0m\n\u001b[1;32m----> 1\u001b[0m \u001b[43md\u001b[49m\u001b[43m[\u001b[49m\u001b[38;5;124;43m\"\u001b[39;49m\u001b[38;5;124;43m강수량\u001b[39;49m\u001b[38;5;124;43m\"\u001b[39;49m\u001b[43m]\u001b[49m\n",
      "\u001b[1;31mKeyError\u001b[0m: '강수량'"
     ]
    }
   ],
   "source": [
    "d[\"강수량\"]"
   ]
  },
  {
   "cell_type": "code",
   "execution_count": 90,
   "id": "1b5b309f",
   "metadata": {},
   "outputs": [
    {
     "data": {
      "text/plain": [
       "'해당 키 없음'"
      ]
     },
     "execution_count": 90,
     "metadata": {},
     "output_type": "execute_result"
    }
   ],
   "source": [
    "d.get(\"강수량\",\"해당 키 없음\")"
   ]
  },
  {
   "cell_type": "markdown",
   "id": "72ae1801",
   "metadata": {},
   "source": [
    "## 딕셔너리에서 key, value, key+value 가져오는 함수\n",
    "* keys(): 딕셔너리에서 key만 출력\n",
    "* values(): 딕셔너리에서 value만 출력\n",
    "* items(): 딕셔너리에서 key, value를 튜플 묶음 형태로 출력 (key, value)\n",
    "* 위의 세 함수의 결과를 list()로 형변환을 해주면 list처럼 사용 가능"
   ]
  },
  {
   "cell_type": "code",
   "execution_count": 94,
   "id": "f61c2adf",
   "metadata": {},
   "outputs": [
    {
     "name": "stdout",
     "output_type": "stream",
     "text": [
      "<class 'dict_keys'> <class 'list'>\n"
     ]
    }
   ],
   "source": [
    "keys=list(data.keys())\n",
    "print(type(data.keys()),type(list(data.keys())))\n"
   ]
  },
  {
   "cell_type": "code",
   "execution_count": 95,
   "id": "da916903",
   "metadata": {},
   "outputs": [
    {
     "data": {
      "text/plain": [
       "'info'"
      ]
     },
     "execution_count": 95,
     "metadata": {},
     "output_type": "execute_result"
    }
   ],
   "source": [
    "keys[0]"
   ]
  },
  {
   "cell_type": "code",
   "execution_count": 100,
   "id": "074686f9",
   "metadata": {},
   "outputs": [
    {
     "data": {
      "text/plain": [
       "'name'"
      ]
     },
     "execution_count": 100,
     "metadata": {},
     "output_type": "execute_result"
    }
   ],
   "source": [
    "list(data[\"info\"][0].keys())[0]"
   ]
  },
  {
   "cell_type": "code",
   "execution_count": 103,
   "id": "598a79f8",
   "metadata": {},
   "outputs": [
    {
     "data": {
      "text/plain": [
       "dict_values([[{'name': 'alice', 'scores': (95, 88, 92)}, {'name': 'bob', 'scores': (78, 85, 89)}], {'hobbies': ['reading', 'coding'], 'location': ('seoul', 'busan')}])"
      ]
     },
     "execution_count": 103,
     "metadata": {},
     "output_type": "execute_result"
    }
   ],
   "source": [
    "# values\n",
    "values=data.values()\n",
    "values"
   ]
  },
  {
   "cell_type": "code",
   "execution_count": 105,
   "id": "3ac9667d",
   "metadata": {},
   "outputs": [
    {
     "data": {
      "text/plain": [
       "[[{'name': 'alice', 'scores': (95, 88, 92)},\n",
       "  {'name': 'bob', 'scores': (78, 85, 89)}],\n",
       " {'hobbies': ['reading', 'coding'], 'location': ('seoul', 'busan')}]"
      ]
     },
     "execution_count": 105,
     "metadata": {},
     "output_type": "execute_result"
    }
   ],
   "source": [
    "values=list(values)\n",
    "values"
   ]
  },
  {
   "cell_type": "code",
   "execution_count": 106,
   "id": "7c912873",
   "metadata": {},
   "outputs": [
    {
     "data": {
      "text/plain": [
       "dict_values(['bob', (78, 85, 89)])"
      ]
     },
     "execution_count": 106,
     "metadata": {},
     "output_type": "execute_result"
    }
   ],
   "source": [
    "values[0][1].values()"
   ]
  },
  {
   "cell_type": "code",
   "execution_count": 107,
   "id": "7209fdb8",
   "metadata": {},
   "outputs": [
    {
     "data": {
      "text/plain": [
       "dict_items([('info', [{'name': 'alice', 'scores': (95, 88, 92)}, {'name': 'bob', 'scores': (78, 85, 89)}]), ('extra', {'hobbies': ['reading', 'coding'], 'location': ('seoul', 'busan')})])"
      ]
     },
     "execution_count": 107,
     "metadata": {},
     "output_type": "execute_result"
    }
   ],
   "source": [
    "# items 는 (key, value) 형식으로 출력\n",
    "data.items()"
   ]
  },
  {
   "cell_type": "code",
   "execution_count": 108,
   "id": "43417ef6",
   "metadata": {},
   "outputs": [
    {
     "data": {
      "text/plain": [
       "[('info',\n",
       "  [{'name': 'alice', 'scores': (95, 88, 92)},\n",
       "   {'name': 'bob', 'scores': (78, 85, 89)}]),\n",
       " ('extra', {'hobbies': ['reading', 'coding'], 'location': ('seoul', 'busan')})]"
      ]
     },
     "execution_count": 108,
     "metadata": {},
     "output_type": "execute_result"
    }
   ],
   "source": [
    "items=list(data.items())\n",
    "items"
   ]
  },
  {
   "cell_type": "code",
   "execution_count": 109,
   "id": "a74ff10e",
   "metadata": {},
   "outputs": [
    {
     "data": {
      "text/plain": [
       "('info',\n",
       " [{'name': 'alice', 'scores': (95, 88, 92)},\n",
       "  {'name': 'bob', 'scores': (78, 85, 89)}])"
      ]
     },
     "execution_count": 109,
     "metadata": {},
     "output_type": "execute_result"
    }
   ],
   "source": [
    "items[0]"
   ]
  },
  {
   "cell_type": "code",
   "execution_count": 110,
   "id": "9311a53b",
   "metadata": {},
   "outputs": [
    {
     "data": {
      "text/plain": [
       "('extra', {'hobbies': ['reading', 'coding'], 'location': ('seoul', 'busan')})"
      ]
     },
     "execution_count": 110,
     "metadata": {},
     "output_type": "execute_result"
    }
   ],
   "source": [
    "items[1]"
   ]
  },
  {
   "cell_type": "code",
   "execution_count": 111,
   "id": "6aac9920",
   "metadata": {},
   "outputs": [
    {
     "data": {
      "text/plain": [
       "dict_keys(['년월', '국가', '방문자수', '날씨', '숫자', '바람', 3])"
      ]
     },
     "execution_count": 111,
     "metadata": {},
     "output_type": "execute_result"
    }
   ],
   "source": [
    "d.keys()"
   ]
  },
  {
   "cell_type": "code",
   "execution_count": 112,
   "id": "ce0fc12f",
   "metadata": {},
   "outputs": [
    {
     "data": {
      "text/plain": [
       "dict_values(['20240924', '미국', 500, '맑음', [1, 2, 3, 4, 5, 6, 7, 8, 9, 10], '강함', 300])"
      ]
     },
     "execution_count": 112,
     "metadata": {},
     "output_type": "execute_result"
    }
   ],
   "source": [
    "d.values()"
   ]
  },
  {
   "cell_type": "code",
   "execution_count": 113,
   "id": "20f4f7e1",
   "metadata": {},
   "outputs": [
    {
     "data": {
      "text/plain": [
       "dict_items([('년월', '20240924'), ('국가', '미국'), ('방문자수', 500), ('날씨', '맑음'), ('숫자', [1, 2, 3, 4, 5, 6, 7, 8, 9, 10]), ('바람', '강함'), (3, 300)])"
      ]
     },
     "execution_count": 113,
     "metadata": {},
     "output_type": "execute_result"
    }
   ],
   "source": [
    "d.items()"
   ]
  },
  {
   "cell_type": "code",
   "execution_count": 114,
   "id": "e6c5b932",
   "metadata": {},
   "outputs": [
    {
     "name": "stdout",
     "output_type": "stream",
     "text": [
      "년월\n",
      "국가\n",
      "방문자수\n",
      "날씨\n",
      "숫자\n",
      "바람\n",
      "3\n"
     ]
    }
   ],
   "source": [
    "for key in d.keys():\n",
    "    print(key)"
   ]
  },
  {
   "cell_type": "code",
   "execution_count": 115,
   "id": "0383448f",
   "metadata": {},
   "outputs": [
    {
     "name": "stdout",
     "output_type": "stream",
     "text": [
      "20240924\n",
      "미국\n",
      "500\n",
      "맑음\n",
      "[1, 2, 3, 4, 5, 6, 7, 8, 9, 10]\n",
      "강함\n",
      "300\n"
     ]
    }
   ],
   "source": [
    "for value in d.values():\n",
    "    print(value)"
   ]
  },
  {
   "cell_type": "code",
   "execution_count": 117,
   "id": "60e8224d",
   "metadata": {},
   "outputs": [
    {
     "name": "stdout",
     "output_type": "stream",
     "text": [
      "key:  년월 value:  20240924\n",
      "key:  국가 value:  미국\n",
      "key:  방문자수 value:  500\n",
      "key:  날씨 value:  맑음\n",
      "key:  숫자 value:  [1, 2, 3, 4, 5, 6, 7, 8, 9, 10]\n",
      "key:  바람 value:  강함\n",
      "key:  3 value:  300\n"
     ]
    }
   ],
   "source": [
    "for key, value in d.items():\n",
    "    print(\"key: \", key ,\"value: \",value)"
   ]
  },
  {
   "cell_type": "code",
   "execution_count": 118,
   "id": "0ce08a52",
   "metadata": {},
   "outputs": [
    {
     "name": "stdout",
     "output_type": "stream",
     "text": [
      "('년월', '20240924')\n",
      "('국가', '미국')\n",
      "('방문자수', 500)\n",
      "('날씨', '맑음')\n",
      "('숫자', [1, 2, 3, 4, 5, 6, 7, 8, 9, 10])\n",
      "('바람', '강함')\n",
      "(3, 300)\n"
     ]
    }
   ],
   "source": [
    "for item in d.items():\n",
    "    print(item)"
   ]
  },
  {
   "cell_type": "code",
   "execution_count": null,
   "id": "132604f5",
   "metadata": {},
   "outputs": [],
   "source": []
  }
 ],
 "metadata": {
  "kernelspec": {
   "display_name": "Python 3 (ipykernel)",
   "language": "python",
   "name": "python3"
  },
  "language_info": {
   "codemirror_mode": {
    "name": "ipython",
    "version": 3
   },
   "file_extension": ".py",
   "mimetype": "text/x-python",
   "name": "python",
   "nbconvert_exporter": "python",
   "pygments_lexer": "ipython3",
   "version": "3.9.23"
  }
 },
 "nbformat": 4,
 "nbformat_minor": 5
}
