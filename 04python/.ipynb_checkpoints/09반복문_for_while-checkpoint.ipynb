{
 "cells": [
  {
   "cell_type": "markdown",
   "id": "30ce4837",
   "metadata": {},
   "source": [
    "# 반복문 for, while\n",
    "* 반복문은  동일한 작업을 여러 번 반복해야 할 경우 사용\n",
    "* for, while 두 종류의 반복문이 있음\n",
    "* for **반복 횟수가 정해져 있는 경우** 사용\n",
    "* while은 **반복 횟수가 정해져 있지 않은 경우** 사용(무한 반복)"
   ]
  },
  {
   "cell_type": "markdown",
   "id": "3da39044",
   "metadata": {},
   "source": [
    "## for 반복문: 반복할 횟수가 정해져 있는 경우\n",
    "for 변수1, 변수2 in 반복할 객체/자료(문자열, 리스트, 튜플, 딕셔너리):<br>\n",
    "____반복할 코드"
   ]
  },
  {
   "cell_type": "markdown",
   "id": "ae336e52",
   "metadata": {},
   "source": [
    "### 숫자 생성 함수 range(시작, 끝, step)\n"
   ]
  },
  {
   "cell_type": "code",
   "execution_count": 4,
   "id": "3747821e",
   "metadata": {},
   "outputs": [
    {
     "name": "stdout",
     "output_type": "stream",
     "text": [
      "1  2  3  4  5  6  7  8  9  10  "
     ]
    }
   ],
   "source": [
    "#for 문을 이용해서 tntwk 1-10 출력\n",
    "for num in range(1,11):\n",
    "    print(num, end=\"  \")"
   ]
  },
  {
   "cell_type": "markdown",
   "id": "86e3428e",
   "metadata": {},
   "source": [
    "### 반복문에서 사용할 수 있는 자료형"
   ]
  },
  {
   "cell_type": "markdown",
   "id": "3c2c27c0",
   "metadata": {},
   "source": [
    "- 문자열"
   ]
  },
  {
   "cell_type": "code",
   "execution_count": 5,
   "id": "85d43bfc",
   "metadata": {},
   "outputs": [
    {
     "name": "stdout",
     "output_type": "stream",
     "text": [
      "파\n",
      "이\n",
      "썬\n",
      "은\n",
      " \n",
      "문\n",
      "자\n",
      "열\n",
      "을\n",
      " \n",
      "반\n",
      "복\n",
      "문\n",
      "에\n",
      " \n",
      "넣\n",
      "어\n",
      "서\n",
      " \n",
      "출\n",
      "력\n",
      " \n",
      "가\n",
      "능\n"
     ]
    }
   ],
   "source": [
    "for i in \"파이썬은 문자열을 반복문에 넣어서 출력 가능\":\n",
    "    print(i)"
   ]
  },
  {
   "cell_type": "markdown",
   "id": "d4cdcea6",
   "metadata": {},
   "source": [
    "_ 리스트/튜플"
   ]
  },
  {
   "cell_type": "code",
   "execution_count": 8,
   "id": "f95d4851",
   "metadata": {},
   "outputs": [
    {
     "name": "stdout",
     "output_type": "stream",
     "text": [
      "<class 'list'> <class 'tuple'>\n",
      "[1, 2, 3, 4.5, '리스트', [1, 2, 3], (4, 5, 6), {'key': 'value'}]\n",
      "(1, 2, 3, 4.5, '리스트', [1, 2, 3], (4, 5, 6), {'key': 'value'})\n"
     ]
    }
   ],
   "source": [
    "l1=[1,2,3,4.5,\"리스트\",[1,2,3],(4,5,6),{\"key\":\"value\"}]\n",
    "t1=tuple(l1)\n",
    "print(type(l1),type(t1))\n",
    "print(l1)\n",
    "print(t1)"
   ]
  },
  {
   "cell_type": "code",
   "execution_count": 9,
   "id": "1546dd56",
   "metadata": {},
   "outputs": [
    {
     "name": "stdout",
     "output_type": "stream",
     "text": [
      "1\n",
      "2\n",
      "3\n",
      "4.5\n",
      "리스트\n",
      "[1, 2, 3]\n",
      "(4, 5, 6)\n",
      "{'key': 'value'}\n"
     ]
    }
   ],
   "source": [
    "# 리스트를 반복문에 넣어서 요소를 하나씩 출력\n",
    "for i in l1:\n",
    "    print(i)"
   ]
  },
  {
   "cell_type": "code",
   "execution_count": 12,
   "id": "5c0a63ec",
   "metadata": {},
   "outputs": [
    {
     "name": "stdout",
     "output_type": "stream",
     "text": [
      "1 <class 'int'>\n",
      "2 <class 'int'>\n",
      "3 <class 'int'>\n",
      "4.5 <class 'float'>\n",
      "리스트 <class 'str'>\n",
      "[1, 2, 3] <class 'list'>\n",
      "(4, 5, 6) <class 'tuple'>\n",
      "{'key': 'value'} <class 'dict'>\n"
     ]
    }
   ],
   "source": [
    "# 튜플을 반복문에 넣어서 요소를 하나씩 출력\n",
    "for i in t1:\n",
    "    print(i,type(i))"
   ]
  },
  {
   "cell_type": "code",
   "execution_count": 34,
   "id": "5eead523",
   "metadata": {},
   "outputs": [
    {
     "data": {
      "text/plain": [
       "{'이름': '홍길동', '나이': 40, '주소': '서울', '전화번호': '010-1111-1111'}"
      ]
     },
     "execution_count": 34,
     "metadata": {},
     "output_type": "execute_result"
    }
   ],
   "source": [
    "d=dict(이름= \"홍길동\",나이=40,주소= \"서울\",전화번호=\"010-1111-1111\")\n",
    "d"
   ]
  },
  {
   "cell_type": "code",
   "execution_count": 35,
   "id": "375f2e48",
   "metadata": {},
   "outputs": [
    {
     "data": {
      "text/plain": [
       "4"
      ]
     },
     "execution_count": 35,
     "metadata": {},
     "output_type": "execute_result"
    }
   ],
   "source": [
    "# 딕셔너리는 lin을 사용시 key의 개수가 출력됨\n",
    "len(d)"
   ]
  },
  {
   "cell_type": "code",
   "execution_count": 36,
   "id": "dda3b081",
   "metadata": {},
   "outputs": [
    {
     "name": "stdout",
     "output_type": "stream",
     "text": [
      "이름\n",
      "나이\n",
      "주소\n",
      "전화번호\n"
     ]
    }
   ],
   "source": [
    "# 딕셔너리를 반복문에 넣으면 딕셔너리의 key가 출력\n",
    "for i in d:\n",
    "    print(i)"
   ]
  },
  {
   "cell_type": "code",
   "execution_count": 37,
   "id": "bf8faf14",
   "metadata": {},
   "outputs": [
    {
     "name": "stdout",
     "output_type": "stream",
     "text": [
      "홍길동\n",
      "홍길동\n",
      "40\n",
      "40\n",
      "서울\n",
      "서울\n",
      "010-1111-1111\n",
      "010-1111-1111\n"
     ]
    }
   ],
   "source": [
    "# key를 이용해 value를 출력\n",
    "for i in d:\n",
    "    print(d[i])\n",
    "    print(d.get(i,\"key없음\"))"
   ]
  },
  {
   "cell_type": "code",
   "execution_count": 38,
   "id": "5f47ce9f",
   "metadata": {},
   "outputs": [
    {
     "name": "stdout",
     "output_type": "stream",
     "text": [
      "<class 'dict_values'>\n"
     ]
    }
   ],
   "source": [
    "#딕셔너리 함수인 values()\n",
    "d.values()\n",
    "print(type(d.values()))"
   ]
  },
  {
   "cell_type": "code",
   "execution_count": 39,
   "id": "ccd0f087",
   "metadata": {},
   "outputs": [
    {
     "name": "stdout",
     "output_type": "stream",
     "text": [
      "홍길동\n",
      "40\n",
      "서울\n",
      "010-1111-1111\n"
     ]
    }
   ],
   "source": [
    "for i in d. values():\n",
    "    print(i)"
   ]
  },
  {
   "cell_type": "code",
   "execution_count": 40,
   "id": "d748d0c1",
   "metadata": {},
   "outputs": [
    {
     "name": "stdout",
     "output_type": "stream",
     "text": [
      "('이름', '홍길동')\n",
      "('나이', 40)\n",
      "('주소', '서울')\n",
      "('전화번호', '010-1111-1111')\n"
     ]
    }
   ],
   "source": [
    "# 딕셔너리의 key와 value를 동시에 출력\n",
    "for i in d.items():\n",
    "    print(i)"
   ]
  },
  {
   "cell_type": "code",
   "execution_count": 41,
   "id": "273f10c7",
   "metadata": {},
   "outputs": [
    {
     "name": "stdout",
     "output_type": "stream",
     "text": [
      "key:이름,value:홍길동\n",
      "key:나이,value:40\n",
      "key:주소,value:서울\n",
      "key:전화번호,value:010-1111-1111\n"
     ]
    }
   ],
   "source": [
    "for k,v in d.items():\n",
    "    print(f\"key:{k},value:{v}\")"
   ]
  },
  {
   "cell_type": "markdown",
   "id": "86a03b7c",
   "metadata": {},
   "source": [
    "* for 반복문을 이용해서 1부터 10까지 정수를 더한 합을 출력하세요"
   ]
  },
  {
   "cell_type": "code",
   "execution_count": 48,
   "id": "67e6185b",
   "metadata": {},
   "outputs": [
    {
     "name": "stdout",
     "output_type": "stream",
     "text": [
      "55\n"
     ]
    }
   ],
   "source": [
    "hap=0\n",
    "for num in range(1,11): \n",
    "    hap=hap+num\n",
    "print(hap)"
   ]
  },
  {
   "cell_type": "markdown",
   "id": "7dab0f37",
   "metadata": {},
   "source": [
    "* 1에서 50 사이의 숫자중에서 짝수만 더한 합을 구하세요\n",
    "    * 숫자를 1-50사이로 생성\n",
    "    * 짝수인지 판별 if\n",
    "    * hap 변수에 짝수만 합하기\n",
    "    * 합계 출력하기"
   ]
  },
  {
   "cell_type": "code",
   "execution_count": 60,
   "id": "0725a28b",
   "metadata": {},
   "outputs": [
    {
     "name": "stdout",
     "output_type": "stream",
     "text": [
      "650\n"
     ]
    }
   ],
   "source": [
    "hap=0\n",
    "for num in range(1,51):\n",
    "   #  print(num,end=\"  \")\n",
    "    if num %2==0:\n",
    "        hap=hap+num \n",
    "        # hap += num\n",
    "    # print(f\"hap:{hap},num:{num}\")\n",
    "print(hap)\n",
    "\n",
    "    "
   ]
  },
  {
   "cell_type": "markdown",
   "id": "52d52a8f",
   "metadata": {},
   "source": [
    "### 반복문에 사용할 자료를 일부 구간만 사용하기"
   ]
  },
  {
   "cell_type": "markdown",
   "id": "caca964e",
   "metadata": {},
   "source": [
    "* 슬라이싱"
   ]
  },
  {
   "cell_type": "markdown",
   "id": "c5123ef4",
   "metadata": {},
   "source": [
    "* 1부터 100까지 숫자를 생성하고 그 중에서 30-70까지만 더해서 출력하세요."
   ]
  },
  {
   "cell_type": "code",
   "execution_count": 66,
   "id": "cb1abfec",
   "metadata": {},
   "outputs": [
    {
     "name": "stdout",
     "output_type": "stream",
     "text": [
      "2050\n"
     ]
    }
   ],
   "source": [
    "# if 조건문을 이용해서 필터링\n",
    "hap=0\n",
    "for num in range(1,101):\n",
    "    # print(num,end=\" \")\n",
    "    if 30<=num<=70:\n",
    "        hap+=num\n",
    "        # print(f\"num:{num}, hap:{hap}\")\n",
    "print(hap)"
   ]
  },
  {
   "cell_type": "code",
   "execution_count": 68,
   "id": "5ea37541",
   "metadata": {},
   "outputs": [
    {
     "name": "stdout",
     "output_type": "stream",
     "text": [
      "2050\n"
     ]
    }
   ],
   "source": [
    "# 슬라이싱 활용\n",
    "hap=0\n",
    "for num in range(1,101)[29:70]:\n",
    "     hap+=num\n",
    "    # print(num,end=\" \")\n",
    "    \n",
    "print(hap)"
   ]
  },
  {
   "cell_type": "markdown",
   "id": "9b1a0e24",
   "metadata": {},
   "source": [
    "* 1-100까지 숫자중에서 짝수만 합 구하기(슬라이싱 이용)"
   ]
  },
  {
   "cell_type": "code",
   "execution_count": 70,
   "id": "1bb69ddc",
   "metadata": {},
   "outputs": [
    {
     "name": "stdout",
     "output_type": "stream",
     "text": [
      "2550\n"
     ]
    }
   ],
   "source": [
    "# 슬라이싱 활용\n",
    "hap=0\n",
    "for num in range(1,101)[1::2]:\n",
    "     hap+=num\n",
    "    # print(num,end=\" \")\n",
    "    \n",
    "print(hap)"
   ]
  },
  {
   "cell_type": "markdown",
   "id": "a43a7c5b",
   "metadata": {},
   "source": [
    "* 1에서 100까지 숫자를 생성하고 역순으로 출력하기"
   ]
  },
  {
   "cell_type": "code",
   "execution_count": 75,
   "id": "6e808f04",
   "metadata": {},
   "outputs": [
    {
     "name": "stdout",
     "output_type": "stream",
     "text": [
      "100  99  98  97  96  95  94  93  92  91  90  89  88  87  86  85  84  83  82  81  80  79  78  77  76  75  74  73  72  71  70  69  68  67  66  65  64  63  62  61  60  59  58  57  56  55  54  53  52  51  50  49  48  47  46  45  44  43  42  41  40  39  38  37  36  35  34  33  32  31  30  29  28  27  26  25  24  23  22  21  20  19  18  17  16  15  14  13  12  11  10  9  8  7  6  5  4  3  2  1  "
     ]
    }
   ],
   "source": [
    "# 슬라이싱으로/ range 함수에서 / reverse 함수로\n",
    "for num in range(1,101)[::-1]:\n",
    "# for num in range(101,1,-1):\n",
    "# for num in reverse(range(1,101)):\n",
    "# for num in sorted(range(1,101),reverse=True)\n",
    "    print(num,end=\"  \")"
   ]
  },
  {
   "cell_type": "markdown",
   "id": "ae918c1b",
   "metadata": {},
   "source": [
    "### enumerate()반복문에서 자료의 인덱스를 만들어주는 함수"
   ]
  },
  {
   "cell_type": "code",
   "execution_count": 77,
   "id": "f0aaeb40",
   "metadata": {},
   "outputs": [],
   "source": [
    "s=\"enumerate 함수는 반복문에서 index를 만들어 출력해주는 함수입니다.\""
   ]
  },
  {
   "cell_type": "code",
   "execution_count": 78,
   "id": "21aa7bfc",
   "metadata": {},
   "outputs": [],
   "source": [
    "import time"
   ]
  },
  {
   "cell_type": "code",
   "execution_count": 83,
   "id": "ca2433bd",
   "metadata": {},
   "outputs": [
    {
     "name": "stdout",
     "output_type": "stream",
     "text": [
      "e m a   는 복 서 n x 만   해   입 . "
     ]
    }
   ],
   "source": [
    "for idx, i in enumerate(s):\n",
    "  #  print(idx,i)\n",
    "    if idx %3==0:\n",
    "        print(i,end=\" \")"
   ]
  },
  {
   "cell_type": "code",
   "execution_count": 86,
   "id": "b5940cd6",
   "metadata": {},
   "outputs": [
    {
     "name": "stdout",
     "output_type": "stream",
     "text": [
      "43/43 실행중\r"
     ]
    }
   ],
   "source": [
    "for idx, i in enumerate(s):\n",
    "    print(f\"{idx+1}/{len(s)} 실행중\", end=\"\\r\")\n",
    "    time.sleep(0.1)"
   ]
  },
  {
   "cell_type": "code",
   "execution_count": 88,
   "id": "dc246f0c",
   "metadata": {},
   "outputs": [
    {
     "name": "stdout",
     "output_type": "stream",
     "text": [
      "(0, 'e')\n",
      "(1, 'n')\n",
      "(2, 'u')\n",
      "(3, 'm')\n",
      "(4, 'e')\n",
      "(5, 'r')\n",
      "(6, 'a')\n",
      "(7, 't')\n",
      "(8, 'e')\n",
      "(9, ' ')\n",
      "(10, '함')\n",
      "(11, '수')\n",
      "(12, '는')\n",
      "(13, ' ')\n",
      "(14, '반')\n",
      "(15, '복')\n",
      "(16, '문')\n",
      "(17, '에')\n",
      "(18, '서')\n",
      "(19, ' ')\n",
      "(20, 'i')\n",
      "(21, 'n')\n",
      "(22, 'd')\n",
      "(23, 'e')\n",
      "(24, 'x')\n",
      "(25, '를')\n",
      "(26, ' ')\n",
      "(27, '만')\n",
      "(28, '들')\n",
      "(29, '어')\n",
      "(30, ' ')\n",
      "(31, '출')\n",
      "(32, '력')\n",
      "(33, '해')\n",
      "(34, '주')\n",
      "(35, '는')\n",
      "(36, ' ')\n",
      "(37, '함')\n",
      "(38, '수')\n",
      "(39, '입')\n",
      "(40, '니')\n",
      "(41, '다')\n",
      "(42, '.')\n"
     ]
    }
   ],
   "source": [
    "for i in enumerate(s):\n",
    "    print(i)\n",
    "    time.sleep(0.1)"
   ]
  },
  {
   "cell_type": "markdown",
   "id": "9a1935c0",
   "metadata": {},
   "source": [
    "###continue/break\n",
    "* continue: 코드 실행을 건너 뛰고 반복 계속 진행\n",
    "* break: 특정 조건이 되었을 때 반복문 정지"
   ]
  },
  {
   "cell_type": "code",
   "execution_count": 93,
   "id": "e1dec165",
   "metadata": {},
   "outputs": [
    {
     "name": "stdout",
     "output_type": "stream",
     "text": [
      "1 n\n",
      "3 m\n",
      "5 r\n",
      "7 t\n",
      "9  \n",
      "11 수\n",
      "13  \n",
      "15 복\n",
      "17 에\n",
      "19  \n"
     ]
    }
   ],
   "source": [
    "for idx,i in enumerate(s):\n",
    "    if idx %2 ==0:\n",
    "        continue\n",
    "        print(idx,i)\n",
    "    else:\n",
    "        if idx>19 : \n",
    "            break\n",
    "        print(idx,i)"
   ]
  },
  {
   "cell_type": "code",
   "execution_count": 97,
   "id": "957b0849",
   "metadata": {},
   "outputs": [
    {
     "name": "stdout",
     "output_type": "stream",
     "text": [
      "홀수의 합:1225\n",
      "짝수의 리스트:[2, 4, 6, 8, 10, 12, 14, 16, 18, 20, 22, 24, 26, 28, 30, 32, 34, 36, 38, 40, 42, 44, 46, 48, 50, 52, 54, 56, 58, 60, 62, 64, 66, 68, 70]\n"
     ]
    }
   ],
   "source": [
    "# 1-100에서 숫자를 생성하고 홀수만 합계를 구하세요.\n",
    "# 짝수면 짝수만 모인 리스트를 만들고 출력하세요.\n",
    "# 숫자가 70을 초과하면 멈추세요\n",
    "hap=0\n",
    "even=[]\n",
    "for i in range(1,101):\n",
    "    if i >70:\n",
    "        break\n",
    "    else:\n",
    "        if i %2!= 0:\n",
    "            hap+=i\n",
    "        else:\n",
    "            even.append(i)\n",
    "print(f\"홀수의 합:{hap}\")\n",
    "print(f\"짝수의 리스트:{even}\")\n",
    "        "
   ]
  },
  {
   "cell_type": "markdown",
   "id": "81969e28",
   "metadata": {},
   "source": [
    "## while: 반복할 횟수가 정해지지 않은 경우\n",
    "* 무한 반복 가능\n",
    "* 무한 반복이 되지 않도록 조건식을 잘 짜주는 것이 중요\n",
    "\n",
    "변수 선언 및 초기회 num=0<br>\n",
    "while 조건식:<br>\n",
    "    반복할 코드<br<\n",
    "    변수증가/감소 코드<br>\n",
    "    반복문이 종료되는 조건 + break"
   ]
  },
  {
   "cell_type": "markdown",
   "id": "274dc3bd",
   "metadata": {},
   "source": [
    "* while 문으로 1-10까지 출력하기"
   ]
  },
  {
   "cell_type": "code",
   "execution_count": null,
   "id": "d154e791",
   "metadata": {},
   "outputs": [],
   "source": [
    "i = 1\n",
    "while i <=10:\n",
    "    print(i,end=\" \")\n",
    "    i+=1"
   ]
  },
  {
   "cell_type": "code",
   "execution_count": null,
   "id": "6a2b1796",
   "metadata": {},
   "outputs": [],
   "source": [
    "i = 1\n",
    "while i <=10:\n",
    "    print(i,end=\" \")\n",
    "    i+=1\n",
    "    if i >10:\n",
    "        break\n",
    "    1+=i=1\n"
   ]
  },
  {
   "cell_type": "markdown",
   "id": "0c2a00bf",
   "metadata": {},
   "source": [
    "1-5=까지 수 중에서 3배 배수이거나 짝수인 값을 찾아서 합체를 하게 출렦해주세요"
   ]
  },
  {
   "cell_type": "code",
   "execution_count": null,
   "id": "526fceb6",
   "metadata": {},
   "outputs": [],
   "source": [
    "i=1\n",
    "wap()\n",
    "wile(i)<=50"
   ]
  },
  {
   "cell_type": "code",
   "execution_count": null,
   "id": "6ccee529",
   "metadata": {},
   "outputs": [],
   "source": [
    "i=1\n",
    "hap=\n",
    "while i <=50\n",
    "if i%3==0or 0 or i%2==0:\n",
    "    hap+=1\n",
    "    print(f\"i:{i},hap:{hap}\")\n",
    "i+=1\n",
    "print(hap)"
   ]
  },
  {
   "cell_type": "markdown",
   "id": "05cc40ba",
   "metadata": {},
   "source": [
    "### while의 무한반복\n",
    "* while 뒤의 조건이 True인 경우 무한번복\n",
    "* while문 내에서 if 조건문으로 break를 걸처주어야 멈춤\n",
    "* True가 되는 조건: True, 1, 정수, 실수, 문자열, list 등 자료가 들어있는 모들 변수나 자료\n",
    "* False가 되는 조건: False, 0, 0.0,\"\",''[],(),{}"
   ]
  },
  {
   "cell_type": "code",
   "execution_count": null,
   "id": "79b85571",
   "metadata": {},
   "outputs": [],
   "source": [
    "i=True\n",
    "while =1\n",
    "    print(i,\"무한 반복\")\n",
    "    i+=1"
   ]
  },
  {
   "cell_type": "markdown",
   "id": "63114491",
   "metadata": {},
   "source": [
    "# 중첩 반복문\n",
    "* 반복문을 2개 이상 겹쳐서 사용\n",
    "* 시계의 원리와 같음\n",
    "* 초 60 -> 1분 , 60분-> 1시간, 24시간->하루\n",
    "* 안쪽 반복문이 끝난 후 바깥쪽 반복문이 실행\n",
    "* 아날로그 시계의 초침-> 분침-> 시침"
   ]
  },
  {
   "cell_type": "markdown",
   "id": "8229f3d0",
   "metadata": {},
   "source": [
    "### 구구단 만들기 2중 중첩 for문으로 작성\n",
    "* 2단 - 9단\n",
    "* 각 단마다 1-9\n",
    "* 2 * 1 = 2\n",
    "* 2 * 2 = 4"
   ]
  },
  {
   "cell_type": "code",
   "execution_count": 7,
   "id": "71025fd0",
   "metadata": {
    "scrolled": true
   },
   "outputs": [
    {
     "name": "stdout",
     "output_type": "stream",
     "text": [
      "2 * 1 = 2\n",
      "2 * 2 = 4\n",
      "2 * 3 = 6\n",
      "2 * 4 = 8\n",
      "2 * 5 = 10\n",
      "2 * 6 = 12\n",
      "2 * 7 = 14\n",
      "2 * 8 = 16\n",
      "2 * 9 = 18\n",
      "3 * 1 = 3\n",
      "3 * 2 = 6\n",
      "3 * 3 = 9\n",
      "3 * 4 = 12\n",
      "3 * 5 = 15\n",
      "3 * 6 = 18\n",
      "3 * 7 = 21\n",
      "3 * 8 = 24\n",
      "3 * 9 = 27\n",
      "4 * 1 = 4\n",
      "4 * 2 = 8\n",
      "4 * 3 = 12\n",
      "4 * 4 = 16\n",
      "4 * 5 = 20\n",
      "4 * 6 = 24\n",
      "4 * 7 = 28\n",
      "4 * 8 = 32\n",
      "4 * 9 = 36\n",
      "5 * 1 = 5\n",
      "5 * 2 = 10\n",
      "5 * 3 = 15\n",
      "5 * 4 = 20\n",
      "5 * 5 = 25\n",
      "5 * 6 = 30\n",
      "5 * 7 = 35\n",
      "5 * 8 = 40\n",
      "5 * 9 = 45\n",
      "6 * 1 = 6\n",
      "6 * 2 = 12\n",
      "6 * 3 = 18\n",
      "6 * 4 = 24\n",
      "6 * 5 = 30\n",
      "6 * 6 = 36\n",
      "6 * 7 = 42\n",
      "6 * 8 = 48\n",
      "6 * 9 = 54\n",
      "7 * 1 = 7\n",
      "7 * 2 = 14\n",
      "7 * 3 = 21\n",
      "7 * 4 = 28\n",
      "7 * 5 = 35\n",
      "7 * 6 = 42\n",
      "7 * 7 = 49\n",
      "7 * 8 = 56\n",
      "7 * 9 = 63\n",
      "8 * 1 = 8\n",
      "8 * 2 = 16\n",
      "8 * 3 = 24\n",
      "8 * 4 = 32\n",
      "8 * 5 = 40\n",
      "8 * 6 = 48\n",
      "8 * 7 = 56\n",
      "8 * 8 = 64\n",
      "8 * 9 = 72\n",
      "9 * 1 = 9\n",
      "9 * 2 = 18\n",
      "9 * 3 = 27\n",
      "9 * 4 = 36\n",
      "9 * 5 = 45\n",
      "9 * 6 = 54\n",
      "9 * 7 = 63\n",
      "9 * 8 = 72\n",
      "9 * 9 = 81\n"
     ]
    }
   ],
   "source": [
    "# 2단 - 9단\n",
    "for num1 in range(2,10):\n",
    "    #print(num1)\n",
    "    pass\n",
    "    for num2 in range(1,10):\n",
    "        print(f\"{num1} * {num2} = {num1 * num2}\")"
   ]
  },
  {
   "cell_type": "markdown",
   "id": "5397efe3",
   "metadata": {},
   "source": [
    "### 3개로 시계 만들기\n",
    "* 초:00-59\n",
    "* 분:00-59\n",
    "* 시:00-23\n",
    "import time\n",
    "time.sleep(0.1)\n",
    "* 00:00:00 23:59:59"
   ]
  },
  {
   "cell_type": "code",
   "execution_count": null,
   "id": "19d71fc8",
   "metadata": {},
   "outputs": [],
   "source": [
    "for hour in range(0,24):\n",
    "    for minute in range(0,60):\n",
    "        for second in range(0,60):\n",
    "             print(f\"{hour:02d}:{minute:02d}:{second:02d}\",end=\"\\r\")\n",
    "             import time \n",
    "             time.sleep(0.0001)"
   ]
  },
  {
   "cell_type": "markdown",
   "id": "edec55d9",
   "metadata": {},
   "source": [
    "### 중첩 반복문을 이용해서 다중 리스트 출력하기"
   ]
  },
  {
   "cell_type": "code",
   "execution_count": 25,
   "id": "58324540",
   "metadata": {},
   "outputs": [],
   "source": [
    "l1=[]"
   ]
  },
  {
   "cell_type": "code",
   "execution_count": 34,
   "id": "4ed3de3d",
   "metadata": {},
   "outputs": [],
   "source": [
    "l2=[\"오\",1,2,3,4,5]"
   ]
  },
  {
   "cell_type": "code",
   "execution_count": 35,
   "id": "5f0bea11",
   "metadata": {},
   "outputs": [
    {
     "data": {
      "text/plain": [
       "[['일', 1, 2, 3, 4, 5],\n",
       " ['이', 1, 2, 3, 4, 5],\n",
       " ['삼', 1, 2, 3, 4, 5],\n",
       " ['사', 1, 2, 3, 4, 5],\n",
       " ['오', 1, 2, 3, 4, 5]]"
      ]
     },
     "execution_count": 35,
     "metadata": {},
     "output_type": "execute_result"
    }
   ],
   "source": [
    "l1.append(l2)\n",
    "l1"
   ]
  },
  {
   "cell_type": "code",
   "execution_count": 41,
   "id": "91f7411e",
   "metadata": {},
   "outputs": [
    {
     "name": "stdout",
     "output_type": "stream",
     "text": [
      "['일', 1, 2, 3, 4, 5, '이', 1, 2, 3, 4, 5, '삼', 1, 2, 3, 4, 5, '사', 1, 2, 3, 4, 5, '오', 1, 2, 3, 4, 5] "
     ]
    }
   ],
   "source": [
    "result=[]\n",
    "for i in l1:\n",
    "    for j in i:\n",
    "        result.append(j)\n",
    "print(result,end=\" \")"
   ]
  },
  {
   "cell_type": "code",
   "execution_count": null,
   "id": "0f9296eb",
   "metadata": {},
   "outputs": [],
   "source": []
  }
 ],
 "metadata": {
  "kernelspec": {
   "display_name": "Python 3 (ipykernel)",
   "language": "python",
   "name": "python3"
  },
  "language_info": {
   "codemirror_mode": {
    "name": "ipython",
    "version": 3
   },
   "file_extension": ".py",
   "mimetype": "text/x-python",
   "name": "python",
   "nbconvert_exporter": "python",
   "pygments_lexer": "ipython3",
   "version": "3.9.23"
  }
 },
 "nbformat": 4,
 "nbformat_minor": 5
}
