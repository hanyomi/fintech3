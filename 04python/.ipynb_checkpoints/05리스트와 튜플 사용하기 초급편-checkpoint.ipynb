{
 "cells": [
  {
   "cell_type": "markdown",
   "id": "4b55ed36",
   "metadata": {},
   "source": [
    "## 리스트 만들기\n",
    "* 대괄호 안에 자료를 나열해서 만듬\n",
    "* 내용이 비어있는 리스트도 생성 가능[]\n",
    "* 자료가 1개만 있는 리스트도 생성 가능\n",
    "* 숫자로만 된 리스트의 경우 range()와 list 형변환 함수로 생성 가능"
   ]
  },
  {
   "cell_type": "code",
   "execution_count": 3,
   "id": "433a25cb",
   "metadata": {},
   "outputs": [
    {
     "data": {
      "text/plain": [
       "[]"
      ]
     },
     "execution_count": 3,
     "metadata": {},
     "output_type": "execute_result"
    }
   ],
   "source": [
    "# 빈 리스트 만들기\n",
    "l1=[]\n",
    "l1"
   ]
  },
  {
   "cell_type": "code",
   "execution_count": 4,
   "id": "80c14954",
   "metadata": {},
   "outputs": [
    {
     "name": "stdout",
     "output_type": "stream",
     "text": [
      "[] 0 <class 'list'>\n"
     ]
    }
   ],
   "source": [
    "print(l1,len(l1),type(l1))"
   ]
  },
  {
   "cell_type": "code",
   "execution_count": 7,
   "id": "fbea4a2c",
   "metadata": {},
   "outputs": [],
   "source": [
    "# 대괄호 안에 자료를 나열해서 만들기\n",
    "l2=[1,2,3,3.5,\"리스트\",(4,5,6),{\"key\":\"value\"}]"
   ]
  },
  {
   "cell_type": "code",
   "execution_count": 8,
   "id": "df7cd698",
   "metadata": {},
   "outputs": [
    {
     "name": "stdout",
     "output_type": "stream",
     "text": [
      "[1, 2, 3, 3.5, '리스트', (4, 5, 6), {'key': 'value'}] <class 'list'>\n"
     ]
    }
   ],
   "source": [
    "print(l2, type(l2))"
   ]
  },
  {
   "cell_type": "markdown",
   "id": "6f9c6be3",
   "metadata": {},
   "source": [
    "## range함수로 리스트 만들기\n",
    "* range(시작번호, 끝번호+1, step)"
   ]
  },
  {
   "cell_type": "code",
   "execution_count": 11,
   "id": "fdb29f28",
   "metadata": {},
   "outputs": [
    {
     "data": {
      "text/plain": [
       "[1, 3, 5, 7, 9]"
      ]
     },
     "execution_count": 11,
     "metadata": {},
     "output_type": "execute_result"
    }
   ],
   "source": [
    "list(range(1,11,2))"
   ]
  },
  {
   "cell_type": "code",
   "execution_count": 12,
   "id": "dd14fc14",
   "metadata": {},
   "outputs": [
    {
     "data": {
      "text/plain": [
       "[4,\n",
       " 8,\n",
       " 12,\n",
       " 16,\n",
       " 20,\n",
       " 24,\n",
       " 28,\n",
       " 32,\n",
       " 36,\n",
       " 40,\n",
       " 44,\n",
       " 48,\n",
       " 52,\n",
       " 56,\n",
       " 60,\n",
       " 64,\n",
       " 68,\n",
       " 72,\n",
       " 76,\n",
       " 80,\n",
       " 84,\n",
       " 88,\n",
       " 92,\n",
       " 96,\n",
       " 100]"
      ]
     },
     "execution_count": 12,
     "metadata": {},
     "output_type": "execute_result"
    }
   ],
   "source": [
    "# 4의 배수로 리스트 만들기\n",
    "list(range(4,101,4))"
   ]
  },
  {
   "cell_type": "code",
   "execution_count": 13,
   "id": "bf8f8a8a",
   "metadata": {
    "scrolled": true
   },
   "outputs": [
    {
     "data": {
      "text/plain": [
       "[100,\n",
       " 96,\n",
       " 92,\n",
       " 88,\n",
       " 84,\n",
       " 80,\n",
       " 76,\n",
       " 72,\n",
       " 68,\n",
       " 64,\n",
       " 60,\n",
       " 56,\n",
       " 52,\n",
       " 48,\n",
       " 44,\n",
       " 40,\n",
       " 36,\n",
       " 32,\n",
       " 28,\n",
       " 24,\n",
       " 20,\n",
       " 16,\n",
       " 12,\n",
       " 8,\n",
       " 4]"
      ]
     },
     "execution_count": 13,
     "metadata": {},
     "output_type": "execute_result"
    }
   ],
   "source": [
    "# 역순으로 리스트 만들기\n",
    "list(range(100,1,-4))"
   ]
  },
  {
   "cell_type": "markdown",
   "id": "5df160f4",
   "metadata": {},
   "source": [
    "# 리스트 함수"
   ]
  },
  {
   "cell_type": "markdown",
   "id": "9120c151",
   "metadata": {},
   "source": [
    "## .append()로 자료 추가"
   ]
  },
  {
   "cell_type": "code",
   "execution_count": 15,
   "id": "a7397474",
   "metadata": {},
   "outputs": [
    {
     "data": {
      "text/plain": [
       "[3.5, 3.5]"
      ]
     },
     "execution_count": 15,
     "metadata": {},
     "output_type": "execute_result"
    }
   ],
   "source": [
    "l1.append(3.5)\n",
    "l1"
   ]
  },
  {
   "cell_type": "code",
   "execution_count": 16,
   "id": "d0a676fd",
   "metadata": {},
   "outputs": [],
   "source": [
    "l1.append([1,2,3])"
   ]
  },
  {
   "cell_type": "code",
   "execution_count": 18,
   "id": "10322bd3",
   "metadata": {},
   "outputs": [
    {
     "data": {
      "text/plain": [
       "[3.5, 3.5, [1, 2, 3], (4, 5, 6)]"
      ]
     },
     "execution_count": 18,
     "metadata": {},
     "output_type": "execute_result"
    }
   ],
   "source": [
    "l1.append((4,5,6))\n",
    "l1"
   ]
  },
  {
   "cell_type": "markdown",
   "id": "9ae06793",
   "metadata": {},
   "source": [
    "## .insert() 특정 위치에 자료 추가\n",
    "* insert(추가할 위치의 인덱스, 추가할 값)"
   ]
  },
  {
   "cell_type": "code",
   "execution_count": 19,
   "id": "36439bad",
   "metadata": {},
   "outputs": [
    {
     "data": {
      "text/plain": [
       "[3.5, 3.5, [1, 2, 3], True, (4, 5, 6)]"
      ]
     },
     "execution_count": 19,
     "metadata": {},
     "output_type": "execute_result"
    }
   ],
   "source": [
    "#l1의 인덱스 3번에 True\n",
    "l1.insert(3,True)\n",
    "l1"
   ]
  },
  {
   "cell_type": "markdown",
   "id": "f1afb92f",
   "metadata": {},
   "source": [
    "## 리스트의 자료 삭제하기\n",
    "* del 변수명.[인덱스 번호].: 해당 인덱스의 자료 삭제\n",
    "* pop(): 리스트의 가장 끝 자료가 출력되면서 삭제\n",
    "* remove(값): 리스트의 앞에서부터 입력한 값과 일치하는 값을 찾아서 삭제(정수, 실수 구분 X)"
   ]
  },
  {
   "cell_type": "code",
   "execution_count": 20,
   "id": "24f47742",
   "metadata": {},
   "outputs": [
    {
     "data": {
      "text/plain": [
       "[3.5, 3.5, True, (4, 5, 6)]"
      ]
     },
     "execution_count": 20,
     "metadata": {},
     "output_type": "execute_result"
    }
   ],
   "source": [
    "del l1[2]\n",
    "l1"
   ]
  },
  {
   "cell_type": "code",
   "execution_count": 21,
   "id": "88f41952",
   "metadata": {},
   "outputs": [
    {
     "data": {
      "text/plain": [
       "[3.5, 3.5, True]"
      ]
     },
     "execution_count": 21,
     "metadata": {},
     "output_type": "execute_result"
    }
   ],
   "source": [
    "l1.pop()\n",
    "l1"
   ]
  },
  {
   "cell_type": "code",
   "execution_count": 22,
   "id": "d4f050b8",
   "metadata": {},
   "outputs": [
    {
     "data": {
      "text/plain": [
       "[3.0, 3.5, 3.5, True]"
      ]
     },
     "execution_count": 22,
     "metadata": {},
     "output_type": "execute_result"
    }
   ],
   "source": [
    "l1.insert(0,3.0)\n",
    "l1"
   ]
  },
  {
   "cell_type": "code",
   "execution_count": 25,
   "id": "5d23313b",
   "metadata": {},
   "outputs": [
    {
     "data": {
      "text/plain": [
       "[3.5, True]"
      ]
     },
     "execution_count": 25,
     "metadata": {},
     "output_type": "execute_result"
    }
   ],
   "source": [
    "l1.remove(3.5)\n",
    "l1"
   ]
  },
  {
   "cell_type": "markdown",
   "id": "9d86ad1d",
   "metadata": {},
   "source": [
    "# "
   ]
  },
  {
   "cell_type": "code",
   "execution_count": 26,
   "id": "a5ef14c5",
   "metadata": {},
   "outputs": [
    {
     "ename": "ValueError",
     "evalue": "list.remove(x): x not in list",
     "output_type": "error",
     "traceback": [
      "\u001b[1;31m---------------------------------------------------------------------------\u001b[0m",
      "\u001b[1;31mValueError\u001b[0m                                Traceback (most recent call last)",
      "Cell \u001b[1;32mIn[26], line 1\u001b[0m\n\u001b[1;32m----> 1\u001b[0m \u001b[43ml1\u001b[49m\u001b[38;5;241;43m.\u001b[39;49m\u001b[43mremove\u001b[49m\u001b[43m(\u001b[49m\u001b[38;5;241;43m3\u001b[39;49m\u001b[43m)\u001b[49m\n\u001b[0;32m      2\u001b[0m l1\n",
      "\u001b[1;31mValueError\u001b[0m: list.remove(x): x not in list"
     ]
    }
   ],
   "source": [
    "l1.remove(3)\n",
    "l1"
   ]
  },
  {
   "cell_type": "markdown",
   "id": "121bf518",
   "metadata": {},
   "source": [
    "## 리스트 확장하기.extend()\n",
    "* 리스트에 자료를 추가하되 요소만 추가\n"
   ]
  },
  {
   "cell_type": "code",
   "execution_count": 28,
   "id": "55a57784",
   "metadata": {},
   "outputs": [],
   "source": [
    "a=[1,2,3]\n",
    "b=[4,5,6]"
   ]
  },
  {
   "cell_type": "code",
   "execution_count": 30,
   "id": "b1488a56",
   "metadata": {},
   "outputs": [
    {
     "data": {
      "text/plain": [
       "[1, 2, 3, [4, 5, 6], [4, 5, 6]]"
      ]
     },
     "execution_count": 30,
     "metadata": {},
     "output_type": "execute_result"
    }
   ],
   "source": [
    "# append는 리스트 형태 그대로 리스트에 추가 됨\n",
    "a.append(b)\n",
    "a"
   ]
  },
  {
   "cell_type": "code",
   "execution_count": 31,
   "id": "a58996f2",
   "metadata": {},
   "outputs": [
    {
     "data": {
      "text/plain": [
       "[4, 5, 6, 7, 8, 9]"
      ]
     },
     "execution_count": 31,
     "metadata": {},
     "output_type": "execute_result"
    }
   ],
   "source": [
    "# extend는 리스트형태 없이 자료만 추가\n",
    "b.extend([7,8,9])\n",
    "b"
   ]
  },
  {
   "cell_type": "code",
   "execution_count": 32,
   "id": "2bd28f0a",
   "metadata": {},
   "outputs": [
    {
     "data": {
      "text/plain": [
       "8"
      ]
     },
     "execution_count": 32,
     "metadata": {},
     "output_type": "execute_result"
    }
   ],
   "source": [
    "b[4]"
   ]
  },
  {
   "cell_type": "markdown",
   "id": "492625fa",
   "metadata": {},
   "source": [
    "## list + list == extend()"
   ]
  },
  {
   "cell_type": "code",
   "execution_count": 33,
   "id": "e54f3142",
   "metadata": {},
   "outputs": [],
   "source": [
    "a=[1,2,3]\n",
    "b=[4,5,6]"
   ]
  },
  {
   "cell_type": "code",
   "execution_count": 34,
   "id": "b788a589",
   "metadata": {},
   "outputs": [
    {
     "data": {
      "text/plain": [
       "[1, 2, 3, 4, 5, 6]"
      ]
     },
     "execution_count": 34,
     "metadata": {},
     "output_type": "execute_result"
    }
   ],
   "source": [
    "a+b"
   ]
  },
  {
   "cell_type": "markdown",
   "id": "c5c00dd2",
   "metadata": {},
   "source": [
    "## 리스트 안에서 원하는 값의 인덱스 찾기\n",
    "* in, not in : 리스트 안에서 원하는 값이 있는지 확인 True/False\n",
    "* 원하는 값이 있는 위치를 찾을 때 .index(찾을 값, 시작 인덱스) - 가장 앞의 인덱스만 반환\n",
    "* 동일한 값이 여러개 있는 경우 가장 앞의 인덱스 반환\n",
    "* 2번째 이상의 자료를 찾으려면 옵션에 시작 인덱스를 지정하면 됨"
   ]
  },
  {
   "cell_type": "code",
   "execution_count": 36,
   "id": "3f87c061",
   "metadata": {},
   "outputs": [
    {
     "data": {
      "text/plain": [
       "[1, 2, 3, [3, 4, 5, 6, 7, 9], [4, 5, 6, 7, 8, 9], 3, 4, 5, 7, 8, 9]"
      ]
     },
     "execution_count": 36,
     "metadata": {},
     "output_type": "execute_result"
    }
   ],
   "source": [
    "a=[1,2,3,[3,4,5,6,7,9],[4,5,6,7,8,9],3,4,5,7,8,9]\n",
    "a"
   ]
  },
  {
   "cell_type": "code",
   "execution_count": 37,
   "id": "44a6cd56",
   "metadata": {},
   "outputs": [
    {
     "data": {
      "text/plain": [
       "True"
      ]
     },
     "execution_count": 37,
     "metadata": {},
     "output_type": "execute_result"
    }
   ],
   "source": [
    "4 in a"
   ]
  },
  {
   "cell_type": "code",
   "execution_count": 38,
   "id": "29d56a91",
   "metadata": {},
   "outputs": [
    {
     "data": {
      "text/plain": [
       "6"
      ]
     },
     "execution_count": 38,
     "metadata": {},
     "output_type": "execute_result"
    }
   ],
   "source": [
    "a.index(4)"
   ]
  },
  {
   "cell_type": "code",
   "execution_count": 39,
   "id": "f29cbac6",
   "metadata": {},
   "outputs": [
    {
     "data": {
      "text/plain": [
       "[1, 2, 3, [3, 4, 5, 6, 7, 9], [4, 5, 6, 7, 8, 9], 3, 5, 7, 8, 9]"
      ]
     },
     "execution_count": 39,
     "metadata": {},
     "output_type": "execute_result"
    }
   ],
   "source": [
    "a.remove(4)\n",
    "a"
   ]
  },
  {
   "cell_type": "code",
   "execution_count": 40,
   "id": "76b500bb",
   "metadata": {},
   "outputs": [
    {
     "data": {
      "text/plain": [
       "False"
      ]
     },
     "execution_count": 40,
     "metadata": {},
     "output_type": "execute_result"
    }
   ],
   "source": [
    "4 in a"
   ]
  },
  {
   "cell_type": "code",
   "execution_count": 41,
   "id": "a13a2ccc",
   "metadata": {},
   "outputs": [
    {
     "data": {
      "text/plain": [
       "True"
      ]
     },
     "execution_count": 41,
     "metadata": {},
     "output_type": "execute_result"
    }
   ],
   "source": [
    "4 in a[3]"
   ]
  },
  {
   "cell_type": "code",
   "execution_count": 42,
   "id": "ca9fa9f3",
   "metadata": {},
   "outputs": [
    {
     "data": {
      "text/plain": [
       "5"
      ]
     },
     "execution_count": 42,
     "metadata": {},
     "output_type": "execute_result"
    }
   ],
   "source": [
    "a.index(3,3)"
   ]
  },
  {
   "cell_type": "markdown",
   "id": "20ddd092",
   "metadata": {},
   "source": [
    "## 리스트 안에서 특정 값의 개수 구하기 .count()"
   ]
  },
  {
   "cell_type": "code",
   "execution_count": 43,
   "id": "f75fcf30",
   "metadata": {},
   "outputs": [
    {
     "data": {
      "text/plain": [
       "[1, 2, 3, [3, 4, 5, 6, 7, 9], [4, 5, 6, 7, 8, 9], 3, 5, 7, 8, 9]"
      ]
     },
     "execution_count": 43,
     "metadata": {},
     "output_type": "execute_result"
    }
   ],
   "source": [
    "a"
   ]
  },
  {
   "cell_type": "code",
   "execution_count": 45,
   "id": "74f9fd06",
   "metadata": {},
   "outputs": [
    {
     "data": {
      "text/plain": [
       "1"
      ]
     },
     "execution_count": 45,
     "metadata": {},
     "output_type": "execute_result"
    }
   ],
   "source": [
    "a[3].count(3)"
   ]
  },
  {
   "cell_type": "markdown",
   "id": "7ca97b60",
   "metadata": {},
   "source": [
    "## 리스트 순서 뒤집기 \n",
    "* .reverse():실행 즉시 원본 데이터 변경\n",
    "* reversed(리스트): 재할당을 해야 저장\n",
    "* 리스트[::-1]: 역인덱싱으로 뒤집기"
   ]
  },
  {
   "cell_type": "code",
   "execution_count": 46,
   "id": "6eb04589",
   "metadata": {},
   "outputs": [],
   "source": [
    "a.reverse()"
   ]
  },
  {
   "cell_type": "code",
   "execution_count": 47,
   "id": "f95ced6e",
   "metadata": {},
   "outputs": [
    {
     "data": {
      "text/plain": [
       "[9, 8, 7, 5, 3, [4, 5, 6, 7, 8, 9], [3, 4, 5, 6, 7, 9], 3, 2, 1]"
      ]
     },
     "execution_count": 47,
     "metadata": {},
     "output_type": "execute_result"
    }
   ],
   "source": [
    "a"
   ]
  },
  {
   "cell_type": "code",
   "execution_count": 48,
   "id": "e7242dde",
   "metadata": {},
   "outputs": [
    {
     "data": {
      "text/plain": [
       "[1, 2, 3, [3, 4, 5, 6, 7, 9], [4, 5, 6, 7, 8, 9], 3, 5, 7, 8, 9]"
      ]
     },
     "execution_count": 48,
     "metadata": {},
     "output_type": "execute_result"
    }
   ],
   "source": [
    "a.reverse()\n",
    "a"
   ]
  },
  {
   "cell_type": "code",
   "execution_count": 49,
   "id": "3fd6803d",
   "metadata": {},
   "outputs": [
    {
     "data": {
      "text/plain": [
       "[9, 8, 7, 5, 3, [4, 5, 6, 7, 8, 9], [3, 4, 5, 6, 7, 9], 3, 2, 1]"
      ]
     },
     "execution_count": 49,
     "metadata": {},
     "output_type": "execute_result"
    }
   ],
   "source": [
    "a[::-1]"
   ]
  },
  {
   "cell_type": "code",
   "execution_count": 50,
   "id": "c29d1e6c",
   "metadata": {},
   "outputs": [
    {
     "data": {
      "text/plain": [
       "[1, 2, 3, [3, 4, 5, 6, 7, 9], [4, 5, 6, 7, 8, 9], 3, 5, 7, 8, 9]"
      ]
     },
     "execution_count": 50,
     "metadata": {},
     "output_type": "execute_result"
    }
   ],
   "source": [
    "a"
   ]
  },
  {
   "cell_type": "code",
   "execution_count": 53,
   "id": "a54d1121",
   "metadata": {},
   "outputs": [
    {
     "data": {
      "text/plain": [
       "[1, 2, 3, 4, 5, 6, 7, 8, 9, 10]"
      ]
     },
     "execution_count": 53,
     "metadata": {},
     "output_type": "execute_result"
    }
   ],
   "source": [
    "a=list(range(1,11))\n",
    "a"
   ]
  },
  {
   "cell_type": "code",
   "execution_count": 54,
   "id": "6832f854",
   "metadata": {},
   "outputs": [
    {
     "data": {
      "text/plain": [
       "[10, 9, 8, 7, 6, 5, 4, 3, 2, 1]"
      ]
     },
     "execution_count": 54,
     "metadata": {},
     "output_type": "execute_result"
    }
   ],
   "source": [
    "list(reversed(a))"
   ]
  },
  {
   "cell_type": "markdown",
   "id": "2ccafdb1",
   "metadata": {},
   "source": [
    "## 리스트 정렬\n",
    "* .sort(): 오름차순 - 실행 후 바로 저장\n",
    "* .sort(reverse=True): 내림차순 - 실행 후 바로 저장\n",
    "* sorted(리스트): 오름차순 - 재할당 필요\n",
    "* sorted(reverse=True): 내림차순 - 재할당 필요"
   ]
  },
  {
   "cell_type": "code",
   "execution_count": 55,
   "id": "520d2c27",
   "metadata": {},
   "outputs": [
    {
     "data": {
      "text/plain": [
       "[1, 2, 3, 4, 5, 6, 7, 8, 9, 10]"
      ]
     },
     "execution_count": 55,
     "metadata": {},
     "output_type": "execute_result"
    }
   ],
   "source": [
    "a.sort()\n",
    "a"
   ]
  },
  {
   "cell_type": "code",
   "execution_count": 56,
   "id": "336f3be9",
   "metadata": {},
   "outputs": [
    {
     "data": {
      "text/plain": [
       "[10, 9, 8, 7, 6, 5, 4, 3, 2, 1]"
      ]
     },
     "execution_count": 56,
     "metadata": {},
     "output_type": "execute_result"
    }
   ],
   "source": [
    "a.sort(reverse=True)\n",
    "a"
   ]
  },
  {
   "cell_type": "code",
   "execution_count": 59,
   "id": "46bfac30",
   "metadata": {},
   "outputs": [],
   "source": [
    "a=sorted(a)"
   ]
  },
  {
   "cell_type": "code",
   "execution_count": 60,
   "id": "24f1faaa",
   "metadata": {},
   "outputs": [
    {
     "data": {
      "text/plain": [
       "[1, 2, 3, 4, 5, 6, 7, 8, 9, 10]"
      ]
     },
     "execution_count": 60,
     "metadata": {},
     "output_type": "execute_result"
    }
   ],
   "source": [
    "a"
   ]
  },
  {
   "cell_type": "code",
   "execution_count": 61,
   "id": "ae347a99",
   "metadata": {},
   "outputs": [
    {
     "data": {
      "text/plain": [
       "[10, 9, 8, 7, 6, 5, 4, 3, 2, 1]"
      ]
     },
     "execution_count": 61,
     "metadata": {},
     "output_type": "execute_result"
    }
   ],
   "source": [
    "a=sorted(a, reverse=True)\n",
    "a"
   ]
  },
  {
   "cell_type": "markdown",
   "id": "ff9a9cce",
   "metadata": {},
   "source": [
    "# 튜플 tuple\n",
    "* 튜플은 리스트처럼 모든 자료형을 넣어 만들 수 있다.\n",
    "* 순서가 있는 자료형, 인덱스가 있다.\n",
    "* 인덱싱, 슬라이싱 가능\n",
    "* 자료의 추가, 삭제가 안 됨\n",
    "* 자료 1개만 넣어서 만들 수 있음 단, (1,) 형식이어야 함\n",
    "* 튜플 생성시 자료가 2개 이상인 경우 () 생략 가능\n"
   ]
  },
  {
   "cell_type": "code",
   "execution_count": 62,
   "id": "6131de72",
   "metadata": {},
   "outputs": [
    {
     "data": {
      "text/plain": [
       "(1,)"
      ]
     },
     "execution_count": 62,
     "metadata": {},
     "output_type": "execute_result"
    }
   ],
   "source": [
    "t=(1,)\n",
    "t"
   ]
  },
  {
   "cell_type": "code",
   "execution_count": 63,
   "id": "5e95cd7e",
   "metadata": {},
   "outputs": [
    {
     "name": "stdout",
     "output_type": "stream",
     "text": [
      "() <class 'tuple'>\n"
     ]
    }
   ],
   "source": [
    "t0=()\n",
    "print(t0,type(t0))"
   ]
  },
  {
   "cell_type": "code",
   "execution_count": 68,
   "id": "bfa9a5c7",
   "metadata": {},
   "outputs": [],
   "source": [
    "t1=(1,2,3)\n",
    "t2=(4,5,6)"
   ]
  },
  {
   "cell_type": "markdown",
   "id": "e36a80cf",
   "metadata": {},
   "source": [
    "## 튜플 + 튜플 = 두개의 튜플 요소가 하나로 합쳐짐"
   ]
  },
  {
   "cell_type": "code",
   "execution_count": 70,
   "id": "df3cefdb",
   "metadata": {},
   "outputs": [
    {
     "data": {
      "text/plain": [
       "(1, 2, 3, 4, 5, 6)"
      ]
     },
     "execution_count": 70,
     "metadata": {},
     "output_type": "execute_result"
    }
   ],
   "source": [
    "t3=t1+t2\n",
    "t3"
   ]
  },
  {
   "cell_type": "code",
   "execution_count": 72,
   "id": "f72aaaa8",
   "metadata": {},
   "outputs": [
    {
     "ename": "TypeError",
     "evalue": "'tuple' object doesn't support item deletion",
     "output_type": "error",
     "traceback": [
      "\u001b[1;31m---------------------------------------------------------------------------\u001b[0m",
      "\u001b[1;31mTypeError\u001b[0m                                 Traceback (most recent call last)",
      "Cell \u001b[1;32mIn[72], line 1\u001b[0m\n\u001b[1;32m----> 1\u001b[0m \u001b[38;5;28;01mdel\u001b[39;00m t3[\u001b[38;5;241m0\u001b[39m]\n",
      "\u001b[1;31mTypeError\u001b[0m: 'tuple' object doesn't support item deletion"
     ]
    }
   ],
   "source": [
    "del t3[0]"
   ]
  },
  {
   "cell_type": "code",
   "execution_count": 73,
   "id": "92ea58b0",
   "metadata": {},
   "outputs": [
    {
     "ename": "TypeError",
     "evalue": "'tuple' object does not support item assignment",
     "output_type": "error",
     "traceback": [
      "\u001b[1;31m---------------------------------------------------------------------------\u001b[0m",
      "\u001b[1;31mTypeError\u001b[0m                                 Traceback (most recent call last)",
      "Cell \u001b[1;32mIn[73], line 1\u001b[0m\n\u001b[1;32m----> 1\u001b[0m \u001b[43mt3\u001b[49m\u001b[43m[\u001b[49m\u001b[38;5;241;43m0\u001b[39;49m\u001b[43m]\u001b[49m\u001b[38;5;241m=\u001b[39m\u001b[38;5;241m10\u001b[39m\n",
      "\u001b[1;31mTypeError\u001b[0m: 'tuple' object does not support item assignment"
     ]
    }
   ],
   "source": [
    "t3[0]=10"
   ]
  },
  {
   "cell_type": "markdown",
   "id": "afa03c75",
   "metadata": {},
   "source": [
    "## index() 튜플 내에서 특정 값의 인덱스 찾기"
   ]
  },
  {
   "cell_type": "code",
   "execution_count": 74,
   "id": "aeba6e46",
   "metadata": {},
   "outputs": [
    {
     "data": {
      "text/plain": [
       "4"
      ]
     },
     "execution_count": 74,
     "metadata": {},
     "output_type": "execute_result"
    }
   ],
   "source": [
    "t3.index(5)"
   ]
  },
  {
   "cell_type": "code",
   "execution_count": 75,
   "id": "368e1d3d",
   "metadata": {},
   "outputs": [
    {
     "data": {
      "text/plain": [
       "(1, 2, 3, 4, 5, 6)"
      ]
     },
     "execution_count": 75,
     "metadata": {},
     "output_type": "execute_result"
    }
   ],
   "source": [
    "t3"
   ]
  },
  {
   "cell_type": "markdown",
   "id": "f3365000",
   "metadata": {},
   "source": [
    "## count()튜플 내에 특정 값의 개수 세기"
   ]
  },
  {
   "cell_type": "code",
   "execution_count": 77,
   "id": "00cdef01",
   "metadata": {},
   "outputs": [],
   "source": [
    "t4=(1,2,3)"
   ]
  },
  {
   "cell_type": "code",
   "execution_count": 78,
   "id": "38611ea4",
   "metadata": {},
   "outputs": [
    {
     "data": {
      "text/plain": [
       "(1, 2, 3, 4, 5, 6, 1, 2, 3)"
      ]
     },
     "execution_count": 78,
     "metadata": {},
     "output_type": "execute_result"
    }
   ],
   "source": [
    "t3=t3+t4\n",
    "t3"
   ]
  },
  {
   "cell_type": "code",
   "execution_count": 79,
   "id": "9781e09c",
   "metadata": {},
   "outputs": [
    {
     "data": {
      "text/plain": [
       "2"
      ]
     },
     "execution_count": 79,
     "metadata": {},
     "output_type": "execute_result"
    }
   ],
   "source": [
    "t3.count(3)"
   ]
  },
  {
   "cell_type": "markdown",
   "id": "855c408a",
   "metadata": {},
   "source": [
    "## 튜플의 내용을 변경하거나 추가 삭제하고 싶을 때\n",
    "* list로 형변환 후 자료를 추가, 삭제, 변경하고 다시 tuple로 변환"
   ]
  },
  {
   "cell_type": "code",
   "execution_count": 80,
   "id": "c209ac3b",
   "metadata": {},
   "outputs": [
    {
     "data": {
      "text/plain": [
       "[1, 2, 3, 4, 5, 6, 1, 2, 3]"
      ]
     },
     "execution_count": 80,
     "metadata": {},
     "output_type": "execute_result"
    }
   ],
   "source": [
    "t3=list(t3)\n",
    "t3"
   ]
  },
  {
   "cell_type": "code",
   "execution_count": 81,
   "id": "020777ac",
   "metadata": {},
   "outputs": [
    {
     "data": {
      "text/plain": [
       "[10, 2, 3, 4, 5, 6, 1, 2, 3, (1, 2, 3)]"
      ]
     },
     "execution_count": 81,
     "metadata": {},
     "output_type": "execute_result"
    }
   ],
   "source": [
    "t3[0]=10\n",
    "t3.append((1,2,3))\n",
    "t3"
   ]
  },
  {
   "cell_type": "code",
   "execution_count": 82,
   "id": "49e17979",
   "metadata": {},
   "outputs": [
    {
     "data": {
      "text/plain": [
       "(10, 2, 3, 4, 5, 6, 1, 2, 3, (1, 2, 3))"
      ]
     },
     "execution_count": 82,
     "metadata": {},
     "output_type": "execute_result"
    }
   ],
   "source": [
    "t3=tuple(t3)\n",
    "t3"
   ]
  },
  {
   "cell_type": "markdown",
   "id": "482c540d",
   "metadata": {},
   "source": [
    "## 괄호를 생략하고 튜플 만들기"
   ]
  },
  {
   "cell_type": "code",
   "execution_count": 83,
   "id": "efe2b0fd",
   "metadata": {},
   "outputs": [
    {
     "data": {
      "text/plain": [
       "('튜플', '괄호없이', '만들기', 1, 2, 3)"
      ]
     },
     "execution_count": 83,
     "metadata": {},
     "output_type": "execute_result"
    }
   ],
   "source": [
    "t5=\"튜플\", \"괄호없이\", \"만들기\",1,2,3,\n",
    "t5"
   ]
  },
  {
   "cell_type": "markdown",
   "id": "54fe966b",
   "metadata": {},
   "source": [
    "## 리스트/튜플 곱셈으로 반복하기\n",
    "* 리스트* 숫자= 리스트의 안의 요소가 숫자만큼 복사된다"
   ]
  },
  {
   "cell_type": "code",
   "execution_count": 84,
   "id": "c7582009",
   "metadata": {},
   "outputs": [
    {
     "data": {
      "text/plain": [
       "'=================================================='"
      ]
     },
     "execution_count": 84,
     "metadata": {},
     "output_type": "execute_result"
    }
   ],
   "source": [
    "\"=\"* 50"
   ]
  },
  {
   "cell_type": "code",
   "execution_count": 85,
   "id": "a205a8f7",
   "metadata": {},
   "outputs": [
    {
     "data": {
      "text/plain": [
       "[1, 2, 3, 1, 2, 3, 1, 2, 3]"
      ]
     },
     "execution_count": 85,
     "metadata": {},
     "output_type": "execute_result"
    }
   ],
   "source": [
    "a=[1,2,3]\n",
    "a*3"
   ]
  },
  {
   "cell_type": "code",
   "execution_count": 86,
   "id": "fceed730",
   "metadata": {},
   "outputs": [
    {
     "data": {
      "text/plain": [
       "('튜플',\n",
       " '괄호없이',\n",
       " '만들기',\n",
       " 1,\n",
       " 2,\n",
       " 3,\n",
       " '튜플',\n",
       " '괄호없이',\n",
       " '만들기',\n",
       " 1,\n",
       " 2,\n",
       " 3,\n",
       " '튜플',\n",
       " '괄호없이',\n",
       " '만들기',\n",
       " 1,\n",
       " 2,\n",
       " 3)"
      ]
     },
     "execution_count": 86,
     "metadata": {},
     "output_type": "execute_result"
    }
   ],
   "source": [
    "t5*3"
   ]
  },
  {
   "cell_type": "markdown",
   "id": "7793b2ad",
   "metadata": {},
   "source": [
    "## 리스트/튜플 연산 함수 사용하기\n",
    "* sum(): 덧셈\n",
    "* max(): 최대값\n",
    "* min(): 최소값"
   ]
  },
  {
   "cell_type": "code",
   "execution_count": 90,
   "id": "d9130ceb",
   "metadata": {},
   "outputs": [],
   "source": [
    "a=list(range(1,51))\n",
    "b=tuple(range(100,50,-1))"
   ]
  },
  {
   "cell_type": "code",
   "execution_count": 88,
   "id": "e8184963",
   "metadata": {},
   "outputs": [
    {
     "data": {
      "text/plain": [
       "[1,\n",
       " 2,\n",
       " 3,\n",
       " 4,\n",
       " 5,\n",
       " 6,\n",
       " 7,\n",
       " 8,\n",
       " 9,\n",
       " 10,\n",
       " 11,\n",
       " 12,\n",
       " 13,\n",
       " 14,\n",
       " 15,\n",
       " 16,\n",
       " 17,\n",
       " 18,\n",
       " 19,\n",
       " 20,\n",
       " 21,\n",
       " 22,\n",
       " 23,\n",
       " 24,\n",
       " 25,\n",
       " 26,\n",
       " 27,\n",
       " 28,\n",
       " 29,\n",
       " 30,\n",
       " 31,\n",
       " 32,\n",
       " 33,\n",
       " 34,\n",
       " 35,\n",
       " 36,\n",
       " 37,\n",
       " 38,\n",
       " 39,\n",
       " 40,\n",
       " 41,\n",
       " 42,\n",
       " 43,\n",
       " 44,\n",
       " 45,\n",
       " 46,\n",
       " 47,\n",
       " 48,\n",
       " 49,\n",
       " 50]"
      ]
     },
     "execution_count": 88,
     "metadata": {},
     "output_type": "execute_result"
    }
   ],
   "source": [
    "a"
   ]
  },
  {
   "cell_type": "code",
   "execution_count": 91,
   "id": "6ef53a66",
   "metadata": {},
   "outputs": [
    {
     "data": {
      "text/plain": [
       "(100,\n",
       " 99,\n",
       " 98,\n",
       " 97,\n",
       " 96,\n",
       " 95,\n",
       " 94,\n",
       " 93,\n",
       " 92,\n",
       " 91,\n",
       " 90,\n",
       " 89,\n",
       " 88,\n",
       " 87,\n",
       " 86,\n",
       " 85,\n",
       " 84,\n",
       " 83,\n",
       " 82,\n",
       " 81,\n",
       " 80,\n",
       " 79,\n",
       " 78,\n",
       " 77,\n",
       " 76,\n",
       " 75,\n",
       " 74,\n",
       " 73,\n",
       " 72,\n",
       " 71,\n",
       " 70,\n",
       " 69,\n",
       " 68,\n",
       " 67,\n",
       " 66,\n",
       " 65,\n",
       " 64,\n",
       " 63,\n",
       " 62,\n",
       " 61,\n",
       " 60,\n",
       " 59,\n",
       " 58,\n",
       " 57,\n",
       " 56,\n",
       " 55,\n",
       " 54,\n",
       " 53,\n",
       " 52,\n",
       " 51)"
      ]
     },
     "execution_count": 91,
     "metadata": {},
     "output_type": "execute_result"
    }
   ],
   "source": [
    "b"
   ]
  },
  {
   "cell_type": "code",
   "execution_count": 92,
   "id": "eabd39e1",
   "metadata": {},
   "outputs": [
    {
     "data": {
      "text/plain": [
       "1275"
      ]
     },
     "execution_count": 92,
     "metadata": {},
     "output_type": "execute_result"
    }
   ],
   "source": [
    "sum(a)"
   ]
  },
  {
   "cell_type": "code",
   "execution_count": 93,
   "id": "ce2d268c",
   "metadata": {},
   "outputs": [
    {
     "data": {
      "text/plain": [
       "3775"
      ]
     },
     "execution_count": 93,
     "metadata": {},
     "output_type": "execute_result"
    }
   ],
   "source": [
    "sum(b)"
   ]
  },
  {
   "cell_type": "code",
   "execution_count": 94,
   "id": "80dfa1b7",
   "metadata": {},
   "outputs": [
    {
     "data": {
      "text/plain": [
       "50"
      ]
     },
     "execution_count": 94,
     "metadata": {},
     "output_type": "execute_result"
    }
   ],
   "source": [
    "max(a)"
   ]
  },
  {
   "cell_type": "code",
   "execution_count": 96,
   "id": "0b44b619",
   "metadata": {},
   "outputs": [
    {
     "data": {
      "text/plain": [
       "51"
      ]
     },
     "execution_count": 96,
     "metadata": {},
     "output_type": "execute_result"
    }
   ],
   "source": [
    "min(b)"
   ]
  },
  {
   "cell_type": "markdown",
   "id": "76da1ad6",
   "metadata": {},
   "source": [
    "# 시퀀스 객체(순서가 있는 자료들)\n",
    "* 문자열\n",
    "* list\n",
    "* tuple\n",
    "* 시퀀스 객체는 순서가 있는 자료를 말한다.\n",
    "* 시퀀스 객체는 반복문에서 사용이 가능\n",
    "* 시퀀스 객체 + 시퀀스 객체=요소가 하나로 합쳐진다.\n",
    "* 시퀀스 객체 * 숫자= 요소가 숫자의 배수로 복사 증가한다.\n",
    "* 시퀀스 객체 내의 값은 in, not in 으로 찾을 수 있다."
   ]
  },
  {
   "cell_type": "code",
   "execution_count": 97,
   "id": "d4210f13",
   "metadata": {},
   "outputs": [
    {
     "data": {
      "text/plain": [
       "'문자열'"
      ]
     },
     "execution_count": 97,
     "metadata": {},
     "output_type": "execute_result"
    }
   ],
   "source": [
    "\"문자\"+\"열\""
   ]
  },
  {
   "cell_type": "code",
   "execution_count": 98,
   "id": "2551de95",
   "metadata": {},
   "outputs": [
    {
     "data": {
      "text/plain": [
       "[1, 2, 3, 4, 5, 6]"
      ]
     },
     "execution_count": 98,
     "metadata": {},
     "output_type": "execute_result"
    }
   ],
   "source": [
    "[1,2,3]+[4,5,6]"
   ]
  },
  {
   "cell_type": "code",
   "execution_count": 99,
   "id": "c4f16ee4",
   "metadata": {},
   "outputs": [
    {
     "data": {
      "text/plain": [
       "(1, 2, 3, 4, 5, 6)"
      ]
     },
     "execution_count": 99,
     "metadata": {},
     "output_type": "execute_result"
    }
   ],
   "source": [
    "(1,2,3)+(4,5,6)"
   ]
  },
  {
   "cell_type": "code",
   "execution_count": 100,
   "id": "c5232e43",
   "metadata": {},
   "outputs": [
    {
     "data": {
      "text/plain": [
       "'=========='"
      ]
     },
     "execution_count": 100,
     "metadata": {},
     "output_type": "execute_result"
    }
   ],
   "source": [
    "\"=\"*10"
   ]
  },
  {
   "cell_type": "code",
   "execution_count": 101,
   "id": "8b22c9c2",
   "metadata": {},
   "outputs": [
    {
     "data": {
      "text/plain": [
       "[1, 2, 3, 1, 2, 3, 1, 2, 3]"
      ]
     },
     "execution_count": 101,
     "metadata": {},
     "output_type": "execute_result"
    }
   ],
   "source": [
    "[1,2,3]*3"
   ]
  },
  {
   "cell_type": "code",
   "execution_count": 102,
   "id": "5abe9831",
   "metadata": {},
   "outputs": [
    {
     "data": {
      "text/plain": [
       "(1, 2, 3, 1, 2, 3, 1, 2, 3)"
      ]
     },
     "execution_count": 102,
     "metadata": {},
     "output_type": "execute_result"
    }
   ],
   "source": [
    "(1,2,3)*3"
   ]
  },
  {
   "cell_type": "code",
   "execution_count": 103,
   "id": "1e0c118b",
   "metadata": {},
   "outputs": [
    {
     "data": {
      "text/plain": [
       "True"
      ]
     },
     "execution_count": 103,
     "metadata": {},
     "output_type": "execute_result"
    }
   ],
   "source": [
    "\"길동이\" in \"홍길동이\""
   ]
  },
  {
   "cell_type": "code",
   "execution_count": 104,
   "id": "349840ec",
   "metadata": {},
   "outputs": [
    {
     "data": {
      "text/plain": [
       "True"
      ]
     },
     "execution_count": 104,
     "metadata": {},
     "output_type": "execute_result"
    }
   ],
   "source": [
    "3 in [1,2,3]"
   ]
  },
  {
   "cell_type": "code",
   "execution_count": 106,
   "id": "e066be1a",
   "metadata": {},
   "outputs": [
    {
     "data": {
      "text/plain": [
       "False"
      ]
     },
     "execution_count": 106,
     "metadata": {},
     "output_type": "execute_result"
    }
   ],
   "source": [
    "3 not in (1,2,3)"
   ]
  },
  {
   "cell_type": "code",
   "execution_count": 107,
   "id": "21ea4417",
   "metadata": {},
   "outputs": [
    {
     "name": "stdout",
     "output_type": "stream",
     "text": [
      "문\n",
      "자\n",
      "열\n",
      "도\n",
      " \n",
      "시\n",
      "퀀\n",
      "스\n",
      " \n",
      "객\n",
      "체\n",
      "라\n",
      "서\n",
      " \n",
      "반\n",
      "복\n",
      "문\n",
      "에\n",
      "서\n",
      " \n",
      "사\n",
      "용\n",
      "이\n",
      " \n",
      "가\n",
      "능\n",
      "하\n",
      "다\n"
     ]
    }
   ],
   "source": [
    "for i in \"문자열도 시퀀스 객체라서 반복문에서 사용이 가능하다\": \n",
    "    print(i)"
   ]
  },
  {
   "cell_type": "code",
   "execution_count": 108,
   "id": "d0195492",
   "metadata": {
    "scrolled": true
   },
   "outputs": [
    {
     "name": "stdout",
     "output_type": "stream",
     "text": [
      "1\n",
      "2\n",
      "3\n",
      "4\n",
      "5\n"
     ]
    }
   ],
   "source": [
    "for i in[1,2,3,4,5]:\n",
    "    print(i)"
   ]
  },
  {
   "cell_type": "code",
   "execution_count": 109,
   "id": "3b6b3c71",
   "metadata": {
    "scrolled": true
   },
   "outputs": [
    {
     "name": "stdout",
     "output_type": "stream",
     "text": [
      "1\n",
      "2\n",
      "3\n",
      "4\n",
      "5\n"
     ]
    }
   ],
   "source": [
    "for i in(1,2,3,4,5):\n",
    "    print(i)"
   ]
  },
  {
   "cell_type": "code",
   "execution_count": null,
   "id": "cf8747b1",
   "metadata": {},
   "outputs": [],
   "source": []
  }
 ],
 "metadata": {
  "kernelspec": {
   "display_name": "Python 3 (ipykernel)",
   "language": "python",
   "name": "python3"
  },
  "language_info": {
   "codemirror_mode": {
    "name": "ipython",
    "version": 3
   },
   "file_extension": ".py",
   "mimetype": "text/x-python",
   "name": "python",
   "nbconvert_exporter": "python",
   "pygments_lexer": "ipython3",
   "version": "3.9.23"
  }
 },
 "nbformat": 4,
 "nbformat_minor": 5
}
