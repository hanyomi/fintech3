{
 "cells": [
  {
   "cell_type": "markdown",
   "id": "dadf6b30",
   "metadata": {},
   "source": [
    "# 클래스\n",
    "* 객체지향 프로그래밍\n",
    "* 코드를 재사용하는데 특화\n",
    "* 여러 사람이 이용할 때 같은 코드를 독립적으로 사용 가능\n",
    "* 캡슐화, 상속, 다형성 같은 개념 사용"
   ]
  },
  {
   "cell_type": "markdown",
   "id": "cbc0fbfa",
   "metadata": {},
   "source": [
    "## 1) 절차적 프로그래밍\n",
    "* 프로그래밍을 순차적으로 하는 것\n",
    "* 코드가 위에서 아래로 절차적으로 실행"
   ]
  },
  {
   "cell_type": "code",
   "execution_count": 1,
   "id": "9d832457",
   "metadata": {},
   "outputs": [
    {
     "name": "stdout",
     "output_type": "stream",
     "text": [
      "[1, 4, 9, 16]\n"
     ]
    }
   ],
   "source": [
    "# nums=[1,2,3,4]의 각 요소를 제곱한 리스트를 출력하세요\n",
    "nums=[1,2,3,4]\n",
    "squares=[]\n",
    "for i in nums:\n",
    "    squares.append(i**2)\n",
    "print(squares)"
   ]
  },
  {
   "cell_type": "markdown",
   "id": "00751033",
   "metadata": {},
   "source": [
    "## 2) 함수형 프로그래밍\n",
    "* 여러 개의 함수를 작성해서 함수에 기반해 프로그래밍 실행\n",
    "* 코드의 재사용 가능\n",
    "* 유지보수가 쉬워짐\n",
    "* 버그 발생률이 낮고 예측가능성이 높음\n",
    "* 병렬 처리, 동시성 처리에 강함 ->멀티코어를 이용할 때 유리"
   ]
  },
  {
   "cell_type": "code",
   "execution_count": 2,
   "id": "a81f2896",
   "metadata": {},
   "outputs": [
    {
     "name": "stdout",
     "output_type": "stream",
     "text": [
      "[1, 4, 9, 16]\n"
     ]
    }
   ],
   "source": [
    "nums=[1,2,3,4]\n",
    "squares=list(map(lambda x:x**2,nums))\n",
    "print(squares)"
   ]
  },
  {
   "cell_type": "markdown",
   "id": "e22fecdc",
   "metadata": {},
   "source": [
    "## 3) 객체지향형 프로그래밍\n",
    "* JAVA, C++\n",
    "* 클래스 기반으로 프로그래밍\n",
    "* 코드를 재사용하는데 특화\n",
    "* 여러 사람이 이용할 때 같은 코드를 독립적으로 사용 가능\n"
   ]
  },
  {
   "cell_type": "code",
   "execution_count": 3,
   "id": "99247d79",
   "metadata": {},
   "outputs": [],
   "source": [
    "class NumberList():\n",
    "    def __init__(self,numbers):\n",
    "        self.numbers=numbers\n",
    "    def squared(self):\n",
    "        return [x**2 for x in self.numbers]"
   ]
  },
  {
   "cell_type": "code",
   "execution_count": 4,
   "id": "f6c540b9",
   "metadata": {},
   "outputs": [
    {
     "data": {
      "text/plain": [
       "[1, 4, 9, 16]"
      ]
     },
     "execution_count": 4,
     "metadata": {},
     "output_type": "execute_result"
    }
   ],
   "source": [
    "squared=NumberList([1,2,3,4])\n",
    "squared.squared()"
   ]
  },
  {
   "cell_type": "markdown",
   "id": "23929d4d",
   "metadata": {},
   "source": [
    "# 클래스 만들기\n",
    "* 클래스 하나에 여러개의 함수(메서드)를 포함\n",
    "* 클래스=공장(커피머신 공장) - 커피머신\n",
    "* 메서드=커피머신의 기능(에스프레소, 아메리카노, 카페라테, 스팀)"
   ]
  },
  {
   "cell_type": "markdown",
   "id": "63f7530f",
   "metadata": {},
   "source": [
    "### 클래스를 사용해야 하는 이유"
   ]
  },
  {
   "cell_type": "code",
   "execution_count": 5,
   "id": "1183e3a3",
   "metadata": {},
   "outputs": [],
   "source": [
    "# 더하기 함수 만들기\n",
    "def add(num1,num2):\n",
    "    result=num1+num2\n",
    "    return result"
   ]
  },
  {
   "cell_type": "code",
   "execution_count": 6,
   "id": "7ae6b73d",
   "metadata": {},
   "outputs": [
    {
     "data": {
      "text/plain": [
       "8"
      ]
     },
     "execution_count": 6,
     "metadata": {},
     "output_type": "execute_result"
    }
   ],
   "source": [
    "add(3,5)"
   ]
  },
  {
   "cell_type": "markdown",
   "id": "a83803d5",
   "metadata": {},
   "source": [
    "* 이전에 계산했던 결과를 기억하는 계산기"
   ]
  },
  {
   "cell_type": "code",
   "execution_count": 7,
   "id": "da6d144f",
   "metadata": {},
   "outputs": [],
   "source": [
    "result_cal=0\n",
    "def add(num,result_cal):\n",
    "    print(\"result_cal:\",result_cal)\n",
    "    result_cal +=num\n",
    "    return result_cal"
   ]
  },
  {
   "cell_type": "code",
   "execution_count": 8,
   "id": "be809cbd",
   "metadata": {},
   "outputs": [
    {
     "name": "stdout",
     "output_type": "stream",
     "text": [
      "result_cal: 0\n"
     ]
    },
    {
     "data": {
      "text/plain": [
       "10"
      ]
     },
     "execution_count": 8,
     "metadata": {},
     "output_type": "execute_result"
    }
   ],
   "source": [
    "add(10,result_cal)"
   ]
  },
  {
   "cell_type": "code",
   "execution_count": 9,
   "id": "09c644cc",
   "metadata": {},
   "outputs": [
    {
     "name": "stdout",
     "output_type": "stream",
     "text": [
      "result_cal: 0\n"
     ]
    },
    {
     "data": {
      "text/plain": [
       "5"
      ]
     },
     "execution_count": 9,
     "metadata": {},
     "output_type": "execute_result"
    }
   ],
   "source": [
    "add(5,result_cal)\n",
    "#앞의 result_cal과 def안의 result_cal 은 완전히 다른 변수이기때문에 저장되지 않음"
   ]
  },
  {
   "cell_type": "markdown",
   "id": "c85f016b",
   "metadata": {},
   "source": [
    "### 지역 변수를 전역변수로 변경 global"
   ]
  },
  {
   "cell_type": "code",
   "execution_count": 12,
   "id": "574307fd",
   "metadata": {},
   "outputs": [],
   "source": [
    "result_cal=0\n",
    "def add2(num):\n",
    "    global result_cal\n",
    "    print(\"result_cal:\",result_cal)\n",
    "    result_cal +=num\n",
    "    return result_cal"
   ]
  },
  {
   "cell_type": "code",
   "execution_count": 13,
   "id": "cc5ee86e",
   "metadata": {},
   "outputs": [
    {
     "name": "stdout",
     "output_type": "stream",
     "text": [
      "result_cal: 0\n"
     ]
    },
    {
     "data": {
      "text/plain": [
       "10"
      ]
     },
     "execution_count": 13,
     "metadata": {},
     "output_type": "execute_result"
    }
   ],
   "source": [
    "add2(10)"
   ]
  },
  {
   "cell_type": "code",
   "execution_count": 14,
   "id": "454520f0",
   "metadata": {},
   "outputs": [
    {
     "name": "stdout",
     "output_type": "stream",
     "text": [
      "result_cal: 10\n"
     ]
    },
    {
     "data": {
      "text/plain": [
       "15"
      ]
     },
     "execution_count": 14,
     "metadata": {},
     "output_type": "execute_result"
    }
   ],
   "source": [
    "add2(5)"
   ]
  },
  {
   "cell_type": "markdown",
   "id": "9275e3d6",
   "metadata": {},
   "source": [
    "* 만약 mul함수를 길동이와 둘리가 동시에 같이 쓰고 싶다면?\n",
    "* 함수를 여러개 만들면 된다.\n",
    "* 사용자가 많을 경우 매우 비효율적이 됨\n",
    "* 하나의 코드로 여러 사람이 이용해도 독립적으로 작동하게 하는 것이 클래스"
   ]
  },
  {
   "cell_type": "code",
   "execution_count": 12,
   "id": "7b7b14ff",
   "metadata": {},
   "outputs": [],
   "source": [
    "result_cal=0\n",
    "def add_gildong(num):\n",
    "    global result_cal\n",
    "    print(\"result_cal:\",result_cal)\n",
    "    result_cal +=num\n",
    "    return result_cal"
   ]
  },
  {
   "cell_type": "code",
   "execution_count": 12,
   "id": "be499894",
   "metadata": {},
   "outputs": [],
   "source": [
    "result_cal=0\n",
    "def add_dulli(num):\n",
    "    global result_cal\n",
    "    print(\"result_cal:\",result_cal)\n",
    "    result_cal +=num\n",
    "    return result_cal"
   ]
  },
  {
   "cell_type": "markdown",
   "id": "e484f57e",
   "metadata": {},
   "source": [
    "# 클래스 만들기\n",
    "* 클래스의 이름은 대문자로 시작하는 카멜표기법으로 만듦. class CalcGildong()\n",
    "class 클래스명():<br>\n",
    "____def 메소드명1():<br>\n",
    "________실행할 코드<br>\n",
    "_________return\n",
    "____def 메소드명2():<br>\n",
    "________실행할 코드<br>\n",
    "_________return"
   ]
  },
  {
   "cell_type": "code",
   "execution_count": 16,
   "id": "f3fa2f73",
   "metadata": {},
   "outputs": [],
   "source": [
    "class Calc():\n",
    "    def __init__(self):\n",
    "        self.result=0\n",
    "    def add(self,num):\n",
    "        self.result +=num\n",
    "        return self.result"
   ]
  },
  {
   "cell_type": "markdown",
   "id": "47e5cfec",
   "metadata": {},
   "source": [
    "# 인스턴스\n",
    "* 만들어진 클래스를 변수에 담는 것\n",
    "* 만들어진 물건을 사용자에게 배송"
   ]
  },
  {
   "cell_type": "code",
   "execution_count": 18,
   "id": "697f239a",
   "metadata": {},
   "outputs": [],
   "source": [
    "gil=Calc()"
   ]
  },
  {
   "cell_type": "code",
   "execution_count": 19,
   "id": "f49d5d00",
   "metadata": {},
   "outputs": [
    {
     "data": {
      "text/plain": [
       "5"
      ]
     },
     "execution_count": 19,
     "metadata": {},
     "output_type": "execute_result"
    }
   ],
   "source": [
    "gil.add(5)"
   ]
  },
  {
   "cell_type": "code",
   "execution_count": 20,
   "id": "6e6ad2fe",
   "metadata": {},
   "outputs": [
    {
     "data": {
      "text/plain": [
       "15"
      ]
     },
     "execution_count": 20,
     "metadata": {},
     "output_type": "execute_result"
    }
   ],
   "source": [
    "gil.add(10)"
   ]
  },
  {
   "cell_type": "code",
   "execution_count": 21,
   "id": "dc75df57",
   "metadata": {},
   "outputs": [
    {
     "data": {
      "text/plain": [
       "35"
      ]
     },
     "execution_count": 21,
     "metadata": {},
     "output_type": "execute_result"
    }
   ],
   "source": [
    "gil.add(20)"
   ]
  },
  {
   "cell_type": "code",
   "execution_count": 22,
   "id": "a49f0139",
   "metadata": {},
   "outputs": [],
   "source": [
    "dul=Calc()"
   ]
  },
  {
   "cell_type": "code",
   "execution_count": 23,
   "id": "b7fdafb5",
   "metadata": {},
   "outputs": [
    {
     "data": {
      "text/plain": [
       "100"
      ]
     },
     "execution_count": 23,
     "metadata": {},
     "output_type": "execute_result"
    }
   ],
   "source": [
    "dul.add(100)"
   ]
  },
  {
   "cell_type": "markdown",
   "id": "5d1ac204",
   "metadata": {},
   "source": [
    "### 클래스 사용방법\n",
    "* 변수에 클래스를 담아서 인스턴스 생성(배송)\n",
    "* 공장에서 만든 커피머신을 사용자에게 배송(인스턴스)\n",
    "* 인스턴스 변수명=클래스명()=>인스턴스 생성\n",
    "* 인스턴스를 생성하면 인스턴스변수명.메소드명으로 클래스에 정의한 메소드를 사용할 수 있음"
   ]
  },
  {
   "cell_type": "markdown",
   "id": "c3b4dc2f",
   "metadata": {},
   "source": [
    "# 메소드(method)\n",
    "* 클래스 안에 정의하는 함수\n",
    "* 클래스에 기능을 만들어 준다. \n",
    "* def 메소드명(self, 매개변수1, 매개변수2, **kwargs):<br>\n",
    "____self.매개변수=매개변수\n"
   ]
  },
  {
   "cell_type": "markdown",
   "id": "53930aeb",
   "metadata": {},
   "source": [
    "*사칙연산이 가능한 FourCal 계산기 만들기"
   ]
  },
  {
   "cell_type": "code",
   "execution_count": 26,
   "id": "8717ae99",
   "metadata": {},
   "outputs": [],
   "source": [
    "class FourCal():\n",
    "    #데이터 입력을 받는 역할의 setdata method\n",
    "    def setdata(self,num1,*num2):\n",
    "        self.num1=num1\n",
    "        self.num2=num2\n",
    "        print(\"self.num1: \",self.num1)\n",
    "        print(\"self.num2: \",self.num2)"
   ]
  },
  {
   "cell_type": "code",
   "execution_count": 27,
   "id": "9b36b55a",
   "metadata": {},
   "outputs": [],
   "source": [
    "sam=FourCal()"
   ]
  },
  {
   "cell_type": "code",
   "execution_count": 28,
   "id": "47534083",
   "metadata": {},
   "outputs": [
    {
     "name": "stdout",
     "output_type": "stream",
     "text": [
      "self.num1:  1\n",
      "self.num2:  (2, 3, 4)\n"
     ]
    }
   ],
   "source": [
    "sam.setdata(1,2,3,4)"
   ]
  },
  {
   "cell_type": "code",
   "execution_count": 29,
   "id": "fa2c7b26",
   "metadata": {},
   "outputs": [],
   "source": [
    "dul = FourCal()"
   ]
  },
  {
   "cell_type": "code",
   "execution_count": 30,
   "id": "43f147ca",
   "metadata": {},
   "outputs": [
    {
     "name": "stdout",
     "output_type": "stream",
     "text": [
      "self.num1:  5\n",
      "self.num2:  (6, 7, 8)\n"
     ]
    }
   ],
   "source": [
    "dul.setdata(5,6,7,8)"
   ]
  },
  {
   "cell_type": "markdown",
   "id": "7e0ab8ea",
   "metadata": {},
   "source": [
    "클래스에 기능 추가하기"
   ]
  },
  {
   "cell_type": "code",
   "execution_count": 40,
   "id": "55ad6bb0",
   "metadata": {},
   "outputs": [],
   "source": [
    "class FourCal():\n",
    "    def setdata(self, num1,num2):\n",
    "        self.num1=num1\n",
    "        self.num2=num2\n",
    "        print(f\"self.num1:{self.num1}\")\n",
    "        print(f\"self.num2:{self.num2}\")\n",
    "    \n",
    "    #덧셈\n",
    "    def add(self):\n",
    "        result=self.num1+self.num2\n",
    "        return result\n",
    "    #뺄셈\n",
    "    def sub(self):\n",
    "        result=self.num1-self.num2\n",
    "        return result\n",
    "    #곱셈\n",
    "    def mul(self):\n",
    "        result=self.num1*self.num2\n",
    "        return result\n",
    "    #나눗셈\n",
    "    def div(self):\n",
    "        result=self.num1/self.num2\n",
    "        return result"
   ]
  },
  {
   "cell_type": "code",
   "execution_count": 41,
   "id": "97e5e60c",
   "metadata": {},
   "outputs": [],
   "source": [
    "sam=FourCal()"
   ]
  },
  {
   "cell_type": "code",
   "execution_count": 42,
   "id": "3ff684cb",
   "metadata": {},
   "outputs": [
    {
     "name": "stdout",
     "output_type": "stream",
     "text": [
      "self.num1:3\n",
      "self.num2:5\n"
     ]
    }
   ],
   "source": [
    "sam.setdata(3,5)"
   ]
  },
  {
   "cell_type": "code",
   "execution_count": 43,
   "id": "2cfe4841",
   "metadata": {},
   "outputs": [
    {
     "data": {
      "text/plain": [
       "8"
      ]
     },
     "execution_count": 43,
     "metadata": {},
     "output_type": "execute_result"
    }
   ],
   "source": [
    "sam.add()"
   ]
  },
  {
   "cell_type": "code",
   "execution_count": 44,
   "id": "10fb11e5",
   "metadata": {},
   "outputs": [
    {
     "data": {
      "text/plain": [
       "0.6"
      ]
     },
     "execution_count": 44,
     "metadata": {},
     "output_type": "execute_result"
    }
   ],
   "source": [
    "sam.div()"
   ]
  },
  {
   "cell_type": "code",
   "execution_count": 45,
   "id": "a3247875",
   "metadata": {},
   "outputs": [
    {
     "name": "stdout",
     "output_type": "stream",
     "text": [
      "self.num1:10\n",
      "self.num2:5\n"
     ]
    }
   ],
   "source": [
    "dul=FourCal()\n",
    "dul.setdata(10,5)"
   ]
  },
  {
   "cell_type": "code",
   "execution_count": 47,
   "id": "6552cc11",
   "metadata": {},
   "outputs": [
    {
     "data": {
      "text/plain": [
       "15"
      ]
     },
     "execution_count": 47,
     "metadata": {},
     "output_type": "execute_result"
    }
   ],
   "source": [
    "dul.add()"
   ]
  },
  {
   "cell_type": "markdown",
   "id": "0754ce4f",
   "metadata": {},
   "source": [
    "# 생성자\n",
    "* 클래스를 실행해서 인스턴스를 만들 때 자동으로 실행되고 초기값을 받도록 해주는 메소드\n",
    "* 생성자(constructor)는 객체(인스턴스)가 생성될 때 자동으로 호출되는 메소드, 주로 초기 값을 받을 때 사용\n",
    "* 클래스 내에서 메서드명으로 __init__를 사용하면 그것이 생성자가 됨"
   ]
  },
  {
   "cell_type": "markdown",
   "id": "effda22b",
   "metadata": {},
   "source": [
    "* 생성자를 이용해 초기값을 받는 FourCal2"
   ]
  },
  {
   "cell_type": "code",
   "execution_count": 48,
   "id": "b7c1b662",
   "metadata": {},
   "outputs": [],
   "source": [
    "class FourCal2():\n",
    "    def __init__(self,num1,num2):\n",
    "        self.num1=num1\n",
    "        self.num2=num2\n",
    "    #덧셈\n",
    "    def add(self):\n",
    "        result=self.num1+self.num2\n",
    "        return result\n",
    "    #뺄셈\n",
    "    def sub(self):\n",
    "        result=self.num1-self.num2\n",
    "        return result\n",
    "    #곱셈\n",
    "    def mul(self):\n",
    "        result=self.num1*self.num2\n",
    "        return result\n",
    "    #나눗셈\n",
    "    def div(self):\n",
    "        result=self.num1/self.num2\n",
    "        return result"
   ]
  },
  {
   "cell_type": "code",
   "execution_count": 50,
   "id": "df0693dd",
   "metadata": {},
   "outputs": [],
   "source": [
    "gil=FourCal2(3,5)"
   ]
  },
  {
   "cell_type": "code",
   "execution_count": 51,
   "id": "5aceb170",
   "metadata": {},
   "outputs": [
    {
     "data": {
      "text/plain": [
       "8"
      ]
     },
     "execution_count": 51,
     "metadata": {},
     "output_type": "execute_result"
    }
   ],
   "source": [
    "gil.add()"
   ]
  },
  {
   "cell_type": "markdown",
   "id": "4a6be137",
   "metadata": {},
   "source": [
    "# 클래스의 상속(엄카)\n",
    "* 어떤 클래스를 만들 때 다른 클래스의 기능을 물려받는 것\n",
    "* 기존 클래스에 기능을 추가할 때, 기능을 변경할 때\n",
    "* A클래스를 상속받아 B클래스를 생성하면 B클래스는 A클래스의 모든 기능을 사용할 수 있음"
   ]
  },
  {
   "cell_type": "markdown",
   "id": "3bebe7f8",
   "metadata": {},
   "source": [
    "* FourCal2를 상속받아 제곱기능을 추가한 MoreFourCal 만들기"
   ]
  },
  {
   "cell_type": "code",
   "execution_count": 52,
   "id": "66d7c3b8",
   "metadata": {},
   "outputs": [],
   "source": [
    "class MoreFourCal(FourCal2):\n",
    "    def pow(self):\n",
    "        result=self.num1 **self.num2\n",
    "        return result"
   ]
  },
  {
   "cell_type": "code",
   "execution_count": 54,
   "id": "867a9689",
   "metadata": {},
   "outputs": [],
   "source": [
    "dul=MoreFourCal(3,5)"
   ]
  },
  {
   "cell_type": "code",
   "execution_count": 55,
   "id": "69ff6456",
   "metadata": {},
   "outputs": [
    {
     "data": {
      "text/plain": [
       "243"
      ]
     },
     "execution_count": 55,
     "metadata": {},
     "output_type": "execute_result"
    }
   ],
   "source": [
    "dul.pow()"
   ]
  },
  {
   "cell_type": "code",
   "execution_count": 57,
   "id": "e96d217a",
   "metadata": {},
   "outputs": [
    {
     "data": {
      "text/plain": [
       "8"
      ]
     },
     "execution_count": 57,
     "metadata": {},
     "output_type": "execute_result"
    }
   ],
   "source": [
    "dul.add()"
   ]
  },
  {
   "cell_type": "markdown",
   "id": "f51133e7",
   "metadata": {},
   "source": [
    "# 메서드 오버라이딩(method overriding)\n",
    "* 부모 클래스에서 상속한 메서드를 자식 클래스에서 동일한 이름으로 재정의\n",
    "* 기존에 있던 메서드의 기능을 수정할 때 사용"
   ]
  },
  {
   "cell_type": "code",
   "execution_count": 58,
   "id": "33dd5c2a",
   "metadata": {},
   "outputs": [],
   "source": [
    "kim=FourCal2(4,0)"
   ]
  },
  {
   "cell_type": "code",
   "execution_count": 59,
   "id": "80a602d0",
   "metadata": {},
   "outputs": [
    {
     "data": {
      "text/plain": [
       "4"
      ]
     },
     "execution_count": 59,
     "metadata": {},
     "output_type": "execute_result"
    }
   ],
   "source": [
    "kim.add()"
   ]
  },
  {
   "cell_type": "code",
   "execution_count": 60,
   "id": "ec6bbe32",
   "metadata": {},
   "outputs": [
    {
     "ename": "ZeroDivisionError",
     "evalue": "division by zero",
     "output_type": "error",
     "traceback": [
      "\u001b[1;31m---------------------------------------------------------------------------\u001b[0m",
      "\u001b[1;31mZeroDivisionError\u001b[0m                         Traceback (most recent call last)",
      "Cell \u001b[1;32mIn[60], line 1\u001b[0m\n\u001b[1;32m----> 1\u001b[0m \u001b[43mkim\u001b[49m\u001b[38;5;241;43m.\u001b[39;49m\u001b[43mdiv\u001b[49m\u001b[43m(\u001b[49m\u001b[43m)\u001b[49m\n",
      "Cell \u001b[1;32mIn[48], line 19\u001b[0m, in \u001b[0;36mFourCal2.div\u001b[1;34m(self)\u001b[0m\n\u001b[0;32m     18\u001b[0m \u001b[38;5;28;01mdef\u001b[39;00m\u001b[38;5;250m \u001b[39m\u001b[38;5;21mdiv\u001b[39m(\u001b[38;5;28mself\u001b[39m):\n\u001b[1;32m---> 19\u001b[0m     result\u001b[38;5;241m=\u001b[39m\u001b[38;5;28;43mself\u001b[39;49m\u001b[38;5;241;43m.\u001b[39;49m\u001b[43mnum1\u001b[49m\u001b[38;5;241;43m/\u001b[39;49m\u001b[38;5;28;43mself\u001b[39;49m\u001b[38;5;241;43m.\u001b[39;49m\u001b[43mnum2\u001b[49m\n\u001b[0;32m     20\u001b[0m     \u001b[38;5;28;01mreturn\u001b[39;00m result\n",
      "\u001b[1;31mZeroDivisionError\u001b[0m: division by zero"
     ]
    }
   ],
   "source": [
    "kim.div()"
   ]
  },
  {
   "cell_type": "code",
   "execution_count": 62,
   "id": "e0dad831",
   "metadata": {},
   "outputs": [],
   "source": [
    "class SafeFourCal(FourCal2):\n",
    "    def div(self):\n",
    "        if self.num2==0:\n",
    "            return 0\n",
    "        else:\n",
    "            return self.num1/self.num2"
   ]
  },
  {
   "cell_type": "code",
   "execution_count": 63,
   "id": "393f96c0",
   "metadata": {},
   "outputs": [],
   "source": [
    "kim=SafeFourCal(5,0)"
   ]
  },
  {
   "cell_type": "code",
   "execution_count": 65,
   "id": "c5531114",
   "metadata": {},
   "outputs": [
    {
     "data": {
      "text/plain": [
       "0"
      ]
     },
     "execution_count": 65,
     "metadata": {},
     "output_type": "execute_result"
    }
   ],
   "source": [
    "kim.div()"
   ]
  },
  {
   "cell_type": "markdown",
   "id": "9c15bf72",
   "metadata": {},
   "source": [
    "# 메서드 오버로딩\n",
    "* 한 클래스 안에서 동일한 이름의 메서드의 기능을 다르게 재정의\n",
    "* 동일한 이름의 메서드가 기능이 약간 변경된 채로 여러 개 존재"
   ]
  },
  {
   "cell_type": "code",
   "execution_count": 66,
   "id": "fb63e67f",
   "metadata": {},
   "outputs": [],
   "source": [
    "class OverLoading():\n",
    "    def add(self, x,y):\n",
    "        return x+y\n",
    "    def add(self,x,y,z):\n",
    "        return x+y+z\n",
    "    def add(self,x,y,z,a):\n",
    "        return x+y+z+a\n",
    "    "
   ]
  },
  {
   "cell_type": "code",
   "execution_count": 67,
   "id": "1577efda",
   "metadata": {},
   "outputs": [],
   "source": [
    "sam=OverLoading()"
   ]
  },
  {
   "cell_type": "code",
   "execution_count": 68,
   "id": "cf08c9eb",
   "metadata": {},
   "outputs": [
    {
     "ename": "TypeError",
     "evalue": "add() missing 2 required positional arguments: 'z' and 'a'",
     "output_type": "error",
     "traceback": [
      "\u001b[1;31m---------------------------------------------------------------------------\u001b[0m",
      "\u001b[1;31mTypeError\u001b[0m                                 Traceback (most recent call last)",
      "Cell \u001b[1;32mIn[68], line 1\u001b[0m\n\u001b[1;32m----> 1\u001b[0m \u001b[43msam\u001b[49m\u001b[38;5;241;43m.\u001b[39;49m\u001b[43madd\u001b[49m\u001b[43m(\u001b[49m\u001b[38;5;241;43m3\u001b[39;49m\u001b[43m,\u001b[49m\u001b[38;5;241;43m4\u001b[39;49m\u001b[43m)\u001b[49m\n",
      "\u001b[1;31mTypeError\u001b[0m: add() missing 2 required positional arguments: 'z' and 'a'"
     ]
    }
   ],
   "source": [
    "sam.add(3,4)"
   ]
  },
  {
   "cell_type": "markdown",
   "id": "5109bb49",
   "metadata": {},
   "source": [
    "### multifledispatch 패키지를 통한 메서드 오버로딩"
   ]
  },
  {
   "cell_type": "code",
   "execution_count": 69,
   "id": "0389e169",
   "metadata": {},
   "outputs": [
    {
     "name": "stdout",
     "output_type": "stream",
     "text": [
      "Collecting multipledispatch\n",
      "  Downloading multipledispatch-1.0.0-py3-none-any.whl.metadata (3.8 kB)\n",
      "Downloading multipledispatch-1.0.0-py3-none-any.whl (12 kB)\n",
      "Installing collected packages: multipledispatch\n",
      "Successfully installed multipledispatch-1.0.0\n"
     ]
    }
   ],
   "source": [
    "!pip install multipledispatch"
   ]
  },
  {
   "cell_type": "code",
   "execution_count": 70,
   "id": "de2077e1",
   "metadata": {},
   "outputs": [],
   "source": [
    "from multipledispatch import dispatch"
   ]
  },
  {
   "cell_type": "code",
   "execution_count": 71,
   "id": "8a5963b7",
   "metadata": {},
   "outputs": [],
   "source": [
    "class OverLoading2():\n",
    "    @dispatch(int,int)\n",
    "    def add(self, x,y):\n",
    "        return x+y\n",
    "    @dispatch(int,int,int)\n",
    "    def add(self,x,y,z):\n",
    "        return x+y+z\n",
    "    @dispatch(int,int,int,int)\n",
    "    def add(self,x,y,z,a):\n",
    "        return x+y+z+a\n",
    "    "
   ]
  },
  {
   "cell_type": "code",
   "execution_count": 72,
   "id": "f273dedf",
   "metadata": {},
   "outputs": [],
   "source": [
    "sam=OverLoading2()"
   ]
  },
  {
   "cell_type": "code",
   "execution_count": 73,
   "id": "c12f5d97",
   "metadata": {},
   "outputs": [
    {
     "data": {
      "text/plain": [
       "8"
      ]
     },
     "execution_count": 73,
     "metadata": {},
     "output_type": "execute_result"
    }
   ],
   "source": [
    "sam.add(3,5)"
   ]
  },
  {
   "cell_type": "code",
   "execution_count": 74,
   "id": "fb10207b",
   "metadata": {},
   "outputs": [
    {
     "data": {
      "text/plain": [
       "15"
      ]
     },
     "execution_count": 74,
     "metadata": {},
     "output_type": "execute_result"
    }
   ],
   "source": [
    "sam.add(3,5,7)"
   ]
  },
  {
   "cell_type": "code",
   "execution_count": 75,
   "id": "8dc607d4",
   "metadata": {},
   "outputs": [
    {
     "data": {
      "text/plain": [
       "24"
      ]
     },
     "execution_count": 75,
     "metadata": {},
     "output_type": "execute_result"
    }
   ],
   "source": [
    "sam.add(3,5,7,9)"
   ]
  },
  {
   "cell_type": "markdown",
   "id": "5937c401",
   "metadata": {},
   "source": [
    "# 클래스 속성과 인스턴스 속성\n",
    "* 클래스 속성: 클래스 전체에서 공유하는 속성(변수), 모든 인스턴스에서 공유\n",
    "* 인스턴스 속성: 인스턴스에서만 사용하는 속성, 인스턴스간 공유 안됨"
   ]
  },
  {
   "cell_type": "code",
   "execution_count": 76,
   "id": "5bbc4ffe",
   "metadata": {},
   "outputs": [],
   "source": [
    "class DoorLock():\n",
    "    #클래스 속성\n",
    "    password=\"0000\""
   ]
  },
  {
   "cell_type": "code",
   "execution_count": 77,
   "id": "943981b9",
   "metadata": {},
   "outputs": [],
   "source": [
    "dul=DoorLock()"
   ]
  },
  {
   "cell_type": "code",
   "execution_count": 78,
   "id": "9fcd78db",
   "metadata": {},
   "outputs": [
    {
     "data": {
      "text/plain": [
       "'0000'"
      ]
     },
     "execution_count": 78,
     "metadata": {},
     "output_type": "execute_result"
    }
   ],
   "source": [
    "dul.password"
   ]
  },
  {
   "cell_type": "code",
   "execution_count": 79,
   "id": "93a0c144",
   "metadata": {},
   "outputs": [],
   "source": [
    "gil=DoorLock()"
   ]
  },
  {
   "cell_type": "code",
   "execution_count": 80,
   "id": "e65a5b52",
   "metadata": {},
   "outputs": [
    {
     "data": {
      "text/plain": [
       "'0000'"
      ]
     },
     "execution_count": 80,
     "metadata": {},
     "output_type": "execute_result"
    }
   ],
   "source": [
    "gil.password"
   ]
  },
  {
   "cell_type": "markdown",
   "id": "bd7f4c3a",
   "metadata": {},
   "source": [
    "park의 인스턴스 속성(비번 변경)"
   ]
  },
  {
   "cell_type": "code",
   "execution_count": 81,
   "id": "15b0f0b1",
   "metadata": {},
   "outputs": [],
   "source": [
    "park=DoorLock()"
   ]
  },
  {
   "cell_type": "code",
   "execution_count": 83,
   "id": "bb6df468",
   "metadata": {},
   "outputs": [
    {
     "data": {
      "text/plain": [
       "'0000'"
      ]
     },
     "execution_count": 83,
     "metadata": {},
     "output_type": "execute_result"
    }
   ],
   "source": [
    "park.password"
   ]
  },
  {
   "cell_type": "code",
   "execution_count": 84,
   "id": "ddcfb2fc",
   "metadata": {},
   "outputs": [],
   "source": [
    "# 인스턴스 속성으로 변경\n",
    "park.password=\"1234\""
   ]
  },
  {
   "cell_type": "code",
   "execution_count": 85,
   "id": "0101c70f",
   "metadata": {},
   "outputs": [
    {
     "data": {
      "text/plain": [
       "'1234'"
      ]
     },
     "execution_count": 85,
     "metadata": {},
     "output_type": "execute_result"
    }
   ],
   "source": [
    "park.password"
   ]
  },
  {
   "cell_type": "code",
   "execution_count": 86,
   "id": "1ec6afad",
   "metadata": {},
   "outputs": [
    {
     "data": {
      "text/plain": [
       "'0000'"
      ]
     },
     "execution_count": 86,
     "metadata": {},
     "output_type": "execute_result"
    }
   ],
   "source": [
    "DoorLock.password"
   ]
  },
  {
   "cell_type": "code",
   "execution_count": 87,
   "id": "f250e23b",
   "metadata": {},
   "outputs": [
    {
     "data": {
      "text/plain": [
       "'0000'"
      ]
     },
     "execution_count": 87,
     "metadata": {},
     "output_type": "execute_result"
    }
   ],
   "source": [
    "gil.password"
   ]
  },
  {
   "cell_type": "markdown",
   "id": "3368e179",
   "metadata": {},
   "source": [
    "# 비공개 클래스 속성\n",
    "* __변수명 -비공개 속성 변수\n",
    "* 보안이 필요해서 남들에게 정보를 노출하고 싶지 않을 때 사용"
   ]
  },
  {
   "cell_type": "code",
   "execution_count": 95,
   "id": "17a70e83",
   "metadata": {},
   "outputs": [],
   "source": [
    "class PInfo():\n",
    "    lastname=\"홍\"\n",
    "    __first_name=\"길동\"\n",
    "    __password=\"9513\""
   ]
  },
  {
   "cell_type": "code",
   "execution_count": 96,
   "id": "e63d8f5e",
   "metadata": {},
   "outputs": [
    {
     "data": {
      "text/plain": [
       "'홍'"
      ]
     },
     "execution_count": 96,
     "metadata": {},
     "output_type": "execute_result"
    }
   ],
   "source": [
    "PInfo.lastname"
   ]
  },
  {
   "cell_type": "code",
   "execution_count": 98,
   "id": "36c9800c",
   "metadata": {},
   "outputs": [
    {
     "ename": "AttributeError",
     "evalue": "type object 'PInfo' has no attribute '__first_name'",
     "output_type": "error",
     "traceback": [
      "\u001b[1;31m---------------------------------------------------------------------------\u001b[0m",
      "\u001b[1;31mAttributeError\u001b[0m                            Traceback (most recent call last)",
      "Cell \u001b[1;32mIn[98], line 1\u001b[0m\n\u001b[1;32m----> 1\u001b[0m \u001b[43mPInfo\u001b[49m\u001b[38;5;241;43m.\u001b[39;49m\u001b[43m__first_name\u001b[49m\n",
      "\u001b[1;31mAttributeError\u001b[0m: type object 'PInfo' has no attribute '__first_name'"
     ]
    }
   ],
   "source": [
    "PInfo.__first_name"
   ]
  },
  {
   "cell_type": "code",
   "execution_count": 99,
   "id": "64975c6f",
   "metadata": {},
   "outputs": [
    {
     "ename": "AttributeError",
     "evalue": "type object 'PInfo' has no attribute '__password'",
     "output_type": "error",
     "traceback": [
      "\u001b[1;31m---------------------------------------------------------------------------\u001b[0m",
      "\u001b[1;31mAttributeError\u001b[0m                            Traceback (most recent call last)",
      "Cell \u001b[1;32mIn[99], line 1\u001b[0m\n\u001b[1;32m----> 1\u001b[0m \u001b[43mPInfo\u001b[49m\u001b[38;5;241;43m.\u001b[39;49m\u001b[43m__password\u001b[49m\n",
      "\u001b[1;31mAttributeError\u001b[0m: type object 'PInfo' has no attribute '__password'"
     ]
    }
   ],
   "source": [
    "PInfo.__password"
   ]
  },
  {
   "cell_type": "code",
   "execution_count": 92,
   "id": "53035d6e",
   "metadata": {},
   "outputs": [],
   "source": [
    "hong=PInfo()"
   ]
  },
  {
   "cell_type": "code",
   "execution_count": 93,
   "id": "dd786214",
   "metadata": {},
   "outputs": [
    {
     "data": {
      "text/plain": [
       "'홍'"
      ]
     },
     "execution_count": 93,
     "metadata": {},
     "output_type": "execute_result"
    }
   ],
   "source": [
    "hong.lastname"
   ]
  },
  {
   "cell_type": "code",
   "execution_count": 100,
   "id": "14429cf0",
   "metadata": {},
   "outputs": [
    {
     "ename": "AttributeError",
     "evalue": "'PInfo' object has no attribute '__first_name'",
     "output_type": "error",
     "traceback": [
      "\u001b[1;31m---------------------------------------------------------------------------\u001b[0m",
      "\u001b[1;31mAttributeError\u001b[0m                            Traceback (most recent call last)",
      "Cell \u001b[1;32mIn[100], line 1\u001b[0m\n\u001b[1;32m----> 1\u001b[0m \u001b[43mhong\u001b[49m\u001b[38;5;241;43m.\u001b[39;49m\u001b[43m__first_name\u001b[49m\n",
      "\u001b[1;31mAttributeError\u001b[0m: 'PInfo' object has no attribute '__first_name'"
     ]
    }
   ],
   "source": [
    "hong.__first_name"
   ]
  },
  {
   "cell_type": "markdown",
   "id": "ae836b8f",
   "metadata": {},
   "source": [
    "* 비공개 클래스 속성을 직접 출력하려고 하면 에러\n",
    "* 클래스 내에서 매서드를 만들어서 출력하면 출력 가능"
   ]
  },
  {
   "cell_type": "code",
   "execution_count": 101,
   "id": "454a3e26",
   "metadata": {},
   "outputs": [],
   "source": [
    "class PInfo():\n",
    "    lastname=\"홍\"\n",
    "    __first_name=\"길동\"\n",
    "    __password=\"9513\"\n",
    "    \n",
    "    def print_name(self):\n",
    "        print(self.__first_name)\n",
    "    def print_password(self):\n",
    "        print(self.__password)"
   ]
  },
  {
   "cell_type": "code",
   "execution_count": 102,
   "id": "41c7c090",
   "metadata": {},
   "outputs": [],
   "source": [
    "sam=PInfo()"
   ]
  },
  {
   "cell_type": "code",
   "execution_count": 106,
   "id": "939eac7d",
   "metadata": {},
   "outputs": [
    {
     "name": "stdout",
     "output_type": "stream",
     "text": [
      "길동\n"
     ]
    }
   ],
   "source": [
    "sam.print_name()"
   ]
  },
  {
   "cell_type": "code",
   "execution_count": 107,
   "id": "75a7a50c",
   "metadata": {},
   "outputs": [
    {
     "name": "stdout",
     "output_type": "stream",
     "text": [
      "9513\n"
     ]
    }
   ],
   "source": [
    "sam.print_password()"
   ]
  },
  {
   "cell_type": "markdown",
   "id": "63833aa9",
   "metadata": {},
   "source": [
    "# 정적 메서드 static method\n",
    "* 인스턴스를 만들지 않고도 클래스의 메서드를 바로 사용할 수 있는 메서드\n",
    "* 메서드 위에 @staticmethod라는 데코레이터를 붙여서 만듦\n",
    "* static method는 self를 받지 않으므로 인스턴스 속성, 인스턴스 메서드가 필요하지 않을 때 사용"
   ]
  },
  {
   "cell_type": "code",
   "execution_count": 108,
   "id": "fcfcc391",
   "metadata": {},
   "outputs": [],
   "source": [
    "class Cal():\n",
    "    @staticmethod\n",
    "    def add(a,b):\n",
    "        print(a+b)\n",
    "    @staticmethod\n",
    "    def sub(a,b):\n",
    "        print(a-b)"
   ]
  },
  {
   "cell_type": "code",
   "execution_count": 109,
   "id": "5cab553d",
   "metadata": {},
   "outputs": [],
   "source": [
    "dul=Cal()"
   ]
  },
  {
   "cell_type": "code",
   "execution_count": 110,
   "id": "f336899b",
   "metadata": {},
   "outputs": [
    {
     "name": "stdout",
     "output_type": "stream",
     "text": [
      "8\n"
     ]
    }
   ],
   "source": [
    "dul.add(3,5)"
   ]
  },
  {
   "cell_type": "code",
   "execution_count": 112,
   "id": "ef88b62c",
   "metadata": {},
   "outputs": [
    {
     "name": "stdout",
     "output_type": "stream",
     "text": [
      "8\n"
     ]
    }
   ],
   "source": [
    "Cal.add(3,5)"
   ]
  },
  {
   "cell_type": "code",
   "execution_count": null,
   "id": "02c3990c",
   "metadata": {},
   "outputs": [],
   "source": []
  }
 ],
 "metadata": {
  "kernelspec": {
   "display_name": "Python 3 (ipykernel)",
   "language": "python",
   "name": "python3"
  },
  "language_info": {
   "codemirror_mode": {
    "name": "ipython",
    "version": 3
   },
   "file_extension": ".py",
   "mimetype": "text/x-python",
   "name": "python",
   "nbconvert_exporter": "python",
   "pygments_lexer": "ipython3",
   "version": "3.9.23"
  }
 },
 "nbformat": 4,
 "nbformat_minor": 5
}
