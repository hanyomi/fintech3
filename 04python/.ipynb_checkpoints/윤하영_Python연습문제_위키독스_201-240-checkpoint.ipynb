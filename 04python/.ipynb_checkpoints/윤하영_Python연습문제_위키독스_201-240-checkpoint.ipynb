{
 "cells": [
  {
   "cell_type": "markdown",
   "id": "99555265",
   "metadata": {},
   "source": [
    "# 파이썬 함수(201-210)"
   ]
  },
  {
   "cell_type": "code",
   "execution_count": 2,
   "id": "6cc6fab6",
   "metadata": {},
   "outputs": [],
   "source": [
    "def print_coin():\n",
    "    print(\"비트코인\")"
   ]
  },
  {
   "cell_type": "code",
   "execution_count": 3,
   "id": "c96a65ba",
   "metadata": {},
   "outputs": [
    {
     "name": "stdout",
     "output_type": "stream",
     "text": [
      "비트코인\n"
     ]
    }
   ],
   "source": [
    "print_coin()"
   ]
  },
  {
   "cell_type": "code",
   "execution_count": 7,
   "id": "f4e451ea",
   "metadata": {},
   "outputs": [],
   "source": [
    "def print_coin():\n",
    "    for i in range(1,101):\n",
    "        print(\"비트코인\")"
   ]
  },
  {
   "cell_type": "code",
   "execution_count": 8,
   "id": "1655d4a1",
   "metadata": {},
   "outputs": [
    {
     "ename": "NameError",
     "evalue": "name 'hello' is not defined",
     "output_type": "error",
     "traceback": [
      "\u001b[1;31m---------------------------------------------------------------------------\u001b[0m",
      "\u001b[1;31mNameError\u001b[0m                                 Traceback (most recent call last)",
      "Cell \u001b[1;32mIn[8], line 1\u001b[0m\n\u001b[1;32m----> 1\u001b[0m \u001b[43mhello\u001b[49m()\n\u001b[0;32m      2\u001b[0m \u001b[38;5;28;01mdef\u001b[39;00m\u001b[38;5;250m \u001b[39m\u001b[38;5;21mhello\u001b[39m():\n\u001b[0;32m      3\u001b[0m     \u001b[38;5;28mprint\u001b[39m(\u001b[38;5;124m\"\u001b[39m\u001b[38;5;124mHi\u001b[39m\u001b[38;5;124m\"\u001b[39m)\n",
      "\u001b[1;31mNameError\u001b[0m: name 'hello' is not defined"
     ]
    }
   ],
   "source": [
    "hello()\n",
    "def hello():\n",
    "    print(\"Hi\")\n",
    "#오류가 나는 이유= hello가 정의되기 전에 호출되어서"
   ]
  },
  {
   "cell_type": "code",
   "execution_count": 9,
   "id": "2455b5c4",
   "metadata": {},
   "outputs": [
    {
     "name": "stdout",
     "output_type": "stream",
     "text": [
      "A\n",
      "B\n",
      "C\n",
      "A\n",
      "B\n"
     ]
    }
   ],
   "source": [
    "def message() :\n",
    "    print(\"A\")\n",
    "    print(\"B\")\n",
    "\n",
    "message()\n",
    "print(\"C\")\n",
    "message()\n",
    "# 결과는 A B C A B일 것이다"
   ]
  },
  {
   "cell_type": "code",
   "execution_count": 10,
   "id": "44a0a1bd",
   "metadata": {},
   "outputs": [
    {
     "name": "stdout",
     "output_type": "stream",
     "text": [
      "A\n",
      "C\n",
      "B\n"
     ]
    }
   ],
   "source": [
    "print(\"A\")\n",
    "\n",
    "def message() :\n",
    "    print(\"B\")\n",
    "\n",
    "print(\"C\")\n",
    "message()\n",
    "# 결과는 A C B일 것이다"
   ]
  },
  {
   "cell_type": "code",
   "execution_count": 11,
   "id": "e2406f59",
   "metadata": {},
   "outputs": [
    {
     "name": "stdout",
     "output_type": "stream",
     "text": [
      "A\n",
      "C\n",
      "B\n",
      "E\n",
      "D\n"
     ]
    }
   ],
   "source": [
    "print(\"A\")\n",
    "def message1() :\n",
    "    print(\"B\")\n",
    "print(\"C\")\n",
    "def message2() :\n",
    "    print(\"D\")\n",
    "message1()\n",
    "print(\"E\")\n",
    "message2()\n",
    "# 결과는 A C B E D"
   ]
  },
  {
   "cell_type": "code",
   "execution_count": 12,
   "id": "3f9a943d",
   "metadata": {},
   "outputs": [
    {
     "name": "stdout",
     "output_type": "stream",
     "text": [
      "B\n",
      "A\n"
     ]
    }
   ],
   "source": [
    "def message1():\n",
    "    print(\"A\")\n",
    "\n",
    "def message2():\n",
    "    print(\"B\")\n",
    "    message1()\n",
    "\n",
    "message2()\n",
    "# B A"
   ]
  },
  {
   "cell_type": "code",
   "execution_count": 13,
   "id": "1d29e059",
   "metadata": {},
   "outputs": [
    {
     "name": "stdout",
     "output_type": "stream",
     "text": [
      "B\n",
      "C\n",
      "B\n",
      "C\n",
      "B\n",
      "C\n",
      "A\n"
     ]
    }
   ],
   "source": [
    "def message1():\n",
    "    print(\"A\")\n",
    "\n",
    "def message2():\n",
    "    print(\"B\")\n",
    "\n",
    "def message3():\n",
    "    for i in range (3) :\n",
    "        message2()\n",
    "        print(\"C\")\n",
    "    message1()\n",
    "\n",
    "message3()\n",
    "# B C B C B C A"
   ]
  },
  {
   "cell_type": "markdown",
   "id": "0073f842",
   "metadata": {},
   "source": [
    "# 파이썬 함수(211~220)"
   ]
  },
  {
   "cell_type": "code",
   "execution_count": 14,
   "id": "1b0cb9fc",
   "metadata": {},
   "outputs": [
    {
     "name": "stdout",
     "output_type": "stream",
     "text": [
      "안녕\n",
      "Hi\n"
     ]
    }
   ],
   "source": [
    "def 함수(문자열) :\n",
    "    print(문자열)\n",
    "\n",
    "함수(\"안녕\")\n",
    "함수(\"Hi\")\n",
    "# 안녕 Hi"
   ]
  },
  {
   "cell_type": "code",
   "execution_count": 15,
   "id": "a37474b2",
   "metadata": {},
   "outputs": [
    {
     "name": "stdout",
     "output_type": "stream",
     "text": [
      "7\n",
      "15\n"
     ]
    }
   ],
   "source": [
    "def 함수(a, b) :\n",
    "    print(a + b)\n",
    "\n",
    "함수(3, 4)\n",
    "함수(7, 8)\n",
    "# 7 15"
   ]
  },
  {
   "cell_type": "code",
   "execution_count": 17,
   "id": "49c07cf1",
   "metadata": {},
   "outputs": [
    {
     "ename": "TypeError",
     "evalue": "함수() missing 1 required positional argument: '문자열'",
     "output_type": "error",
     "traceback": [
      "\u001b[1;31m---------------------------------------------------------------------------\u001b[0m",
      "\u001b[1;31mTypeError\u001b[0m                                 Traceback (most recent call last)",
      "Cell \u001b[1;32mIn[17], line 3\u001b[0m\n\u001b[0;32m      1\u001b[0m \u001b[38;5;28;01mdef\u001b[39;00m\u001b[38;5;250m \u001b[39m\u001b[38;5;21m함수\u001b[39m(문자열) :\n\u001b[0;32m      2\u001b[0m     \u001b[38;5;28mprint\u001b[39m(문자열)\n\u001b[1;32m----> 3\u001b[0m \u001b[43m함수\u001b[49m\u001b[43m(\u001b[49m\u001b[43m)\u001b[49m\n\u001b[0;32m      4\u001b[0m \u001b[38;5;66;03m# 문자열을 입력하지 않아서\u001b[39;00m\n",
      "\u001b[1;31mTypeError\u001b[0m: 함수() missing 1 required positional argument: '문자열'"
     ]
    }
   ],
   "source": [
    "def 함수(문자열) :\n",
    "    print(문자열)\n",
    "함수()\n",
    "# 문자열을 입력하지 않아서"
   ]
  },
  {
   "cell_type": "code",
   "execution_count": 18,
   "id": "dc09bc94",
   "metadata": {},
   "outputs": [
    {
     "ename": "TypeError",
     "evalue": "can only concatenate str (not \"int\") to str",
     "output_type": "error",
     "traceback": [
      "\u001b[1;31m---------------------------------------------------------------------------\u001b[0m",
      "\u001b[1;31mTypeError\u001b[0m                                 Traceback (most recent call last)",
      "Cell \u001b[1;32mIn[18], line 4\u001b[0m\n\u001b[0;32m      1\u001b[0m \u001b[38;5;28;01mdef\u001b[39;00m\u001b[38;5;250m \u001b[39m\u001b[38;5;21m함수\u001b[39m(a, b) :\n\u001b[0;32m      2\u001b[0m     \u001b[38;5;28mprint\u001b[39m(a \u001b[38;5;241m+\u001b[39m b)\n\u001b[1;32m----> 4\u001b[0m \u001b[43m함수\u001b[49m\u001b[43m(\u001b[49m\u001b[38;5;124;43m\"\u001b[39;49m\u001b[38;5;124;43m안녕\u001b[39;49m\u001b[38;5;124;43m\"\u001b[39;49m\u001b[43m,\u001b[49m\u001b[43m \u001b[49m\u001b[38;5;241;43m3\u001b[39;49m\u001b[43m)\u001b[49m\n\u001b[0;32m      5\u001b[0m \u001b[38;5;66;03m# 정수가 아닌 문자열 입력\u001b[39;00m\n",
      "Cell \u001b[1;32mIn[18], line 2\u001b[0m, in \u001b[0;36m함수\u001b[1;34m(a, b)\u001b[0m\n\u001b[0;32m      1\u001b[0m \u001b[38;5;28;01mdef\u001b[39;00m\u001b[38;5;250m \u001b[39m\u001b[38;5;21m함수\u001b[39m(a, b) :\n\u001b[1;32m----> 2\u001b[0m     \u001b[38;5;28mprint\u001b[39m(\u001b[43ma\u001b[49m\u001b[43m \u001b[49m\u001b[38;5;241;43m+\u001b[39;49m\u001b[43m \u001b[49m\u001b[43mb\u001b[49m)\n",
      "\u001b[1;31mTypeError\u001b[0m: can only concatenate str (not \"int\") to str"
     ]
    }
   ],
   "source": [
    "def 함수(a, b) :\n",
    "    print(a + b)\n",
    "\n",
    "함수(\"안녕\", 3)\n",
    "# 정수가 아닌 문자열 입력"
   ]
  },
  {
   "cell_type": "code",
   "execution_count": 22,
   "id": "d6218cdd",
   "metadata": {},
   "outputs": [],
   "source": [
    "def print_with_smile(string) :\n",
    "    print(string+\":D\")"
   ]
  },
  {
   "cell_type": "code",
   "execution_count": 25,
   "id": "9c806e42",
   "metadata": {},
   "outputs": [
    {
     "name": "stdout",
     "output_type": "stream",
     "text": [
      "안녕하세요:D\n"
     ]
    }
   ],
   "source": [
    "print_with_smile(\"안녕하세요\")"
   ]
  },
  {
   "cell_type": "code",
   "execution_count": 28,
   "id": "e83e4801",
   "metadata": {},
   "outputs": [],
   "source": [
    "def print_upper_price(price):\n",
    "    print(price*1.3)"
   ]
  },
  {
   "cell_type": "code",
   "execution_count": 29,
   "id": "a222d21c",
   "metadata": {},
   "outputs": [],
   "source": [
    "def print_sum(a,b):\n",
    "    print(a+b)"
   ]
  },
  {
   "cell_type": "code",
   "execution_count": 31,
   "id": "f6bc2303",
   "metadata": {},
   "outputs": [
    {
     "name": "stdout",
     "output_type": "stream",
     "text": [
      "3 + 4 = 7\n",
      "3 - 4 = -1\n",
      "3 * 4 = 12\n",
      "3 / 4 = 0.75\n"
     ]
    }
   ],
   "source": [
    "def print_arithmetic_operation(a,b):\n",
    "    print(a,\"+\",b,\"=\",a+b)\n",
    "    print(a,\"-\",b,\"=\",a-b)\n",
    "    print(a,\"*\",b,\"=\",a*b)\n",
    "    print(a,\"/\",b,\"=\",a/b)\n",
    "print_arithmetic_operation(3,4)"
   ]
  },
  {
   "cell_type": "code",
   "execution_count": 35,
   "id": "a88fa2e9",
   "metadata": {},
   "outputs": [],
   "source": [
    "def print_max(a,b,c):\n",
    "    if a>=b and a>=c:\n",
    "        print(a)\n",
    "    elif b>=a and b>=c:\n",
    "        print(b)\n",
    "    else:\n",
    "        print(c)"
   ]
  },
  {
   "cell_type": "markdown",
   "id": "6ce9f59e",
   "metadata": {},
   "source": [
    "# 파이썬 함수(221~230)"
   ]
  },
  {
   "cell_type": "code",
   "execution_count": 43,
   "id": "e5313fc9",
   "metadata": {},
   "outputs": [],
   "source": [
    "def print_reverse(string):\n",
    "    print(string[::-1])"
   ]
  },
  {
   "cell_type": "code",
   "execution_count": 45,
   "id": "4c7dcd6c",
   "metadata": {},
   "outputs": [
    {
     "name": "stdout",
     "output_type": "stream",
     "text": [
      "2.0\n"
     ]
    }
   ],
   "source": [
    "a=[1,2,3]\n",
    "def print_score(lists):\n",
    "    print(sum(lists)/len(lists))\n",
    "print_score(a)"
   ]
  },
  {
   "cell_type": "code",
   "execution_count": 46,
   "id": "2a422886",
   "metadata": {},
   "outputs": [
    {
     "name": "stdout",
     "output_type": "stream",
     "text": [
      "2\n",
      "10\n",
      "12\n"
     ]
    }
   ],
   "source": [
    "def print_even(lists):\n",
    "    for i in lists:\n",
    "        if i %2==0:\n",
    "            print(i)\n",
    "print_even([1,3,2,10,12,11,15])"
   ]
  },
  {
   "cell_type": "code",
   "execution_count": 48,
   "id": "45eada0c",
   "metadata": {},
   "outputs": [
    {
     "name": "stdout",
     "output_type": "stream",
     "text": [
      "이름\n",
      "나이\n",
      "성별\n"
     ]
    }
   ],
   "source": [
    "def print_keys(dicts):\n",
    "    for i in dicts.keys():\n",
    "        print(i)\n",
    "print_keys({\"이름\":\"김말똥\",\"나이\":30,\"성별\":0})"
   ]
  },
  {
   "cell_type": "code",
   "execution_count": 50,
   "id": "e7e39842",
   "metadata": {},
   "outputs": [
    {
     "name": "stdout",
     "output_type": "stream",
     "text": [
      "[100, 130, 100, 100]\n"
     ]
    }
   ],
   "source": [
    "my_dict = {\"10/26\" : [100, 130, 100, 100],\n",
    "           \"10/27\" : [10, 12, 10, 11]}\n",
    "def print_value_by_key(lists,key):\n",
    "    print(lists[key])\n",
    "print_value_by_key(my_dict,\"10/26\")"
   ]
  },
  {
   "cell_type": "code",
   "execution_count": 56,
   "id": "46eb5047",
   "metadata": {},
   "outputs": [
    {
     "name": "stdout",
     "output_type": "stream",
     "text": [
      "아이엠어보\n",
      "이유알어걸\n",
      "\n"
     ]
    }
   ],
   "source": [
    "def print_5xn(string):\n",
    "    count_num=int(len(string)/5)\n",
    "    for i in range(count_num+1):\n",
    "        print(string[i*5:i*5+5])\n",
    "print_5xn(\"아이엠어보이유알어걸\")"
   ]
  },
  {
   "cell_type": "code",
   "execution_count": 57,
   "id": "117cee9a",
   "metadata": {},
   "outputs": [
    {
     "name": "stdout",
     "output_type": "stream",
     "text": [
      "아이엠\n",
      "어보이\n",
      "유알어\n",
      "걸\n"
     ]
    }
   ],
   "source": [
    "def printmxn(string,num):\n",
    "    count_num=int(len(string)/num)\n",
    "    for i in range(count_num+1):\n",
    "        print(string[i*num:i*num+num])\n",
    "printmxn(\"아이엠어보이유알어걸\",3)"
   ]
  },
  {
   "cell_type": "code",
   "execution_count": 60,
   "id": "a7e12a2d",
   "metadata": {},
   "outputs": [
    {
     "name": "stdout",
     "output_type": "stream",
     "text": [
      "1000000\n"
     ]
    }
   ],
   "source": [
    "def calc_monthly_salary(annual_pay):\n",
    "    monthly_pay=int(annual_pay/12)\n",
    "    print(monthly_pay)\n",
    "calc_monthly_salary(12000000)"
   ]
  },
  {
   "cell_type": "code",
   "execution_count": 61,
   "id": "2ab0f0db",
   "metadata": {},
   "outputs": [
    {
     "name": "stdout",
     "output_type": "stream",
     "text": [
      "왼쪽: 100\n",
      "오른쪽: 200\n"
     ]
    }
   ],
   "source": [
    "def my_print (a, b) :\n",
    "    print(\"왼쪽:\", a)\n",
    "    print(\"오른쪽:\", b)\n",
    "\n",
    "my_print(a=100, b=200)\n",
    "# 왼쪽:100 오른쪽:200으로 나올 것이다"
   ]
  },
  {
   "cell_type": "code",
   "execution_count": 62,
   "id": "477495dc",
   "metadata": {},
   "outputs": [
    {
     "name": "stdout",
     "output_type": "stream",
     "text": [
      "왼쪽: 200\n",
      "오른쪽: 100\n"
     ]
    }
   ],
   "source": [
    "def my_print (a, b) :\n",
    "    print(\"왼쪽:\", a)\n",
    "    print(\"오른쪽:\", b)\n",
    "\n",
    "my_print(b=100, a=200)\n",
    "# 왼쪽:200 오른쪽:100으로 나올 것이다"
   ]
  },
  {
   "cell_type": "markdown",
   "id": "be84be71",
   "metadata": {},
   "source": [
    "# 파이썬 함수(231~240)"
   ]
  },
  {
   "cell_type": "code",
   "execution_count": 64,
   "id": "e1c63ba3",
   "metadata": {},
   "outputs": [
    {
     "ename": "NameError",
     "evalue": "name 'result' is not defined",
     "output_type": "error",
     "traceback": [
      "\u001b[1;31m---------------------------------------------------------------------------\u001b[0m",
      "\u001b[1;31mNameError\u001b[0m                                 Traceback (most recent call last)",
      "Cell \u001b[1;32mIn[64], line 5\u001b[0m\n\u001b[0;32m      2\u001b[0m     result \u001b[38;5;241m=\u001b[39m n \u001b[38;5;241m+\u001b[39m \u001b[38;5;241m1\u001b[39m\n\u001b[0;32m      4\u001b[0m n_plus_1(\u001b[38;5;241m3\u001b[39m)\n\u001b[1;32m----> 5\u001b[0m \u001b[38;5;28mprint\u001b[39m (\u001b[43mresult\u001b[49m)\n\u001b[0;32m      6\u001b[0m \u001b[38;5;66;03m# 에러발생\u001b[39;00m\n",
      "\u001b[1;31mNameError\u001b[0m: name 'result' is not defined"
     ]
    }
   ],
   "source": [
    "def n_plus_1 (n) :\n",
    "    result = n + 1\n",
    "\n",
    "n_plus_1(3)\n",
    "print (result)\n",
    "# 에러발생"
   ]
  },
  {
   "cell_type": "code",
   "execution_count": 66,
   "id": "4e99e280",
   "metadata": {},
   "outputs": [
    {
     "name": "stdout",
     "output_type": "stream",
     "text": [
      "www.naver.com\n"
     ]
    }
   ],
   "source": [
    "def make_url(string):\n",
    "    print(\"www.\"+string+\".com\")\n",
    "make_url(\"naver\")"
   ]
  },
  {
   "cell_type": "code",
   "execution_count": 74,
   "id": "8f923893",
   "metadata": {},
   "outputs": [
    {
     "name": "stdout",
     "output_type": "stream",
     "text": [
      "['a', 'b', 'c', 'd']\n"
     ]
    }
   ],
   "source": [
    "lists=[]\n",
    "def make_list(string):\n",
    "    for i in range(len(string)):\n",
    "        lists.append(string[i])\n",
    "    print(lists)\n",
    "make_list(\"abcd\")"
   ]
  },
  {
   "cell_type": "code",
   "execution_count": 76,
   "id": "b8cd9c05",
   "metadata": {},
   "outputs": [
    {
     "data": {
      "text/plain": [
       "[4, 6, 8]"
      ]
     },
     "execution_count": 76,
     "metadata": {},
     "output_type": "execute_result"
    }
   ],
   "source": [
    "even=[]\n",
    "def pickup_even(lists):\n",
    "    for i in lists:\n",
    "        if i%2==0:\n",
    "           even.append(i)\n",
    "pickup_even([3,4,5,6,7,8])\n",
    "even"
   ]
  },
  {
   "cell_type": "code",
   "execution_count": 78,
   "id": "a812360f",
   "metadata": {},
   "outputs": [
    {
     "data": {
      "text/plain": [
       "1234567"
      ]
     },
     "execution_count": 78,
     "metadata": {},
     "output_type": "execute_result"
    }
   ],
   "source": [
    "def covert_int(num):\n",
    "    return int(num.replace(',',''))\n",
    "covert_int(\"1,234,567\")"
   ]
  },
  {
   "cell_type": "code",
   "execution_count": 79,
   "id": "4174a0ff",
   "metadata": {},
   "outputs": [
    {
     "name": "stdout",
     "output_type": "stream",
     "text": [
      "22\n"
     ]
    }
   ],
   "source": [
    "def 함수(num) :\n",
    "    return num + 4\n",
    "\n",
    "a = 함수(10)\n",
    "b = 함수(a)\n",
    "c = 함수(b)\n",
    "print(c)\n",
    "# 22일 것 같다"
   ]
  },
  {
   "cell_type": "code",
   "execution_count": 80,
   "id": "f0f2b322",
   "metadata": {},
   "outputs": [
    {
     "name": "stdout",
     "output_type": "stream",
     "text": [
      "22\n"
     ]
    }
   ],
   "source": [
    "def 함수(num) :\n",
    "    return num + 4\n",
    "\n",
    "c = 함수(함수(함수(10)))\n",
    "print(c)\n",
    "# 22일 것 같다"
   ]
  },
  {
   "cell_type": "code",
   "execution_count": 81,
   "id": "78defa57",
   "metadata": {},
   "outputs": [
    {
     "name": "stdout",
     "output_type": "stream",
     "text": [
      "140\n"
     ]
    }
   ],
   "source": [
    "def 함수1(num) :\n",
    "    return num + 4\n",
    "\n",
    "def 함수2(num) :\n",
    "    return num * 10\n",
    "\n",
    "a = 함수1(10)\n",
    "c = 함수2(a)\n",
    "print(c)\n",
    "# 140일 것 같다"
   ]
  },
  {
   "cell_type": "code",
   "execution_count": 82,
   "id": "bdd0b207",
   "metadata": {},
   "outputs": [
    {
     "name": "stdout",
     "output_type": "stream",
     "text": [
      "16\n"
     ]
    }
   ],
   "source": [
    "def 함수1(num) :\n",
    "    return num + 4\n",
    "\n",
    "def 함수2(num) :\n",
    "    num = num + 2\n",
    "    return 함수1(num)\n",
    "\n",
    "c = 함수2(10)\n",
    "print(c)\n",
    "# 16일 것 같다"
   ]
  },
  {
   "cell_type": "code",
   "execution_count": 83,
   "id": "4ba3301b",
   "metadata": {},
   "outputs": [
    {
     "name": "stdout",
     "output_type": "stream",
     "text": [
      "28\n"
     ]
    }
   ],
   "source": [
    "def 함수0(num) :\n",
    "    return num * 2\n",
    "\n",
    "def 함수1(num) :\n",
    "    return 함수0(num + 2)\n",
    "\n",
    "def 함수2(num) :\n",
    "    num = num + 10\n",
    "    return 함수1(num)\n",
    "\n",
    "c = 함수2(2)\n",
    "print(c)\n",
    "#28 일 것 같다"
   ]
  },
  {
   "cell_type": "code",
   "execution_count": null,
   "id": "344fb49e",
   "metadata": {},
   "outputs": [],
   "source": []
  }
 ],
 "metadata": {
  "kernelspec": {
   "display_name": "Python 3 (ipykernel)",
   "language": "python",
   "name": "python3"
  },
  "language_info": {
   "codemirror_mode": {
    "name": "ipython",
    "version": 3
   },
   "file_extension": ".py",
   "mimetype": "text/x-python",
   "name": "python",
   "nbconvert_exporter": "python",
   "pygments_lexer": "ipython3",
   "version": "3.9.23"
  }
 },
 "nbformat": 4,
 "nbformat_minor": 5
}
