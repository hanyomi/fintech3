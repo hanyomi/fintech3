{
 "cells": [
  {
   "cell_type": "markdown",
   "id": "b3859ee2",
   "metadata": {},
   "source": [
    "# if else 조건문\n",
    "## 1. 조건문이란? 특정 조건을 판별해서 작업을 분기시키는 문법\n",
    "* if 조건식: <br>\n",
    "____조건식이 참일 때 실행할 코드 <br>\n",
    "else:<br>\n",
    "____조건식이 거짓일 때 실행할 코드<br>\n"
   ]
  },
  {
   "cell_type": "code",
   "execution_count": 4,
   "id": "93ac20d9",
   "metadata": {},
   "outputs": [],
   "source": [
    "x=10"
   ]
  },
  {
   "cell_type": "code",
   "execution_count": 6,
   "id": "b689ada9",
   "metadata": {},
   "outputs": [
    {
     "name": "stdout",
     "output_type": "stream",
     "text": [
      "10는, 10입니다.\n"
     ]
    }
   ],
   "source": [
    "if x==10:\n",
    "    print(f\"{x}는, 10입니다.\")\n",
    "else:\n",
    "    print(f\"{x}는, 10이 아닙니다.\")"
   ]
  },
  {
   "cell_type": "code",
   "execution_count": 12,
   "id": "70dd9a61",
   "metadata": {},
   "outputs": [
    {
     "name": "stdout",
     "output_type": "stream",
     "text": [
      "10는 짝수이고 10입니다.\n"
     ]
    }
   ],
   "source": [
    "if x==10:\n",
    "    if x %2==0:\n",
    "        print(f\"{x}는 짝수이고 10입니다.\")\n",
    "    else:\n",
    "        print(f\"{x}는 홀수이고, 10이 아닙니다.\")\n",
    "else:\n",
    "    if x %3==0:\n",
    "        print(f\"{x}는 3의 배수입니다.\")\n",
    "    else:\n",
    "        print(f\"{x}는,3의 배수와 10이 아닙니다.\")"
   ]
  },
  {
   "cell_type": "code",
   "execution_count": 13,
   "id": "56797e26",
   "metadata": {},
   "outputs": [
    {
     "data": {
      "text/plain": [
       "['파이썬', '조건문', 10, 15.3, True, [1, 2, 3], (4, 5, 6), {'key': 365}]"
      ]
     },
     "execution_count": 13,
     "metadata": {},
     "output_type": "execute_result"
    }
   ],
   "source": [
    "l1=[\"파이썬\",\"조건문\",10,15.3,True,[1,2,3],(4,5,6),{\"key\":365}]\n",
    "l1"
   ]
  },
  {
   "cell_type": "code",
   "execution_count": 14,
   "id": "02ce154e",
   "metadata": {},
   "outputs": [
    {
     "data": {
      "text/plain": [
       "False"
      ]
     },
     "execution_count": 14,
     "metadata": {},
     "output_type": "execute_result"
    }
   ],
   "source": [
    "10 not in l1"
   ]
  },
  {
   "cell_type": "code",
   "execution_count": 15,
   "id": "7cc51858",
   "metadata": {},
   "outputs": [
    {
     "name": "stdout",
     "output_type": "stream",
     "text": [
      "l1안에 파이썬이 있습니다.\n"
     ]
    }
   ],
   "source": [
    "if \"파이썬\" in l1:\n",
    "    print(\"l1안에 파이썬이 있습니다.\")\n",
    "else:\n",
    "    print(\"l1안에 파이썬이 없습니다.\")"
   ]
  },
  {
   "cell_type": "markdown",
   "id": "bf2aae5f",
   "metadata": {},
   "source": [
    "* 숫자를 입력받아 홀수인지 짝수인지 판단하는 프로그램\n",
    "    * 숫자를 입력 받는다 input()\n",
    "    * 조건문으로 홀수/짝수 판단 %2==0 짝수, %2==1 홀수\n",
    "    * 입력한 숫자 {}는 짝수입니다./홀수입니다."
   ]
  },
  {
   "cell_type": "code",
   "execution_count": 8,
   "id": "ea4e9b57",
   "metadata": {},
   "outputs": [
    {
     "name": "stdout",
     "output_type": "stream",
     "text": [
      "숫자를 입력하세요51\n",
      "입력한 숫자51는 홀수입니다.\n"
     ]
    }
   ],
   "source": [
    "x=int(input(\"숫자를 입력하세요\"))\n",
    "if x %2==0:\n",
    "    print(f\"입력한 숫자{x}는 짝수입니다.\")\n",
    "else:\n",
    "    print(f\"입력한 숫자{x}는 홀수입니다.\")"
   ]
  },
  {
   "cell_type": "markdown",
   "id": "4aeb3cb4",
   "metadata": {},
   "source": [
    "## 2. 다중 조건문 사용하기 elif\n",
    "if 조건식:<br>\n",
    "____조건이 참일 때 실행할 코드<br>\n",
    "elif 조건식2<br>\n",
    "____조건2이 참일 때 실행할 코드<br>\n",
    "elif 조건식3<br>\n",
    "____조건3이 참일 때 실행할 코드<br>\n",
    "elif 조건식4<br>\n",
    "____조건4이 참일 때 실행할 코드<br>\n",
    "elif 조건식5<br>\n",
    "____조건5이 참일 때 실행할 코드<br>\n",
    "else :\n",
    "____위의 모든 조건이 다 거짓일 때 실행할 코드"
   ]
  },
  {
   "cell_type": "markdown",
   "id": "d91e40b9",
   "metadata": {},
   "source": [
    "* 점수를 입력받아서 81-100 A학점, 61-80 B, 41-60 C, 21-40 D, 0-20 F \n",
    "* 0<=X<20"
   ]
  },
  {
   "cell_type": "code",
   "execution_count": 11,
   "id": "793297e2",
   "metadata": {},
   "outputs": [
    {
     "name": "stdout",
     "output_type": "stream",
     "text": [
      "점수를 입력하세요.5153\n",
      "숫자를 0-100사이로 입력해 주세요.\n"
     ]
    }
   ],
   "source": [
    "x=int(input(\"점수를 입력하세요.\"))\n",
    "if 0<=x<=100:\n",
    "    if 81<=x<=100:\n",
    "        print(f\"{x}는A학점 입니다.\")\n",
    "    elif 61<=x<=80:\n",
    "        print(f\"{x}는 B학점 입니다.\")\n",
    "    elif 41<=x<=60:\n",
    "        print(f\"{x}는 C학점 입니다.\")\n",
    "    elif 21<=x<=40:\n",
    "        print(f\"{x}는 D학점 입니다.\")\n",
    "    else:\n",
    "        print(f\"{x}는 F학점 입니다.\")\n",
    "else:\n",
    "    print(f\"숫자를 0-100사이로 입력해 주세요.\")\n",
    "    "
   ]
  },
  {
   "cell_type": "markdown",
   "id": "81c037af",
   "metadata": {},
   "source": [
    "* 1-50 사이의 숫자를 입력 받아서 3의 배수이면 3의 배수입니다. 아니면 3의 배수가 아닙니다."
   ]
  },
  {
   "cell_type": "code",
   "execution_count": 16,
   "id": "3134985f",
   "metadata": {},
   "outputs": [
    {
     "name": "stdout",
     "output_type": "stream",
     "text": [
      "1-50 사이의 숫자를 입력해주세요651\n",
      "숫자를 1-50 사이의 정수로 다시 입력해주세요.\n"
     ]
    }
   ],
   "source": [
    "x3=int(input(\"1-50 사이의 숫자를 입력해주세요\"))\n",
    "if 1<= x3 <=50:\n",
    "    if x3 %3==0:\n",
    "        print(f\"{x3}은 3의 배수입니다.\")\n",
    "    else:\n",
    "        print(f\"{x3}은 3의 배수가 아닙니다.\")\n",
    "else:\n",
    "    print(\"숫자를 1-50 사이의 정수로 다시 입력해주세요.\")"
   ]
  },
  {
   "cell_type": "markdown",
   "id": "e57c312d",
   "metadata": {},
   "source": [
    "## 3. 조건 표현식\n",
    "* python에서 조건식을 1줄로 표기하는 방법\n",
    "* 다중 조건이 아닌 단순 조건을 처리할 때 사용\n",
    "* 참일 때 실행할 코드 if 조건 else 거짓일 때 실행할 코드"
   ]
  },
  {
   "cell_type": "code",
   "execution_count": 19,
   "id": "3ea537d9",
   "metadata": {},
   "outputs": [
    {
     "name": "stdout",
     "output_type": "stream",
     "text": [
      "숫자를 입력하세요574\n",
      "짝수\n"
     ]
    }
   ],
   "source": [
    "# 일반적인 if else 문\n",
    "num=int(input(\"숫자를 입력하세요\"))\n",
    "if num %2==0:\n",
    "    print(\"짝수\")\n",
    "else:\n",
    "    print(\"홀수\")"
   ]
  },
  {
   "cell_type": "code",
   "execution_count": null,
   "id": "5e066c8d",
   "metadata": {},
   "outputs": [],
   "source": [
    "# 조건 표현식\n",
    "num=int(input(\"숫자를 입력하세요\"))\n",
    "print(\"짝수\") if num %2==0 else  print(\"홀수\")"
   ]
  }
 ],
 "metadata": {
  "kernelspec": {
   "display_name": "Python 3 (ipykernel)",
   "language": "python",
   "name": "python3"
  },
  "language_info": {
   "codemirror_mode": {
    "name": "ipython",
    "version": 3
   },
   "file_extension": ".py",
   "mimetype": "text/x-python",
   "name": "python",
   "nbconvert_exporter": "python",
   "pygments_lexer": "ipython3",
   "version": "3.9.23"
  }
 },
 "nbformat": 4,
 "nbformat_minor": 5
}
