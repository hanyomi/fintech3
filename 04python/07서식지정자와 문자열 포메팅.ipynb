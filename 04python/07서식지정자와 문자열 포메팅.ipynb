{
 "cells": [
  {
   "cell_type": "markdown",
   "id": "3ee1c4cb",
   "metadata": {},
   "source": [
    "# 서식지정자, format 메서드\n",
    "* 문자열로만 입력해야 하는 상황에서 같은 위치에 문자를 여러 번 바꿔야 할 때 사용\n",
    "* 문자의 자릿수 맞춤, 위치 정렬에도 사용\n",
    "* 문자열 사이에 변수에 담긴 내용을 함께 출력할 때 사용"
   ]
  },
  {
   "cell_type": "markdown",
   "id": "508be982",
   "metadata": {},
   "source": [
    "## 1. 서식지정자 %d, %s, %f, %길이s\n"
   ]
  },
  {
   "cell_type": "markdown",
   "id": "2d0eadcb",
   "metadata": {},
   "source": [
    "### 1)문자를 입력할 때 %s"
   ]
  },
  {
   "cell_type": "code",
   "execution_count": 1,
   "id": "9b09b2d6",
   "metadata": {},
   "outputs": [
    {
     "name": "stdout",
     "output_type": "stream",
     "text": [
      "이 수업의 이름은 국어 입니다.\n"
     ]
    }
   ],
   "source": [
    "print(\"이 수업의 이름은 %s 입니다.\" %\"국어\")"
   ]
  },
  {
   "cell_type": "code",
   "execution_count": 2,
   "id": "dd7791d1",
   "metadata": {},
   "outputs": [
    {
     "name": "stdout",
     "output_type": "stream",
     "text": [
      "이 수업의 이름은 국어 입니다.\n",
      "이 수업의 이름은 수학 입니다.\n",
      "이 수업의 이름은 사회 입니다.\n",
      "이 수업의 이름은 영어 입니다.\n"
     ]
    }
   ],
   "source": [
    "for i in ['국어','수학','사회','영어']:\n",
    "    print(\"이 수업의 이름은 %s 입니다.\" %i)"
   ]
  },
  {
   "cell_type": "markdown",
   "id": "7711a305",
   "metadata": {},
   "source": [
    "### 2) 정수를 입력할 때 %d"
   ]
  },
  {
   "cell_type": "code",
   "execution_count": 5,
   "id": "b6e3fe54",
   "metadata": {},
   "outputs": [
    {
     "name": "stdout",
     "output_type": "stream",
     "text": [
      "올해는 2025년 입니다.\n"
     ]
    }
   ],
   "source": [
    "print(\"올해는 %d년 입니다.\"%2025)"
   ]
  },
  {
   "cell_type": "code",
   "execution_count": 6,
   "id": "12338097",
   "metadata": {},
   "outputs": [
    {
     "name": "stdout",
     "output_type": "stream",
     "text": [
      "올해는 25년 입니다.\n"
     ]
    }
   ],
   "source": [
    "print(\"올해는 %d년 입니다.\"%25.05)"
   ]
  },
  {
   "cell_type": "markdown",
   "id": "9892e762",
   "metadata": {},
   "source": [
    "### 3) 실수를 입력할 때 %f 기본 소수점 6자리로 표시"
   ]
  },
  {
   "cell_type": "code",
   "execution_count": 7,
   "id": "d5f15623",
   "metadata": {},
   "outputs": [
    {
     "name": "stdout",
     "output_type": "stream",
     "text": [
      "사람의 정상 체온은 약 36.500000도 입니다.\n"
     ]
    }
   ],
   "source": [
    "print(\"사람의 정상 체온은 약 %f도 입니다.\"%36.5)"
   ]
  },
  {
   "cell_type": "markdown",
   "id": "0b7632c0",
   "metadata": {},
   "source": [
    "* 소수점 표기를 조절할 때 %.소수점자리수f ex)%2f=>소수점 두자리까지 표시"
   ]
  },
  {
   "cell_type": "code",
   "execution_count": 8,
   "id": "7b2bf67c",
   "metadata": {},
   "outputs": [
    {
     "name": "stdout",
     "output_type": "stream",
     "text": [
      "사람의 정상 체온은 약 36.50도 입니다.\n"
     ]
    }
   ],
   "source": [
    "print(\"사람의 정상 체온은 약 %.2f도 입니다.\"%36.5)"
   ]
  },
  {
   "cell_type": "markdown",
   "id": "a5fa478d",
   "metadata": {},
   "source": [
    "### 4) 서식지정자로 문자열 길이, 정렬 %길이s\n",
    "* %3s 3자리로 표시"
   ]
  },
  {
   "cell_type": "code",
   "execution_count": 9,
   "id": "ee8506de",
   "metadata": {},
   "outputs": [
    {
     "name": "stdout",
     "output_type": "stream",
     "text": [
      " 01\n"
     ]
    }
   ],
   "source": [
    "print(\"%3s\"%\"01\")"
   ]
  },
  {
   "cell_type": "code",
   "execution_count": 12,
   "id": "b16426be",
   "metadata": {},
   "outputs": [
    {
     "data": {
      "text/plain": [
       "'  01'"
      ]
     },
     "execution_count": 12,
     "metadata": {},
     "output_type": "execute_result"
    }
   ],
   "source": [
    "\"%4s\"%\"01\""
   ]
  },
  {
   "cell_type": "code",
   "execution_count": 13,
   "id": "e9d6587b",
   "metadata": {},
   "outputs": [
    {
     "name": "stdout",
     "output_type": "stream",
     "text": [
      "15000\n",
      "150000\n"
     ]
    }
   ],
   "source": [
    "print(15000)\n",
    "print(150000)"
   ]
  },
  {
   "cell_type": "code",
   "execution_count": 14,
   "id": "e14ad428",
   "metadata": {},
   "outputs": [
    {
     "name": "stdout",
     "output_type": "stream",
     "text": [
      "가격은      15000 입니다.\n",
      "가격은     150000 입니다.\n"
     ]
    }
   ],
   "source": [
    "print(\"가격은 %10d 입니다.\"%15000)\n",
    "print(\"가격은 %10d 입니다.\"%150000)"
   ]
  },
  {
   "cell_type": "markdown",
   "id": "4dca349b",
   "metadata": {},
   "source": [
    "### 5) 여러 항목 동시에 넣기"
   ]
  },
  {
   "cell_type": "code",
   "execution_count": 15,
   "id": "89fdb765",
   "metadata": {},
   "outputs": [
    {
     "name": "stdout",
     "output_type": "stream",
     "text": [
      "오늘은 2025년  9월 24일 입니다.\n"
     ]
    }
   ],
   "source": [
    "print(\"오늘은 %4d년 %2d월 %2d일 입니다.\" %(2025,9,24))"
   ]
  },
  {
   "cell_type": "code",
   "execution_count": 19,
   "id": "cb53f5ee",
   "metadata": {},
   "outputs": [],
   "source": [
    "company=[\"삼성전자\", \"LG전자\",\"현대차\",\"대한항공\",\"하나투어\"]\n",
    "stock_price=[71800,12100,195000,31900,86600]"
   ]
  },
  {
   "cell_type": "code",
   "execution_count": 20,
   "id": "18d2548d",
   "metadata": {},
   "outputs": [
    {
     "name": "stdout",
     "output_type": "stream",
     "text": [
      "삼성전자의 주가는 71800원 입니다.\n",
      "LG전자의 주가는 12100원 입니다.\n",
      "현대차의 주가는 195000원 입니다.\n",
      "대한항공의 주가는 31900원 입니다.\n",
      "하나투어의 주가는 86600원 입니다.\n"
     ]
    }
   ],
   "source": [
    "for com, st in zip(company,stock_price):\n",
    "    print(\"%s의 주가는 %d원 입니다.\" %(com,st))"
   ]
  },
  {
   "cell_type": "code",
   "execution_count": 22,
   "id": "e045378f",
   "metadata": {},
   "outputs": [
    {
     "name": "stdout",
     "output_type": "stream",
     "text": [
      "삼성전자의 주가는 71800원 입니다.\n",
      "LG전자의 주가는 12100원 입니다.\n",
      "현대차의 주가는 195000원 입니다.\n",
      "대한항공의 주가는 31900원 입니다.\n",
      "하나투어의 주가는 86600원 입니다.\n"
     ]
    }
   ],
   "source": [
    "for com_st in zip(company,stock_price):\n",
    "    print(\"%s의 주가는 %d원 입니다.\" %(com_st))"
   ]
  },
  {
   "cell_type": "markdown",
   "id": "b4c6470d",
   "metadata": {},
   "source": [
    "## 2. format 메서드 이용하기, f-string 문자열 포메팅\n"
   ]
  },
  {
   "cell_type": "markdown",
   "id": "ec52fbd7",
   "metadata": {},
   "source": [
    "### 1) format 메서드 사용하기\n",
    "* \"문자열 {인덱스 번호} 문자열 끝\".format(값1, 값2)\n",
    "* .format(값1, 값2) => 값1 = 0, 값2 = 1"
   ]
  },
  {
   "cell_type": "code",
   "execution_count": 23,
   "id": "7ecb8c59",
   "metadata": {},
   "outputs": [
    {
     "name": "stdout",
     "output_type": "stream",
     "text": [
      "삼성전자의 주가는 71800입니다.\n"
     ]
    }
   ],
   "source": [
    "print(\"{}의 주가는 {}입니다.\".format(\"삼성전자\",71800))"
   ]
  },
  {
   "cell_type": "code",
   "execution_count": 25,
   "id": "549ae0e5",
   "metadata": {},
   "outputs": [
    {
     "name": "stdout",
     "output_type": "stream",
     "text": [
      "삼성전자의 주가는 삼성전자입니다.\n"
     ]
    }
   ],
   "source": [
    "print(\"{0}의 주가는 {0}입니다.\".format(\"삼성전자\",71800))"
   ]
  },
  {
   "cell_type": "code",
   "execution_count": 33,
   "id": "079ca818",
   "metadata": {},
   "outputs": [
    {
     "name": "stdout",
     "output_type": "stream",
     "text": [
      "삼성전자의 주가는 71500원 입니다.\n",
      "삼성전자의 상한가는 93000원 입니다. \n",
      "삼성전자의 하한가는 50200원입니다.\n"
     ]
    }
   ],
   "source": [
    "print(\"{0}의 주가는 {1}원 입니다.\\n{0}의 상한가는 {3}원 입니다. \\n{0}의 하한가는 {2}원입니다.\".format(\"삼성전자\",71500,50200,93000))"
   ]
  },
  {
   "cell_type": "markdown",
   "id": "6864ddb4",
   "metadata": {},
   "source": [
    "### 2) f-string 포메팅 (python 3.6부터 사용 가능)"
   ]
  },
  {
   "cell_type": "code",
   "execution_count": 29,
   "id": "b5926dc3",
   "metadata": {},
   "outputs": [
    {
     "data": {
      "text/plain": [
       "['삼성전자', 'LG전자', '현대차', '대한항공', '하나투어']"
      ]
     },
     "execution_count": 29,
     "metadata": {},
     "output_type": "execute_result"
    }
   ],
   "source": [
    "company"
   ]
  },
  {
   "cell_type": "code",
   "execution_count": 30,
   "id": "3a217b1f",
   "metadata": {},
   "outputs": [
    {
     "data": {
      "text/plain": [
       "[71800, 12100, 195000, 31900, 86600]"
      ]
     },
     "execution_count": 30,
     "metadata": {},
     "output_type": "execute_result"
    }
   ],
   "source": [
    "stock_price"
   ]
  },
  {
   "cell_type": "code",
   "execution_count": 31,
   "id": "6fcea54c",
   "metadata": {},
   "outputs": [
    {
     "name": "stdout",
     "output_type": "stream",
     "text": [
      "현대차의 주가는 195000원 입니다.\n"
     ]
    }
   ],
   "source": [
    "print(\"{}의 주가는 {}원 입니다.\".format(company[2],stock_price[2]))"
   ]
  },
  {
   "cell_type": "code",
   "execution_count": 32,
   "id": "e1230a5f",
   "metadata": {},
   "outputs": [
    {
     "name": "stdout",
     "output_type": "stream",
     "text": [
      "현대차의 주가는 195000원 입니다.\n"
     ]
    }
   ],
   "source": [
    "print(f\"{company[2]}의 주가는 {stock_price[2]}원 입니다.\")"
   ]
  },
  {
   "cell_type": "code",
   "execution_count": 36,
   "id": "f43ed350",
   "metadata": {},
   "outputs": [
    {
     "name": "stdout",
     "output_type": "stream",
     "text": [
      "삼성전자의 주가는 71800원 입니다.\n",
      "삼성전자의 상한가는 93000원 입니다. \n",
      "삼성전자의 하한가는 50200원입니다.\n"
     ]
    }
   ],
   "source": [
    "sam = \"삼성전자\"\n",
    "sto=71800\n",
    "low=50200\n",
    "high=93000\n",
    "print(f\"{sam}의 주가는 {sto}원 입니다.\\n{sam}의 상한가는 {high}원 입니다. \\n{sam}의 하한가는 {low}원입니다.\")"
   ]
  },
  {
   "cell_type": "markdown",
   "id": "5ab27778",
   "metadata": {},
   "source": [
    "## 3. format메서드와 f-string으로 문자열 정렬하기, 자리수 지정해 출력하기\n",
    "*  \"{인덱스:<길이}\".format(값)\n",
    "* f\"{값:>길이}\""
   ]
  },
  {
   "cell_type": "markdown",
   "id": "69ff92ab",
   "metadata": {},
   "source": [
    "* <10: 공간을 10칸 확보하고 글자를 왼쪽으로 정렬\n"
   ]
  },
  {
   "cell_type": "code",
   "execution_count": 40,
   "id": "1576ffe2",
   "metadata": {},
   "outputs": [
    {
     "data": {
      "text/plain": [
       "'삼성전자      '"
      ]
     },
     "execution_count": 40,
     "metadata": {},
     "output_type": "execute_result"
    }
   ],
   "source": [
    "\"{0:<10}\".format(\"삼성전자\")"
   ]
  },
  {
   "cell_type": "code",
   "execution_count": 41,
   "id": "b6b11ff3",
   "metadata": {},
   "outputs": [
    {
     "data": {
      "text/plain": [
       "'      삼성전자'"
      ]
     },
     "execution_count": 41,
     "metadata": {},
     "output_type": "execute_result"
    }
   ],
   "source": [
    "\"{0:>10}\".format(\"삼성전자\")"
   ]
  },
  {
   "cell_type": "code",
   "execution_count": 42,
   "id": "5308f432",
   "metadata": {},
   "outputs": [
    {
     "data": {
      "text/plain": [
       "'삼성전자      '"
      ]
     },
     "execution_count": 42,
     "metadata": {},
     "output_type": "execute_result"
    }
   ],
   "source": [
    "f\"{sam:<10}\""
   ]
  },
  {
   "cell_type": "code",
   "execution_count": 43,
   "id": "ba0b835e",
   "metadata": {},
   "outputs": [
    {
     "data": {
      "text/plain": [
       "'      삼성전자'"
      ]
     },
     "execution_count": 43,
     "metadata": {},
     "output_type": "execute_result"
    }
   ],
   "source": [
    "f\"{sam:>10}\""
   ]
  },
  {
   "cell_type": "markdown",
   "id": "aaf196b5",
   "metadata": {},
   "source": [
    "## 숫자 표기시 숫자 자리수 맞추고 기본 값 지정하기\n",
    "* \"{인덱스: 채울숫자 길이 서식지정자}\".format(값) - 단, 서식지정자에서 %를 빼고 적는다.\n",
    "* f\"{값: 채울 숫자 길이 서식지정자}\""
   ]
  },
  {
   "cell_type": "markdown",
   "id": "b100e24f",
   "metadata": {},
   "source": [
    "* 정수의 자릿수를 맞출 때"
   ]
  },
  {
   "cell_type": "code",
   "execution_count": 2,
   "id": "e1ff5382",
   "metadata": {},
   "outputs": [
    {
     "name": "stdout",
     "output_type": "stream",
     "text": [
      "01월\n"
     ]
    }
   ],
   "source": [
    "print(\"{0:02d}월\".format(1))"
   ]
  },
  {
   "cell_type": "code",
   "execution_count": 3,
   "id": "9e6adfb4",
   "metadata": {},
   "outputs": [
    {
     "name": "stdout",
     "output_type": "stream",
     "text": [
      "001월\n"
     ]
    }
   ],
   "source": [
    "print(\"{0:03d}월\".format(1))"
   ]
  },
  {
   "cell_type": "code",
   "execution_count": 4,
   "id": "c3e38b93",
   "metadata": {},
   "outputs": [
    {
     "name": "stdout",
     "output_type": "stream",
     "text": [
      "1000월\n"
     ]
    }
   ],
   "source": [
    "print(\"{0:03d}월\".format(1000))"
   ]
  },
  {
   "cell_type": "code",
   "execution_count": 5,
   "id": "b9954ce9",
   "metadata": {},
   "outputs": [
    {
     "name": "stdout",
     "output_type": "stream",
     "text": [
      "01월\n"
     ]
    }
   ],
   "source": [
    "print(f\"{1:02d}월\")"
   ]
  },
  {
   "cell_type": "markdown",
   "id": "31363cd0",
   "metadata": {},
   "source": [
    "* 실수의 자릿수를 맞출 때\n",
    "* 실수에서 자릿수는 정수+.+소수점"
   ]
  },
  {
   "cell_type": "code",
   "execution_count": 6,
   "id": "4c25f419",
   "metadata": {},
   "outputs": [
    {
     "name": "stdout",
     "output_type": "stream",
     "text": [
      "2.246\n"
     ]
    }
   ],
   "source": [
    "print(\"{0:03.3f}\".format(2.245678))"
   ]
  },
  {
   "cell_type": "code",
   "execution_count": 9,
   "id": "47fd36d9",
   "metadata": {},
   "outputs": [
    {
     "name": "stdout",
     "output_type": "stream",
     "text": [
      "02.246\n"
     ]
    }
   ],
   "source": [
    "print(\"{0:06.3f}\".format(2.245678))"
   ]
  },
  {
   "cell_type": "code",
   "execution_count": 11,
   "id": "6af12c56",
   "metadata": {},
   "outputs": [
    {
     "name": "stdout",
     "output_type": "stream",
     "text": [
      "2.2457\n"
     ]
    }
   ],
   "source": [
    "print(\"{0:06.4f}\".format(2.245678))"
   ]
  },
  {
   "cell_type": "markdown",
   "id": "d707bfe3",
   "metadata": {},
   "source": [
    "* 00시00분 부터 11시 59분까지 출력하세요. 1자리는 01형식으로 출력하세요."
   ]
  },
  {
   "cell_type": "code",
   "execution_count": 14,
   "id": "187401e3",
   "metadata": {},
   "outputs": [
    {
     "name": "stdout",
     "output_type": "stream",
     "text": [
      "00\n",
      "01\n",
      "02\n",
      "03\n",
      "04\n",
      "05\n",
      "06\n",
      "07\n",
      "08\n",
      "09\n",
      "10\n",
      "11\n"
     ]
    }
   ],
   "source": [
    "for i in range(12):\n",
    "    print(f\"{i:02d}\")"
   ]
  },
  {
   "cell_type": "code",
   "execution_count": 38,
   "id": "d585f56f",
   "metadata": {},
   "outputs": [
    {
     "name": "stdout",
     "output_type": "stream",
     "text": [
      "11시 59분\r"
     ]
    }
   ],
   "source": [
    "import time\n",
    "for si in range(12):\n",
    "    for bun in range(60):\n",
    "        print(f\"{si:02d}시 {bun:02d}분\",end=\"\\r\")\n",
    "        time.sleep(0.1)"
   ]
  },
  {
   "cell_type": "markdown",
   "id": "d452bfb2",
   "metadata": {},
   "source": [
    "* 공백을 원하는 문자로 채우고 자리수 맞추기\n",
    "* {인덱스:원하는 문자/숫<>자릿수}.format(값)\n",
    "* f\"{값:원하는 문자/숫<>자릿수}\""
   ]
  },
  {
   "cell_type": "code",
   "execution_count": 44,
   "id": "f868fe11",
   "metadata": {},
   "outputs": [
    {
     "data": {
      "text/plain": [
       "'0001'"
      ]
     },
     "execution_count": 44,
     "metadata": {},
     "output_type": "execute_result"
    }
   ],
   "source": [
    "# 빈자리를 0으로 채울 때 \n",
    "\"{0:0>4}\".format(1)"
   ]
  },
  {
   "cell_type": "code",
   "execution_count": 30,
   "id": "a955a4a9",
   "metadata": {},
   "outputs": [
    {
     "data": {
      "text/plain": [
       "'0001'"
      ]
     },
     "execution_count": 30,
     "metadata": {},
     "output_type": "execute_result"
    }
   ],
   "source": [
    "f\"{1:0>4}\""
   ]
  },
  {
   "cell_type": "code",
   "execution_count": 31,
   "id": "5f458d4a",
   "metadata": {},
   "outputs": [
    {
     "data": {
      "text/plain": [
       "'$$$1'"
      ]
     },
     "execution_count": 31,
     "metadata": {},
     "output_type": "execute_result"
    }
   ],
   "source": [
    "# $로 채울 때\n",
    "\"{0:$>4}\".format(1)"
   ]
  },
  {
   "cell_type": "code",
   "execution_count": 41,
   "id": "81febc60",
   "metadata": {},
   "outputs": [
    {
     "data": {
      "text/plain": [
       "'$$$1'"
      ]
     },
     "execution_count": 41,
     "metadata": {},
     "output_type": "execute_result"
    }
   ],
   "source": [
    "f\"{1:$>4}\""
   ]
  },
  {
   "cell_type": "code",
   "execution_count": 45,
   "id": "8ee5358f",
   "metadata": {},
   "outputs": [],
   "source": [
    "url=\"https://discord.com/channels/1240560508659175437/1409360877882314752\"*"
   ]
  },
  {
   "cell_type": "code",
   "execution_count": 46,
   "id": "0e76704e",
   "metadata": {},
   "outputs": [
    {
     "name": "stdout",
     "output_type": "stream",
     "text": [
      "https://discord.com/channels/1240560508659175437/140936087788231475201\n",
      "https://discord.com/channels/1240560508659175437/140936087788231475202\n",
      "https://discord.com/channels/1240560508659175437/140936087788231475203\n",
      "https://discord.com/channels/1240560508659175437/140936087788231475204\n",
      "https://discord.com/channels/1240560508659175437/140936087788231475205\n",
      "https://discord.com/channels/1240560508659175437/140936087788231475206\n",
      "https://discord.com/channels/1240560508659175437/140936087788231475207\n",
      "https://discord.com/channels/1240560508659175437/140936087788231475208\n",
      "https://discord.com/channels/1240560508659175437/140936087788231475209\n",
      "https://discord.com/channels/1240560508659175437/140936087788231475210\n"
     ]
    }
   ],
   "source": [
    "for i in range(1,11):\n",
    "    print(f\"{url}{i:02d}\")"
   ]
  }
 ],
 "metadata": {
  "kernelspec": {
   "display_name": "Python 3 (ipykernel)",
   "language": "python",
   "name": "python3"
  },
  "language_info": {
   "codemirror_mode": {
    "name": "ipython",
    "version": 3
   },
   "file_extension": ".py",
   "mimetype": "text/x-python",
   "name": "python",
   "nbconvert_exporter": "python",
   "pygments_lexer": "ipython3",
   "version": "3.9.23"
  }
 },
 "nbformat": 4,
 "nbformat_minor": 5
}
