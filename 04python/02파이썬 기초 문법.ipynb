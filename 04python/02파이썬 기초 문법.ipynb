{
 "cells": [
  {
   "cell_type": "markdown",
   "id": "640d7a0f",
   "metadata": {},
   "source": [
    "# 파이썬 기초 문법\n",
    "* 파이썬의 주석은 문장 앞에 \\#을 붙여서 만든다. CTRL+|/\n",
    "* 파이썬은 들여쓰기를 사용해서 코드를 구분해 작성한다.\n",
    "* 들여쓰기는 4칸이 기본, GOOGLE colab 에서는 2칸\n",
    "* 변수를 만들 때 스네이크 표기법을 사용한다. ex) user_name\n",
    "* 클래스를 만들 때는 카멜 표기법을 사용한다 ex) UserName or userName"
   ]
  },
  {
   "cell_type": "markdown",
   "id": "e60c90e8",
   "metadata": {},
   "source": [
    "# print문\n",
    "* print() 안에 있는 내용을 출력해 주는 함수\n",
    "* print(출력할 내용 1, 출력할 내용 2, ...)\n",
    "* print(출력할 내용이 숫자인 경우 그대로 , 문자인 경우 반드시 \"\",''사용)\n",
    "* print(출력할 내용, 옵션)\n",
    "    * sep: 출력할 내용 사이에 오는 구분자. 기본값은 공백 \"\"\n",
    "    * end: 출력이 끝난 후에 출력하는 값. 기본값은 \\\\n (new line 줄바꿈)"
   ]
  },
  {
   "cell_type": "code",
   "execution_count": 3,
   "id": "038883d4",
   "metadata": {},
   "outputs": [
    {
     "name": "stdout",
     "output_type": "stream",
     "text": [
      "300\n"
     ]
    }
   ],
   "source": [
    "# 숫자를 출력하는 경우\n",
    "print(300)"
   ]
  },
  {
   "cell_type": "code",
   "execution_count": 4,
   "id": "f415a1c9",
   "metadata": {},
   "outputs": [
    {
     "name": "stdout",
     "output_type": "stream",
     "text": [
      "3.14\n"
     ]
    }
   ],
   "source": [
    "# 실수를 출력하는 경우\n",
    "print(3.14)"
   ]
  },
  {
   "cell_type": "code",
   "execution_count": 5,
   "id": "8d100970",
   "metadata": {},
   "outputs": [
    {
     "name": "stdout",
     "output_type": "stream",
     "text": [
      "문자 출력\n"
     ]
    }
   ],
   "source": [
    "#문자를 출력하는 경우\n",
    "print(\"문자 출력\")"
   ]
  },
  {
   "cell_type": "code",
   "execution_count": 7,
   "id": "c5ac7be7",
   "metadata": {},
   "outputs": [
    {
     "name": "stdout",
     "output_type": "stream",
     "text": [
      "문자 출력\n"
     ]
    }
   ],
   "source": [
    "#문자를 출력하는 경우\n",
    "print('문자 출력')"
   ]
  },
  {
   "cell_type": "code",
   "execution_count": 9,
   "id": "7f4777b6",
   "metadata": {},
   "outputs": [
    {
     "ename": "SyntaxError",
     "evalue": "invalid syntax (513376344.py, line 2)",
     "output_type": "error",
     "traceback": [
      "\u001b[1;36m  Cell \u001b[1;32mIn[9], line 2\u001b[1;36m\u001b[0m\n\u001b[1;33m    print(문자 출력)\u001b[0m\n\u001b[1;37m             ^\u001b[0m\n\u001b[1;31mSyntaxError\u001b[0m\u001b[1;31m:\u001b[0m invalid syntax\n"
     ]
    }
   ],
   "source": [
    "#문자를 출력하는 경우\n",
    "print(문자 출력)"
   ]
  },
  {
   "cell_type": "code",
   "execution_count": 10,
   "id": "7a716168",
   "metadata": {},
   "outputs": [
    {
     "name": "stdout",
     "output_type": "stream",
     "text": [
      "이것은 '파이썬'이다\n"
     ]
    }
   ],
   "source": [
    "# 따옴표를 같이 출력하고 싶을 때\n",
    "print(\"이것은 '파이썬'이다\")"
   ]
  },
  {
   "cell_type": "code",
   "execution_count": 12,
   "id": "72825f41",
   "metadata": {},
   "outputs": [
    {
     "name": "stdout",
     "output_type": "stream",
     "text": [
      "이것은 \"파이썬\"이다\n"
     ]
    }
   ],
   "source": [
    "# 따옴표를 같이 출력하고 싶을 때\n",
    "print('이것은 \"파이썬\"이다')"
   ]
  },
  {
   "cell_type": "code",
   "execution_count": 14,
   "id": "d2eba8a7",
   "metadata": {},
   "outputs": [
    {
     "name": "stdout",
     "output_type": "stream",
     "text": [
      "이것은 \"파이썬\"이다\n"
     ]
    }
   ],
   "source": [
    "# 따옴표를 같이 출력하고 싶을 때\n",
    "print(\"이것은 \\\"파이썬\\\"이다\")"
   ]
  },
  {
   "cell_type": "markdown",
   "id": "b25bdbba",
   "metadata": {},
   "source": [
    "# print문의 옵션\n",
    "* sep: 구분자, print문 안에 여러개의 자료를 출력할 때 구분해주는 문자\n",
    "* 기본값: 공백 \" \""
   ]
  },
  {
   "cell_type": "code",
   "execution_count": 16,
   "id": "ebd4af37",
   "metadata": {},
   "outputs": [
    {
     "name": "stdout",
     "output_type": "stream",
     "text": [
      "이것은 파이썬 입니다.\n"
     ]
    }
   ],
   "source": [
    "print(\"이것은\",\"파이썬\",\"입니다.\")"
   ]
  },
  {
   "cell_type": "code",
   "execution_count": 18,
   "id": "2f2c086c",
   "metadata": {},
   "outputs": [
    {
     "name": "stdout",
     "output_type": "stream",
     "text": [
      "이것은,파이썬,입니다.\n"
     ]
    }
   ],
   "source": [
    "print(\"이것은\",\"파이썬\",\"입니다.\", sep=\",\")"
   ]
  },
  {
   "cell_type": "code",
   "execution_count": 20,
   "id": "cec56086",
   "metadata": {},
   "outputs": [
    {
     "name": "stdout",
     "output_type": "stream",
     "text": [
      "이것은, 파이썬, 입니다.\n"
     ]
    }
   ],
   "source": [
    "print(\"이것은\",\"파이썬\",\"입니다.\", sep=\", \")"
   ]
  },
  {
   "cell_type": "code",
   "execution_count": 21,
   "id": "7f0747db",
   "metadata": {},
   "outputs": [
    {
     "name": "stdout",
     "output_type": "stream",
     "text": [
      "이것은 vs 파이썬 vs 입니다.\n"
     ]
    }
   ],
   "source": [
    "print(\"이것은\",\"파이썬\",\"입니다.\", sep=\" vs \")"
   ]
  },
  {
   "cell_type": "code",
   "execution_count": 22,
   "id": "1ce98bae",
   "metadata": {},
   "outputs": [
    {
     "name": "stdout",
     "output_type": "stream",
     "text": [
      "010-2626-1833\n"
     ]
    }
   ],
   "source": [
    "print(\"010\",\"2626\",\"1833\", sep=\"-\")"
   ]
  },
  {
   "cell_type": "markdown",
   "id": "79d10f00",
   "metadata": {},
   "source": [
    "* end 옵션 - print가 끝나고 실행될 옵션\n",
    "* 기본값: \\\\n 줄바꿈 new line\n",
    "* 이스케이프문자\n",
    "    * \\\\n: new line 줄바꿈\n",
    "    * \\\\t: tap 탭키(8칸 띄움)\n",
    "    * \\\\r: carrige return 커서를 현재 라인의 가장 앞으로 이동"
   ]
  },
  {
   "cell_type": "code",
   "execution_count": 25,
   "id": "10d4ed19",
   "metadata": {},
   "outputs": [
    {
     "name": "stdout",
     "output_type": "stream",
     "text": [
      "헐크 아이언맨 스파이더맨\n",
      "\n",
      "헐크 아이언맨 스파이더맨\n"
     ]
    }
   ],
   "source": [
    "#end 값의 기본 \\\\n\n",
    "print(\"헐크\",\"아이언맨\",\"스파이더맨\")\n",
    "print()\n",
    "print(\"헐크\",\"아이언맨\",\"스파이더맨\")"
   ]
  },
  {
   "cell_type": "code",
   "execution_count": 26,
   "id": "9bd1e00a",
   "metadata": {
    "scrolled": true
   },
   "outputs": [
    {
     "name": "stdout",
     "output_type": "stream",
     "text": [
      "헐크 아이언맨 스파이더맨\n",
      "\n",
      "헐크 아이언맨 스파이더맨\n"
     ]
    }
   ],
   "source": [
    "#end 값의 기본 \\\\n\n",
    "print(\"헐크\",\"아이언맨\",\"스파이더맨\", end=\"\\n\\n\")\n",
    "print(\"헐크\",\"아이언맨\",\"스파이더맨\")"
   ]
  },
  {
   "cell_type": "code",
   "execution_count": 30,
   "id": "e07ce063",
   "metadata": {},
   "outputs": [
    {
     "name": "stdout",
     "output_type": "stream",
     "text": [
      "헐크 아이언맨 스파이더맨, 헐크 아이언맨 스파이더맨\n",
      "헐크 아이언맨 스파이더맨\n"
     ]
    }
   ],
   "source": [
    "#end 값의 기본 \\\\n\n",
    "print(\"헐크\",\"아이언맨\",\"스파이더맨\", end=\", \")\n",
    "print(\"헐크\",\"아이언맨\",\"스파이더맨\")\n",
    "print(\"헐크\",\"아이언맨\",\"스파이더맨\")"
   ]
  },
  {
   "cell_type": "code",
   "execution_count": 31,
   "id": "c5595d07",
   "metadata": {},
   "outputs": [
    {
     "name": "stdout",
     "output_type": "stream",
     "text": [
      "헐크 아이언맨 스파이더맨\t헐크 아이언맨 스파이더맨\n",
      "헐크 아이언맨 스파이더맨\n"
     ]
    }
   ],
   "source": [
    "#end 값의 기본 \\\\t 8칸 탭키\n",
    "print(\"헐크\",\"아이언맨\",\"스파이더맨\", end=\"\\t\")\n",
    "print(\"헐크\",\"아이언맨\",\"스파이더맨\")\n",
    "print(\"헐크\",\"아이언맨\",\"스파이더맨\")"
   ]
  },
  {
   "cell_type": "code",
   "execution_count": 32,
   "id": "87c5f32a",
   "metadata": {},
   "outputs": [
    {
     "name": "stdout",
     "output_type": "stream",
     "text": [
      "헐크 아이언맨 스파이더맨\r",
      "캐리지리턴 됨\n"
     ]
    }
   ],
   "source": [
    "#end 값의 기본 \\\\r carrige return 커서를 맨 앞으로 이동\n",
    "print(\"헐크\",\"아이언맨\",\"스파이더맨\", end=\"\\r\")\n",
    "print(\"캐리지리턴 됨\")"
   ]
  },
  {
   "cell_type": "code",
   "execution_count": 51,
   "id": "9849b11e",
   "metadata": {},
   "outputs": [
    {
     "name": "stdout",
     "output_type": "stream",
     "text": [
      "99\r"
     ]
    }
   ],
   "source": [
    "import time\n",
    "for i in range(100):\n",
    "    print(i,end=\"\\r\")\n",
    "    time.sleep(0.3)\n",
    "        \n",
    "\n",
    "    \n",
    "    "
   ]
  },
  {
   "cell_type": "code",
   "execution_count": null,
   "id": "727b40a6",
   "metadata": {},
   "outputs": [],
   "source": []
  }
 ],
 "metadata": {
  "kernelspec": {
   "display_name": "Python 3 (ipykernel)",
   "language": "python",
   "name": "python3"
  },
  "language_info": {
   "codemirror_mode": {
    "name": "ipython",
    "version": 3
   },
   "file_extension": ".py",
   "mimetype": "text/x-python",
   "name": "python",
   "nbconvert_exporter": "python",
   "pygments_lexer": "ipython3",
   "version": "3.9.23"
  }
 },
 "nbformat": 4,
 "nbformat_minor": 5
}
