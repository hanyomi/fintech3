{
 "cells": [
  {
   "cell_type": "markdown",
   "id": "09fcd484",
   "metadata": {},
   "source": [
    "# 변수\n",
    "* 자료를 담는 택배상자\n",
    "* 택배상자에는 자료를 1개만 넣을 수 있다.\n",
    "* 변수는 영문과 숫자를 조합해서 만들 수 있다.\n",
    "* 변수명의 시작은 반드시 영문자로 시작 or \\_영문자 로 시작\n",
    "* 변수명이 숫자로 시작하거나 -같은 특수문자로 시작하면 오류\n",
    "* **예약어(이미 파이썽네서 사용하고 있는 함수명, 문법용 단어 ex) for, list, if, id)** 는 변수명으로 사용할 수 없다\n",
    "    * **주의!!** 파이썬에서는 예약어를 써도 변수가 만들어진다.\n",
    "    * 예약어로 변수를 만들지 않도록 주의!!\n",
    "* 변수명은 스네이크 표기법으로 작성한다. ex) user_name\n",
    "* 택배상자에 값이 하나만 들어간다. (하나 이후 또 넣어었다면 마지막에 넣은 것만 남음)"
   ]
  },
  {
   "cell_type": "code",
   "execution_count": 1,
   "id": "02840fe1",
   "metadata": {},
   "outputs": [],
   "source": [
    "a=1"
   ]
  },
  {
   "cell_type": "markdown",
   "id": "6084a149",
   "metadata": {},
   "source": [
    "=은 같다가 아니라 넣는다 ==는 같다"
   ]
  },
  {
   "cell_type": "code",
   "execution_count": 2,
   "id": "8f655761",
   "metadata": {},
   "outputs": [
    {
     "name": "stdout",
     "output_type": "stream",
     "text": [
      "1\n"
     ]
    }
   ],
   "source": [
    "print(a)"
   ]
  },
  {
   "cell_type": "code",
   "execution_count": 3,
   "id": "56f801ae",
   "metadata": {},
   "outputs": [
    {
     "data": {
      "text/plain": [
       "1"
      ]
     },
     "execution_count": 3,
     "metadata": {},
     "output_type": "execute_result"
    }
   ],
   "source": [
    "a"
   ]
  },
  {
   "cell_type": "markdown",
   "id": "722f0568",
   "metadata": {},
   "source": [
    "주피터 노트북에서만 a를 쳐도 바로 1이 나옴 , 주피터에서만 예약어 녹색으로 뜸"
   ]
  },
  {
   "cell_type": "code",
   "execution_count": 4,
   "id": "218ec34f",
   "metadata": {},
   "outputs": [],
   "source": [
    "b=2"
   ]
  },
  {
   "cell_type": "code",
   "execution_count": 5,
   "id": "3962bd61",
   "metadata": {},
   "outputs": [
    {
     "name": "stdout",
     "output_type": "stream",
     "text": [
      "2\n"
     ]
    }
   ],
   "source": [
    "print(b)"
   ]
  },
  {
   "cell_type": "code",
   "execution_count": 6,
   "id": "8c582538",
   "metadata": {},
   "outputs": [
    {
     "data": {
      "text/plain": [
       "2557736216880"
      ]
     },
     "execution_count": 6,
     "metadata": {},
     "output_type": "execute_result"
    }
   ],
   "source": [
    "id(a)"
   ]
  },
  {
   "cell_type": "markdown",
   "id": "75707370",
   "metadata": {},
   "source": [
    "a라는 변수가 위 숫자의 위치에 있음"
   ]
  },
  {
   "cell_type": "code",
   "execution_count": 7,
   "id": "290de3cc",
   "metadata": {},
   "outputs": [
    {
     "data": {
      "text/plain": [
       "2557736216912"
      ]
     },
     "execution_count": 7,
     "metadata": {},
     "output_type": "execute_result"
    }
   ],
   "source": [
    "id(b)"
   ]
  },
  {
   "cell_type": "code",
   "execution_count": 8,
   "id": "b812dc95",
   "metadata": {},
   "outputs": [],
   "source": [
    "id=10"
   ]
  },
  {
   "cell_type": "code",
   "execution_count": 9,
   "id": "8b117db5",
   "metadata": {},
   "outputs": [
    {
     "name": "stdout",
     "output_type": "stream",
     "text": [
      "10\n"
     ]
    }
   ],
   "source": [
    "print(id)"
   ]
  },
  {
   "cell_type": "code",
   "execution_count": 10,
   "id": "dff12ccf",
   "metadata": {},
   "outputs": [
    {
     "ename": "TypeError",
     "evalue": "'int' object is not callable",
     "output_type": "error",
     "traceback": [
      "\u001b[1;31m---------------------------------------------------------------------------\u001b[0m",
      "\u001b[1;31mTypeError\u001b[0m                                 Traceback (most recent call last)",
      "Cell \u001b[1;32mIn[10], line 1\u001b[0m\n\u001b[1;32m----> 1\u001b[0m \u001b[38;5;28;43mid\u001b[39;49m\u001b[43m(\u001b[49m\u001b[43mb\u001b[49m\u001b[43m)\u001b[49m\n",
      "\u001b[1;31mTypeError\u001b[0m: 'int' object is not callable"
     ]
    }
   ],
   "source": [
    "id(b)"
   ]
  },
  {
   "cell_type": "markdown",
   "id": "204ef854",
   "metadata": {},
   "source": [
    "해결책=> kernel restart"
   ]
  },
  {
   "cell_type": "markdown",
   "id": "5a299d2a",
   "metadata": {},
   "source": [
    "# 변수명 작성하기\n",
    "asgdfwesdfasdsdfw1231244235 = 10 해도 실행 됨"
   ]
  },
  {
   "cell_type": "code",
   "execution_count": 1,
   "id": "7d2e49b4",
   "metadata": {},
   "outputs": [],
   "source": [
    "asgdfwesdfasdsdfw1231244235 = 10"
   ]
  },
  {
   "cell_type": "code",
   "execution_count": 2,
   "id": "17f20c3e",
   "metadata": {},
   "outputs": [
    {
     "ename": "SyntaxError",
     "evalue": "invalid syntax (2766076383.py, line 1)",
     "output_type": "error",
     "traceback": [
      "\u001b[1;36m  Cell \u001b[1;32mIn[2], line 1\u001b[1;36m\u001b[0m\n\u001b[1;33m    1091029ad=10\u001b[0m\n\u001b[1;37m           ^\u001b[0m\n\u001b[1;31mSyntaxError\u001b[0m\u001b[1;31m:\u001b[0m invalid syntax\n"
     ]
    }
   ],
   "source": [
    "1091029ad=10"
   ]
  },
  {
   "cell_type": "code",
   "execution_count": 3,
   "id": "3606bb51",
   "metadata": {},
   "outputs": [
    {
     "ename": "SyntaxError",
     "evalue": "invalid syntax (3681825173.py, line 1)",
     "output_type": "error",
     "traceback": [
      "\u001b[1;36m  Cell \u001b[1;32mIn[3], line 1\u001b[1;36m\u001b[0m\n\u001b[1;33m    $a=1\u001b[0m\n\u001b[1;37m    ^\u001b[0m\n\u001b[1;31mSyntaxError\u001b[0m\u001b[1;31m:\u001b[0m invalid syntax\n"
     ]
    }
   ],
   "source": [
    "$a=1"
   ]
  },
  {
   "cell_type": "code",
   "execution_count": 4,
   "id": "96df2d73",
   "metadata": {},
   "outputs": [
    {
     "ename": "SyntaxError",
     "evalue": "cannot assign to operator (670994230.py, line 1)",
     "output_type": "error",
     "traceback": [
      "\u001b[1;36m  Cell \u001b[1;32mIn[4], line 1\u001b[1;36m\u001b[0m\n\u001b[1;33m    -a=1\u001b[0m\n\u001b[1;37m    ^\u001b[0m\n\u001b[1;31mSyntaxError\u001b[0m\u001b[1;31m:\u001b[0m cannot assign to operator\n"
     ]
    }
   ],
   "source": [
    "-a=1"
   ]
  },
  {
   "cell_type": "code",
   "execution_count": 6,
   "id": "e6eb7b96",
   "metadata": {},
   "outputs": [],
   "source": [
    "_a=1"
   ]
  },
  {
   "cell_type": "code",
   "execution_count": 7,
   "id": "7ba6b816",
   "metadata": {},
   "outputs": [
    {
     "data": {
      "text/plain": [
       "'홍길동'"
      ]
     },
     "execution_count": 7,
     "metadata": {},
     "output_type": "execute_result"
    }
   ],
   "source": [
    "# 변수명을 2단어 이상으로 만들 때는 _로 연결하는 스네이크 표기법을 쓴다\n",
    "user_name = \"홍길동\"\n",
    "user_name"
   ]
  },
  {
   "cell_type": "code",
   "execution_count": 8,
   "id": "53c88e51",
   "metadata": {},
   "outputs": [],
   "source": [
    "#변수명은 변수명만으로 안에 무엇이 있을지 예측 가능해야 한다.\n",
    "all_reviews = \"모든 리뷰\""
   ]
  },
  {
   "cell_type": "code",
   "execution_count": 9,
   "id": "987a8eee",
   "metadata": {},
   "outputs": [],
   "source": [
    "review_one = \"리뷰 한 개\""
   ]
  },
  {
   "cell_type": "code",
   "execution_count": 11,
   "id": "dc1850df",
   "metadata": {},
   "outputs": [],
   "source": [
    "hap = 0"
   ]
  },
  {
   "cell_type": "code",
   "execution_count": 12,
   "id": "b24efdd7",
   "metadata": {},
   "outputs": [
    {
     "name": "stdout",
     "output_type": "stream",
     "text": [
      "0\n"
     ]
    }
   ],
   "source": [
    "# 변수 지우기 del\n",
    "print(hap)"
   ]
  },
  {
   "cell_type": "code",
   "execution_count": 13,
   "id": "0c9d54dd",
   "metadata": {},
   "outputs": [],
   "source": [
    "del hap"
   ]
  },
  {
   "cell_type": "code",
   "execution_count": 14,
   "id": "127a77a2",
   "metadata": {},
   "outputs": [
    {
     "ename": "NameError",
     "evalue": "name 'hap' is not defined",
     "output_type": "error",
     "traceback": [
      "\u001b[1;31m---------------------------------------------------------------------------\u001b[0m",
      "\u001b[1;31mNameError\u001b[0m                                 Traceback (most recent call last)",
      "Cell \u001b[1;32mIn[14], line 1\u001b[0m\n\u001b[1;32m----> 1\u001b[0m \u001b[38;5;28mprint\u001b[39m(\u001b[43mhap\u001b[49m)\n",
      "\u001b[1;31mNameError\u001b[0m: name 'hap' is not defined"
     ]
    }
   ],
   "source": [
    "print(hap)"
   ]
  },
  {
   "cell_type": "markdown",
   "id": "17714412",
   "metadata": {},
   "source": [
    "여러 개의 변수 동시에 만들고 자료 입력하기"
   ]
  },
  {
   "cell_type": "code",
   "execution_count": 16,
   "id": "24a8503e",
   "metadata": {},
   "outputs": [],
   "source": [
    "a,b,c=1,2,3"
   ]
  },
  {
   "cell_type": "code",
   "execution_count": 17,
   "id": "a9c72687",
   "metadata": {},
   "outputs": [
    {
     "name": "stdout",
     "output_type": "stream",
     "text": [
      "1 2 3\n"
     ]
    }
   ],
   "source": [
    "print(a,b,c)"
   ]
  },
  {
   "cell_type": "code",
   "execution_count": 18,
   "id": "ab66d228",
   "metadata": {},
   "outputs": [],
   "source": [
    "a,b,c=[5,6,7]"
   ]
  },
  {
   "cell_type": "code",
   "execution_count": 19,
   "id": "11b145a9",
   "metadata": {},
   "outputs": [
    {
     "name": "stdout",
     "output_type": "stream",
     "text": [
      "5 6 7\n"
     ]
    }
   ],
   "source": [
    "print(a,b,c)"
   ]
  },
  {
   "cell_type": "code",
   "execution_count": 22,
   "id": "bcdeee20",
   "metadata": {},
   "outputs": [],
   "source": [
    "a,b,c =(8,9,10)"
   ]
  },
  {
   "cell_type": "code",
   "execution_count": 23,
   "id": "3a1141aa",
   "metadata": {},
   "outputs": [
    {
     "ename": "ValueError",
     "evalue": "not enough values to unpack (expected 3, got 2)",
     "output_type": "error",
     "traceback": [
      "\u001b[1;31m---------------------------------------------------------------------------\u001b[0m",
      "\u001b[1;31mValueError\u001b[0m                                Traceback (most recent call last)",
      "Cell \u001b[1;32mIn[23], line 1\u001b[0m\n\u001b[1;32m----> 1\u001b[0m a,b,c \u001b[38;5;241m=\u001b[39m(\u001b[38;5;241m8\u001b[39m,\u001b[38;5;241m9\u001b[39m)\n",
      "\u001b[1;31mValueError\u001b[0m: not enough values to unpack (expected 3, got 2)"
     ]
    }
   ],
   "source": [
    "a,b,c =(8,9) #개수를 맞춰야 함"
   ]
  },
  {
   "cell_type": "markdown",
   "id": "86fad69e",
   "metadata": {},
   "source": [
    "# 자료형(data type)\n",
    "## 파이썬의 자료형은 동적으로 변화\n",
    "* int: 정수(소수점이 없는 숫자)\n",
    "* float: 실수(소수점이 있는 숫자)\n",
    "* str: 문자/문자열\n",
    "* list: 여러개의 자료가 순서대로 저장된 자료형, 모든 자료형을 넣어 만들 수 있음[자료]\n",
    "* tuple: list와 비슷하나 한 번 만들면 수정이 안 됨, 모든 자료형을 넣어 만들 수 있음(자료)\n",
    "* dictionary(dict): key:value 쌍으로 이루어진 자료형, 모든 자료형 넣어 만들 수 있음 {key:value}\n",
    "* set: 집합자료형, 자료의 중복이 되지 않음 {자료}"
   ]
  },
  {
   "cell_type": "markdown",
   "id": "17e51be1",
   "metadata": {},
   "source": [
    "# 데이터 타입을 출력하는 함수 type(변수)\n",
    "# 1. 정수형 변수(int)"
   ]
  },
  {
   "cell_type": "code",
   "execution_count": 25,
   "id": "a366a44c",
   "metadata": {},
   "outputs": [
    {
     "name": "stdout",
     "output_type": "stream",
     "text": [
      "10\n",
      "<class 'int'>\n"
     ]
    }
   ],
   "source": [
    "a=10\n",
    "print(a)\n",
    "print(type(a))"
   ]
  },
  {
   "cell_type": "markdown",
   "id": "af402b6a",
   "metadata": {},
   "source": [
    "# 2. 실수형 변수(float)"
   ]
  },
  {
   "cell_type": "code",
   "execution_count": 26,
   "id": "5eba03af",
   "metadata": {},
   "outputs": [
    {
     "name": "stdout",
     "output_type": "stream",
     "text": [
      "3.14\n",
      "<class 'float'>\n"
     ]
    }
   ],
   "source": [
    "b=3.14\n",
    "print(b)\n",
    "print(type(b))"
   ]
  },
  {
   "cell_type": "markdown",
   "id": "51d2d565",
   "metadata": {},
   "source": [
    "# 문자형 변수(str)\n",
    "* 문자형 데이터는 반드시 따옴표 \\', \\\" 안에 작성해야 한다.\n",
    "* 문자: 문자 1개\n",
    "* 문자열: 문자가 여러개 있는 것, **열** 즉 **순서**가 있다."
   ]
  },
  {
   "cell_type": "code",
   "execution_count": 27,
   "id": "17c9798f",
   "metadata": {},
   "outputs": [
    {
     "name": "stdout",
     "output_type": "stream",
     "text": [
      "문\n"
     ]
    }
   ],
   "source": [
    "c=\"문\"\n",
    "print(c)"
   ]
  },
  {
   "cell_type": "code",
   "execution_count": 28,
   "id": "38649941",
   "metadata": {},
   "outputs": [
    {
     "name": "stdout",
     "output_type": "stream",
     "text": [
      "문\n"
     ]
    }
   ],
   "source": [
    "c='문'\n",
    "print(c)"
   ]
  },
  {
   "cell_type": "code",
   "execution_count": 29,
   "id": "a2a87bd1",
   "metadata": {},
   "outputs": [
    {
     "name": "stdout",
     "output_type": "stream",
     "text": [
      "문자열\n"
     ]
    }
   ],
   "source": [
    "c=\"문자열\"\n",
    "print(c)"
   ]
  },
  {
   "cell_type": "markdown",
   "id": "3e1bd2c1",
   "metadata": {},
   "source": [
    "# 문자열 인덱싱: 문자열은 순서가 있으므로 번수명[번호]형태로 해당 위치의 문자를 출력/추출 가능"
   ]
  },
  {
   "cell_type": "code",
   "execution_count": 30,
   "id": "6d362782",
   "metadata": {},
   "outputs": [
    {
     "data": {
      "text/plain": [
       "'문자열'"
      ]
     },
     "execution_count": 30,
     "metadata": {},
     "output_type": "execute_result"
    }
   ],
   "source": [
    "c"
   ]
  },
  {
   "cell_type": "code",
   "execution_count": 32,
   "id": "544f97d9",
   "metadata": {},
   "outputs": [
    {
     "data": {
      "text/plain": [
       "'자'"
      ]
     },
     "execution_count": 32,
     "metadata": {},
     "output_type": "execute_result"
    }
   ],
   "source": [
    "c[1]"
   ]
  },
  {
   "cell_type": "code",
   "execution_count": 35,
   "id": "1e72a551",
   "metadata": {},
   "outputs": [
    {
     "data": {
      "text/plain": [
       "'열'"
      ]
     },
     "execution_count": 35,
     "metadata": {},
     "output_type": "execute_result"
    }
   ],
   "source": [
    "c[2]\n"
   ]
  },
  {
   "cell_type": "code",
   "execution_count": 39,
   "id": "77668515",
   "metadata": {},
   "outputs": [],
   "source": [
    "long_char = \"문자열은 아무리 길이가 길어도 한 줄로 입력해야 한다. 만약 줄바꿈을 하고 싶다면 \\\\를 줄바꿈할 곳에 넣고 줄바꿈을 할 수 있다.\""
   ]
  },
  {
   "cell_type": "code",
   "execution_count": 40,
   "id": "275d5ff4",
   "metadata": {},
   "outputs": [
    {
     "name": "stdout",
     "output_type": "stream",
     "text": [
      "문자열은 아무리 길이가 길어도 한 줄로 입력해야 한다. 만약 줄바꿈을 하고 싶다면 \\를 줄바꿈할 곳에 넣고 줄바꿈을 할 수 있다.\n"
     ]
    }
   ],
   "source": [
    "print(long_char)"
   ]
  },
  {
   "cell_type": "code",
   "execution_count": 41,
   "id": "5c88da17",
   "metadata": {},
   "outputs": [],
   "source": [
    "long_char2=\"문자열은 아무리 길이가 길어도 한 줄로 입력해야 한다. \\ 만약 줄바꿈을 하고 싶다면 \\\\를 줄바꿈할 곳 긑에 넣고 \\ 줄바꿈을 할 수 있다.\""
   ]
  },
  {
   "cell_type": "code",
   "execution_count": 45,
   "id": "4637ee2a",
   "metadata": {},
   "outputs": [],
   "source": [
    "# 출력시 줄바꿈으로 하고 싶을 때 \\n\n",
    "long_char3=\"문자열은 아무리 길이가 길어도 한 줄로 입력해야 한다. \\n \\ 만약 줄바꿈을 하고 싶다면 \\\\를 줄바꿈할 곳 긑에 넣고 \\n \\ 줄바꿈을 할 수 있다.\""
   ]
  },
  {
   "cell_type": "code",
   "execution_count": 46,
   "id": "cec607c8",
   "metadata": {},
   "outputs": [
    {
     "name": "stdout",
     "output_type": "stream",
     "text": [
      "문자열은 아무리 길이가 길어도 한 줄로 입력해야 한다. \n",
      " \\ 만약 줄바꿈을 하고 싶다면 \\를 줄바꿈할 곳 긑에 넣고 \n",
      " \\ 줄바꿈을 할 수 있다.\n"
     ]
    }
   ],
   "source": [
    "print(long_char3)"
   ]
  },
  {
   "cell_type": "markdown",
   "id": "52e7905f",
   "metadata": {},
   "source": [
    "# 이스케이프 문자 없이 줄바꿈하며 입력하고 싶을 때\n",
    "\"\"\"\"\"\", ''''''"
   ]
  },
  {
   "cell_type": "code",
   "execution_count": 50,
   "id": "22563d22",
   "metadata": {},
   "outputs": [],
   "source": [
    "long_char4=\"\"\"문자열은 아무리 길이가 길어도 한 줄로 입력해야 한다. \n",
    "만약 줄바꿈을 하고 싶다면 \\를 줄바꿈할 곳 긑에 넣고\n",
    "줄바꿈을 할 수 있다.\"\"\""
   ]
  },
  {
   "cell_type": "code",
   "execution_count": 51,
   "id": "2c0c8ceb",
   "metadata": {},
   "outputs": [
    {
     "name": "stdout",
     "output_type": "stream",
     "text": [
      "문자열은 아무리 길이가 길어도 한 줄로 입력해야 한다. \n",
      "만약 줄바꿈을 하고 싶다면 \\를 줄바꿈할 곳 긑에 넣고\n",
      "줄바꿈을 할 수 있다.\n"
     ]
    }
   ],
   "source": [
    "print(long_char4)"
   ]
  },
  {
   "cell_type": "code",
   "execution_count": 52,
   "id": "e2774124",
   "metadata": {},
   "outputs": [
    {
     "data": {
      "text/plain": [
       "'문자열은 아무리 길이가 길어도 한 줄로 입력해야 한다. \\n만약 줄바꿈을 하고 싶다면 \\\\를 줄바꿈할 곳 긑에 넣고\\n줄바꿈을 할 수 있다.'"
      ]
     },
     "execution_count": 52,
     "metadata": {},
     "output_type": "execute_result"
    }
   ],
   "source": [
    "long_char4"
   ]
  },
  {
   "cell_type": "markdown",
   "id": "18aecdb2",
   "metadata": {},
   "source": [
    "# 문자열의 길이 재기 len(문자열/변수)"
   ]
  },
  {
   "cell_type": "code",
   "execution_count": 54,
   "id": "d60b7291",
   "metadata": {},
   "outputs": [
    {
     "data": {
      "text/plain": [
       "74"
      ]
     },
     "execution_count": 54,
     "metadata": {},
     "output_type": "execute_result"
    }
   ],
   "source": [
    "len(\"문자열은 아무리 길이가 길어도 한 줄로 입력해야 한다.\\n만약 줄바꿈을 하고 싶다면 \\\\를 줄바꿈할 곳 긑에 넣고\\n줄바꿈을 할 수 있다.\")"
   ]
  },
  {
   "cell_type": "markdown",
   "id": "62e4b3ea",
   "metadata": {},
   "source": [
    "# 문자열의 번호(index)는 길이-1\n",
    "* len의 결과가 74일 경우 인덱스는 0-73번 까지"
   ]
  },
  {
   "cell_type": "code",
   "execution_count": 57,
   "id": "e73fc771",
   "metadata": {},
   "outputs": [
    {
     "data": {
      "text/plain": [
       "'이'"
      ]
     },
     "execution_count": 57,
     "metadata": {},
     "output_type": "execute_result"
    }
   ],
   "source": [
    "long_char[10]"
   ]
  },
  {
   "cell_type": "markdown",
   "id": "cf8a2248",
   "metadata": {},
   "source": [
    "# 문자의 덧셈, 곱셈\n",
    "* 문자의 덧셈: 붙이기\n",
    "* 문자의 곱셈: 반복"
   ]
  },
  {
   "cell_type": "code",
   "execution_count": 58,
   "id": "cd739902",
   "metadata": {},
   "outputs": [],
   "source": [
    "c=\"python\"\n",
    "d=\"쉬워요\""
   ]
  },
  {
   "cell_type": "code",
   "execution_count": 59,
   "id": "9cf9c364",
   "metadata": {},
   "outputs": [
    {
     "name": "stdout",
     "output_type": "stream",
     "text": [
      "python 쉬워요\n"
     ]
    }
   ],
   "source": [
    "print(c,d)"
   ]
  },
  {
   "cell_type": "code",
   "execution_count": 60,
   "id": "f1e3aee7",
   "metadata": {},
   "outputs": [
    {
     "name": "stdout",
     "output_type": "stream",
     "text": [
      "python쉬워요\n"
     ]
    }
   ],
   "source": [
    "e=c+d\n",
    "print(e)"
   ]
  },
  {
   "cell_type": "code",
   "execution_count": 62,
   "id": "5b07b23c",
   "metadata": {},
   "outputs": [
    {
     "name": "stdout",
     "output_type": "stream",
     "text": [
      "python 쉬워요\n"
     ]
    }
   ],
   "source": [
    "#문자 + 문자 2==문자문자2\n",
    "f=c+\" \"+d\n",
    "print(f)"
   ]
  },
  {
   "cell_type": "code",
   "execution_count": 64,
   "id": "4e9b718f",
   "metadata": {},
   "outputs": [
    {
     "name": "stdout",
     "output_type": "stream",
     "text": [
      "***********\n",
      "Hello World\n",
      "***********\n"
     ]
    }
   ],
   "source": [
    "#문자 곱셈 == 문자의 반복\n",
    "a=\"*\"\n",
    "b=\"Hello World\"\n",
    "print(a*11)\n",
    "print(b)\n",
    "print(a*11)"
   ]
  },
  {
   "cell_type": "markdown",
   "id": "de693d79",
   "metadata": {},
   "source": [
    "# 문자열의 인덱싱과 슬라이싱\n",
    "* 인덱싱: 문자열에 앞에서부터 부여된 숫자를 대괄호 안에 넣어서 그 위치의 문자를 출력하는 것\n",
    "    * 변수.[숫자].\n",
    "* 슬라이싱: 문자열에 부여된 인덱스 번호를 범위로 묶어서 가져오는 것\n",
    "    * 변수.[시작번호:끝번호+1:간격]."
   ]
  },
  {
   "cell_type": "code",
   "execution_count": 65,
   "id": "6466472e",
   "metadata": {},
   "outputs": [],
   "source": [
    "sliceing=\"슬라이싱: 문자열에 부여된 인덱스 번호를 범위로 묶어서 가져오는 것\""
   ]
  },
  {
   "cell_type": "code",
   "execution_count": 66,
   "id": "cf79b0f3",
   "metadata": {},
   "outputs": [
    {
     "data": {
      "text/plain": [
       "'슬'"
      ]
     },
     "execution_count": 66,
     "metadata": {},
     "output_type": "execute_result"
    }
   ],
   "source": [
    "sliceing[0]"
   ]
  },
  {
   "cell_type": "code",
   "execution_count": 67,
   "id": "7b3b1ed8",
   "metadata": {},
   "outputs": [
    {
     "data": {
      "text/plain": [
       "'문자열에'"
      ]
     },
     "execution_count": 67,
     "metadata": {},
     "output_type": "execute_result"
    }
   ],
   "source": [
    "sliceing[6:10]"
   ]
  },
  {
   "cell_type": "code",
   "execution_count": 70,
   "id": "9bee556b",
   "metadata": {},
   "outputs": [
    {
     "data": {
      "text/plain": [
       "'슬싱문에여인 를위묶 오것'"
      ]
     },
     "execution_count": 70,
     "metadata": {},
     "output_type": "execute_result"
    }
   ],
   "source": [
    "sliceing[::3]"
   ]
  },
  {
   "cell_type": "markdown",
   "id": "7f2e002e",
   "metadata": {},
   "source": [
    "# 4. 리스트 list\n",
    "* 리스트는 .[]. 안에 정수, 실수, 문자/문자열, 리스트, 튜플, 딕셔너리 를 모두 넣어서 만든다.\n",
    "* 리스트는 여러 가지 자료가 나열된 형태이므로 순서가 있다.\n",
    "* 인덱싱, 슬라이싱 가능\n",
    "* 자료의 추가/삭제가 가능하다.\n",
    "* 문자열은 \", 리스트는 .[].로 묶어 여러 문자를 넣을 수 있는 것이다.-> 하나의 묶음이라고 보면 됨"
   ]
  },
  {
   "cell_type": "code",
   "execution_count": 71,
   "id": "dd69da25",
   "metadata": {},
   "outputs": [],
   "source": [
    "a=[1,3.5, \"삼\", \"사십오\", [1,2,3], (4,5,6), {\"key\": \"value\"}]"
   ]
  },
  {
   "cell_type": "code",
   "execution_count": 73,
   "id": "b1f08f02",
   "metadata": {},
   "outputs": [
    {
     "name": "stdout",
     "output_type": "stream",
     "text": [
      "[1, 3.5, '삼', '사십오', [1, 2, 3], (4, 5, 6), {'key': 'value'}]\n"
     ]
    }
   ],
   "source": [
    "print(a)"
   ]
  },
  {
   "cell_type": "code",
   "execution_count": 76,
   "id": "b991d858",
   "metadata": {},
   "outputs": [
    {
     "name": "stdout",
     "output_type": "stream",
     "text": [
      "[[1, 2, 3], (4, 5, 6), {'key': 'value'}]\n"
     ]
    }
   ],
   "source": [
    "print(a[4:7])"
   ]
  },
  {
   "cell_type": "code",
   "execution_count": 77,
   "id": "174a99bc",
   "metadata": {},
   "outputs": [
    {
     "name": "stdout",
     "output_type": "stream",
     "text": [
      "<class 'list'>\n"
     ]
    }
   ],
   "source": [
    "print(type(a))"
   ]
  },
  {
   "cell_type": "code",
   "execution_count": 79,
   "id": "64abf974",
   "metadata": {},
   "outputs": [
    {
     "name": "stdout",
     "output_type": "stream",
     "text": [
      "<class 'str'>\n"
     ]
    }
   ],
   "source": [
    "print(type(a[3]))"
   ]
  },
  {
   "cell_type": "markdown",
   "id": "b7a92f34",
   "metadata": {},
   "source": [
    "# 리스트 안에 리스트/튜플 이 있는 경우?"
   ]
  },
  {
   "cell_type": "code",
   "execution_count": 80,
   "id": "484e75e9",
   "metadata": {},
   "outputs": [
    {
     "data": {
      "text/plain": [
       "[1, 3.5, '삼', '사십오', [1, 2, 3], (4, 5, 6), {'key': 'value'}]"
      ]
     },
     "execution_count": 80,
     "metadata": {},
     "output_type": "execute_result"
    }
   ],
   "source": [
    "a"
   ]
  },
  {
   "cell_type": "code",
   "execution_count": 82,
   "id": "767e033b",
   "metadata": {},
   "outputs": [
    {
     "data": {
      "text/plain": [
       "'오'"
      ]
     },
     "execution_count": 82,
     "metadata": {},
     "output_type": "execute_result"
    }
   ],
   "source": [
    "a[3][2]"
   ]
  },
  {
   "cell_type": "code",
   "execution_count": 84,
   "id": "85cb7b68",
   "metadata": {
    "scrolled": true
   },
   "outputs": [
    {
     "data": {
      "text/plain": [
       "3"
      ]
     },
     "execution_count": 84,
     "metadata": {},
     "output_type": "execute_result"
    }
   ],
   "source": [
    "a[4][2]"
   ]
  },
  {
   "cell_type": "markdown",
   "id": "78130c50",
   "metadata": {},
   "source": [
    "# 중첩리스트"
   ]
  },
  {
   "cell_type": "code",
   "execution_count": 85,
   "id": "3769e18d",
   "metadata": {},
   "outputs": [],
   "source": [
    "b=[1, 3.5, '삼', '사십오', [1, 2, [4,5,6,[7,8,9],10]], (4, 5, 6), {'key': 'value'}]"
   ]
  },
  {
   "cell_type": "code",
   "execution_count": 88,
   "id": "facd1c00",
   "metadata": {},
   "outputs": [
    {
     "data": {
      "text/plain": [
       "9"
      ]
     },
     "execution_count": 88,
     "metadata": {},
     "output_type": "execute_result"
    }
   ],
   "source": [
    "b[4][2][3][2]"
   ]
  },
  {
   "cell_type": "markdown",
   "id": "f733a67a",
   "metadata": {},
   "source": [
    "# len 함수로 리스트 길이 구하기"
   ]
  },
  {
   "cell_type": "code",
   "execution_count": 89,
   "id": "efdb1790",
   "metadata": {},
   "outputs": [
    {
     "data": {
      "text/plain": [
       "7"
      ]
     },
     "execution_count": 89,
     "metadata": {},
     "output_type": "execute_result"
    }
   ],
   "source": [
    "len(b)"
   ]
  },
  {
   "cell_type": "code",
   "execution_count": 90,
   "id": "f4234feb",
   "metadata": {},
   "outputs": [
    {
     "data": {
      "text/plain": [
       "3"
      ]
     },
     "execution_count": 90,
     "metadata": {},
     "output_type": "execute_result"
    }
   ],
   "source": [
    "len(b[3])"
   ]
  },
  {
   "cell_type": "code",
   "execution_count": 92,
   "id": "ce269a33",
   "metadata": {},
   "outputs": [
    {
     "data": {
      "text/plain": [
       "5"
      ]
     },
     "execution_count": 92,
     "metadata": {},
     "output_type": "execute_result"
    }
   ],
   "source": [
    "len(b[4][2])"
   ]
  },
  {
   "cell_type": "markdown",
   "id": "97b609bc",
   "metadata": {},
   "source": [
    "# 리스트에 자료 추가하기 .append(자료)\n",
    "* append로 추가된 자료는 리스트의 가장 마지막에 추가 됨"
   ]
  },
  {
   "cell_type": "code",
   "execution_count": 93,
   "id": "c8b5280a",
   "metadata": {},
   "outputs": [
    {
     "data": {
      "text/plain": [
       "[1,\n",
       " 3.5,\n",
       " '삼',\n",
       " '사십오',\n",
       " [1, 2, [4, 5, 6, [7, 8, 9], 10]],\n",
       " (4, 5, 6),\n",
       " {'key': 'value'}]"
      ]
     },
     "execution_count": 93,
     "metadata": {},
     "output_type": "execute_result"
    }
   ],
   "source": [
    "b"
   ]
  },
  {
   "cell_type": "code",
   "execution_count": 94,
   "id": "2a4f491e",
   "metadata": {},
   "outputs": [],
   "source": [
    "b.append(99)"
   ]
  },
  {
   "cell_type": "code",
   "execution_count": 95,
   "id": "2764658b",
   "metadata": {},
   "outputs": [
    {
     "data": {
      "text/plain": [
       "[1,\n",
       " 3.5,\n",
       " '삼',\n",
       " '사십오',\n",
       " [1, 2, [4, 5, 6, [7, 8, 9], 10]],\n",
       " (4, 5, 6),\n",
       " {'key': 'value'},\n",
       " 99]"
      ]
     },
     "execution_count": 95,
     "metadata": {},
     "output_type": "execute_result"
    }
   ],
   "source": [
    "b"
   ]
  },
  {
   "cell_type": "code",
   "execution_count": 96,
   "id": "2ba05507",
   "metadata": {},
   "outputs": [],
   "source": [
    "b.append(99.999)"
   ]
  },
  {
   "cell_type": "code",
   "execution_count": 97,
   "id": "4547cc20",
   "metadata": {},
   "outputs": [
    {
     "data": {
      "text/plain": [
       "[1,\n",
       " 3.5,\n",
       " '삼',\n",
       " '사십오',\n",
       " [1, 2, [4, 5, 6, [7, 8, 9], 10]],\n",
       " (4, 5, 6),\n",
       " {'key': 'value'},\n",
       " 99,\n",
       " 99.999]"
      ]
     },
     "execution_count": 97,
     "metadata": {},
     "output_type": "execute_result"
    }
   ],
   "source": [
    "b"
   ]
  },
  {
   "cell_type": "code",
   "execution_count": 98,
   "id": "c63cd776",
   "metadata": {},
   "outputs": [],
   "source": [
    "b.append([\"일\",\"이\",\"삼\"])"
   ]
  },
  {
   "cell_type": "code",
   "execution_count": 99,
   "id": "3832eb37",
   "metadata": {},
   "outputs": [
    {
     "data": {
      "text/plain": [
       "[1,\n",
       " 3.5,\n",
       " '삼',\n",
       " '사십오',\n",
       " [1, 2, [4, 5, 6, [7, 8, 9], 10]],\n",
       " (4, 5, 6),\n",
       " {'key': 'value'},\n",
       " 99,\n",
       " 99.999,\n",
       " ['일', '이', '삼']]"
      ]
     },
     "execution_count": 99,
     "metadata": {},
     "output_type": "execute_result"
    }
   ],
   "source": [
    "b"
   ]
  },
  {
   "cell_type": "code",
   "execution_count": 100,
   "id": "73eb80d4",
   "metadata": {},
   "outputs": [
    {
     "data": {
      "text/plain": [
       "[1,\n",
       " 3.5,\n",
       " '삼',\n",
       " '사십오',\n",
       " [1, 2, [4, 5, 6, [7, 8, 9], 10]],\n",
       " (4, 5, 6),\n",
       " {'key': 'value'},\n",
       " 99,\n",
       " 99.999,\n",
       " ['일', '이', '삼'],\n",
       " (1, 2, 3)]"
      ]
     },
     "execution_count": 100,
     "metadata": {},
     "output_type": "execute_result"
    }
   ],
   "source": [
    "b.append((1,2,3))\n",
    "b"
   ]
  },
  {
   "cell_type": "code",
   "execution_count": 101,
   "id": "4146173c",
   "metadata": {},
   "outputs": [
    {
     "data": {
      "text/plain": [
       "[1,\n",
       " 3.5,\n",
       " '삼',\n",
       " '사십오',\n",
       " [1, 2, [4, 5, 6, [7, 8, 9], 10]],\n",
       " (4, 5, 6),\n",
       " {'key': 'value'},\n",
       " 99,\n",
       " 99.999,\n",
       " ['일', '이', '삼'],\n",
       " (1, 2, 3),\n",
       " {'key2': 'value2'}]"
      ]
     },
     "execution_count": 101,
     "metadata": {},
     "output_type": "execute_result"
    }
   ],
   "source": [
    "b.append({\"key2\":\"value2\"})\n",
    "b"
   ]
  },
  {
   "cell_type": "code",
   "execution_count": 102,
   "id": "6b0f8e18",
   "metadata": {},
   "outputs": [
    {
     "data": {
      "text/plain": [
       "[1,\n",
       " 3.5,\n",
       " '삼',\n",
       " '사십오',\n",
       " [1, 2, [4, 5, 6, [7, 8, 9], 10]],\n",
       " (4, 5, 6),\n",
       " {'key': 'value'},\n",
       " 99,\n",
       " 99.999,\n",
       " (1, 2, 3),\n",
       " {'key2': 'value2'}]"
      ]
     },
     "execution_count": 102,
     "metadata": {},
     "output_type": "execute_result"
    }
   ],
   "source": [
    "del b[9]\n",
    "b"
   ]
  },
  {
   "cell_type": "code",
   "execution_count": 103,
   "id": "31ea4280",
   "metadata": {
    "scrolled": true
   },
   "outputs": [
    {
     "data": {
      "text/plain": [
       "[1,\n",
       " 3.5,\n",
       " '삼',\n",
       " '사십오',\n",
       " [1, 2, [4, 5, 6, [7, 8, 9], 10]],\n",
       " (4, 5, 6),\n",
       " {'key': 'value'},\n",
       " 99,\n",
       " 99.999,\n",
       " (1, 2, 3)]"
      ]
     },
     "execution_count": 103,
     "metadata": {},
     "output_type": "execute_result"
    }
   ],
   "source": [
    "del b[10:12]\n",
    "b"
   ]
  },
  {
   "cell_type": "markdown",
   "id": "177f8d87",
   "metadata": {},
   "source": [
    "# 리스트 자료 수정하기"
   ]
  },
  {
   "cell_type": "code",
   "execution_count": 104,
   "id": "8d893f18",
   "metadata": {
    "scrolled": true
   },
   "outputs": [
    {
     "data": {
      "text/plain": [
       "[1000,\n",
       " 3.5,\n",
       " '삼',\n",
       " '사십오',\n",
       " [1, 2, [4, 5, 6, [7, 8, 9], 10]],\n",
       " (4, 5, 6),\n",
       " {'key': 'value'},\n",
       " 99,\n",
       " 99.999,\n",
       " (1, 2, 3)]"
      ]
     },
     "execution_count": 104,
     "metadata": {},
     "output_type": "execute_result"
    }
   ],
   "source": [
    "b[0]=1000\n",
    "b"
   ]
  },
  {
   "cell_type": "code",
   "execution_count": 114,
   "id": "1bf72eb5",
   "metadata": {},
   "outputs": [
    {
     "name": "stdout",
     "output_type": "stream",
     "text": [
      "[1] <class 'list'>\n"
     ]
    }
   ],
   "source": [
    "b2=[1]\n",
    "print(b2,type(b2))"
   ]
  },
  {
   "cell_type": "markdown",
   "id": "aa966147",
   "metadata": {},
   "source": [
    "# 5. 튜플 tuple\n",
    "* 여러가지 자료를 ()안에 넣어서 만드는 자료형\n",
    "* 모든 data type의 자료를 넣을 수 있다.\n",
    "* 한 번 생성하면 수정이 되지 않는다.\n",
    "* 튜플이 리스트보다 실행 속도가 빠르다."
   ]
  },
  {
   "cell_type": "code",
   "execution_count": 111,
   "id": "c68790de",
   "metadata": {},
   "outputs": [],
   "source": [
    "t=(1,)"
   ]
  },
  {
   "cell_type": "code",
   "execution_count": 112,
   "id": "5e449841",
   "metadata": {},
   "outputs": [
    {
     "data": {
      "text/plain": [
       "(1,)"
      ]
     },
     "execution_count": 112,
     "metadata": {},
     "output_type": "execute_result"
    }
   ],
   "source": [
    "t"
   ]
  },
  {
   "cell_type": "code",
   "execution_count": 109,
   "id": "9b8435a6",
   "metadata": {},
   "outputs": [
    {
     "data": {
      "text/plain": [
       "2"
      ]
     },
     "execution_count": 109,
     "metadata": {},
     "output_type": "execute_result"
    }
   ],
   "source": [
    "t2=(2)\n",
    "t2"
   ]
  },
  {
   "cell_type": "code",
   "execution_count": 113,
   "id": "642b1420",
   "metadata": {},
   "outputs": [
    {
     "name": "stdout",
     "output_type": "stream",
     "text": [
      "<class 'tuple'> <class 'int'>\n"
     ]
    }
   ],
   "source": [
    "print(type(t),type(t2))"
   ]
  },
  {
   "cell_type": "code",
   "execution_count": 115,
   "id": "cad4d459",
   "metadata": {},
   "outputs": [
    {
     "data": {
      "text/plain": [
       "(1, 2.5, '문', '문자열', [3, 4, 5], (5, 6, 7), {'key': 'value'})"
      ]
     },
     "execution_count": 115,
     "metadata": {},
     "output_type": "execute_result"
    }
   ],
   "source": [
    "t3=(1,2.5,\"문\",\"문자열\",[3,4,5],(5,6,7),{'key':'value'})\n",
    "t3"
   ]
  },
  {
   "cell_type": "code",
   "execution_count": 116,
   "id": "f1b0d437",
   "metadata": {},
   "outputs": [
    {
     "data": {
      "text/plain": [
       "4"
      ]
     },
     "execution_count": 116,
     "metadata": {},
     "output_type": "execute_result"
    }
   ],
   "source": [
    "t3[4][1]"
   ]
  },
  {
   "cell_type": "code",
   "execution_count": 117,
   "id": "efcc2056",
   "metadata": {},
   "outputs": [
    {
     "data": {
      "text/plain": [
       "(1, 2.5, '문', '문자열')"
      ]
     },
     "execution_count": 117,
     "metadata": {},
     "output_type": "execute_result"
    }
   ],
   "source": [
    "t3[0:4]"
   ]
  },
  {
   "cell_type": "code",
   "execution_count": 118,
   "id": "bfc9e700",
   "metadata": {},
   "outputs": [
    {
     "ename": "AttributeError",
     "evalue": "'tuple' object has no attribute 'append'",
     "output_type": "error",
     "traceback": [
      "\u001b[1;31m---------------------------------------------------------------------------\u001b[0m",
      "\u001b[1;31mAttributeError\u001b[0m                            Traceback (most recent call last)",
      "Cell \u001b[1;32mIn[118], line 2\u001b[0m\n\u001b[0;32m      1\u001b[0m \u001b[38;5;66;03m# 튜플은 자료 추가가 안됨\u001b[39;00m\n\u001b[1;32m----> 2\u001b[0m \u001b[43mt3\u001b[49m\u001b[38;5;241;43m.\u001b[39;49m\u001b[43mappend\u001b[49m(\u001b[38;5;241m10\u001b[39m)\n",
      "\u001b[1;31mAttributeError\u001b[0m: 'tuple' object has no attribute 'append'"
     ]
    }
   ],
   "source": [
    "# 튜플은 자료 추가가 안됨\n",
    "t3.append(10)"
   ]
  },
  {
   "cell_type": "code",
   "execution_count": 119,
   "id": "aaba1156",
   "metadata": {},
   "outputs": [
    {
     "ename": "TypeError",
     "evalue": "'tuple' object does not support item assignment",
     "output_type": "error",
     "traceback": [
      "\u001b[1;31m---------------------------------------------------------------------------\u001b[0m",
      "\u001b[1;31mTypeError\u001b[0m                                 Traceback (most recent call last)",
      "Cell \u001b[1;32mIn[119], line 2\u001b[0m\n\u001b[0;32m      1\u001b[0m \u001b[38;5;66;03m# 튜플은 자료 수정도 안됨\u001b[39;00m\n\u001b[1;32m----> 2\u001b[0m \u001b[43mt3\u001b[49m\u001b[43m[\u001b[49m\u001b[38;5;241;43m0\u001b[39;49m\u001b[43m]\u001b[49m\u001b[38;5;241m=\u001b[39m\u001b[38;5;241m100\u001b[39m\n",
      "\u001b[1;31mTypeError\u001b[0m: 'tuple' object does not support item assignment"
     ]
    }
   ],
   "source": [
    "# 튜플은 자료 수정도 안됨\n",
    "t3[0]=100"
   ]
  },
  {
   "cell_type": "code",
   "execution_count": 120,
   "id": "bc324f26",
   "metadata": {},
   "outputs": [
    {
     "ename": "TypeError",
     "evalue": "'tuple' object doesn't support item deletion",
     "output_type": "error",
     "traceback": [
      "\u001b[1;31m---------------------------------------------------------------------------\u001b[0m",
      "\u001b[1;31mTypeError\u001b[0m                                 Traceback (most recent call last)",
      "Cell \u001b[1;32mIn[120], line 2\u001b[0m\n\u001b[0;32m      1\u001b[0m \u001b[38;5;66;03m#튜플은 자료 삭제가 안 됨\u001b[39;00m\n\u001b[1;32m----> 2\u001b[0m \u001b[38;5;28;01mdel\u001b[39;00m t3[\u001b[38;5;241m0\u001b[39m]\n",
      "\u001b[1;31mTypeError\u001b[0m: 'tuple' object doesn't support item deletion"
     ]
    }
   ],
   "source": [
    "#튜플은 자료 삭제가 안 됨\n",
    "del t3[0]"
   ]
  },
  {
   "cell_type": "markdown",
   "id": "988ffce8",
   "metadata": {},
   "source": [
    "# 6. 딕셔너리형(dict) JSON {'key\":\"value\"}\n",
    "* key와 value로 이루어진 데이터형\n",
    "* json이라고도 불리며 웹상에서 데이터를 주고 받을 때 주로 사용\n",
    "* 딕셔너리의 value에는 모든 자료형이 올 수 있음\n",
    "* 딕셔너리의 key에는 list,dict는 올 수 없음\n",
    "* key를 호출하면 value가 출력됨\n",
    "* 딕셔너리는 순서가 없는 자료형"
   ]
  },
  {
   "cell_type": "code",
   "execution_count": 121,
   "id": "9a5667ca",
   "metadata": {},
   "outputs": [],
   "source": [
    "dict1 = {\"이름\":\"홍길동\", \"나이\":33, \"키\":175.4, \"가족\":['둘리','또치','도우너']}"
   ]
  },
  {
   "cell_type": "code",
   "execution_count": 128,
   "id": "485d70cd",
   "metadata": {},
   "outputs": [
    {
     "name": "stdout",
     "output_type": "stream",
     "text": [
      "홍길동 <class 'str'>\n"
     ]
    }
   ],
   "source": [
    "print(dict1[\"이름\"], type(dict1[\"이름\"]))"
   ]
  },
  {
   "cell_type": "code",
   "execution_count": 129,
   "id": "e0b81ab6",
   "metadata": {},
   "outputs": [
    {
     "name": "stdout",
     "output_type": "stream",
     "text": [
      "33 <class 'int'>\n"
     ]
    }
   ],
   "source": [
    "print(dict1[\"나이\"],type(dict1[\"나이\"]))"
   ]
  },
  {
   "cell_type": "code",
   "execution_count": 130,
   "id": "d3bd7fbc",
   "metadata": {},
   "outputs": [
    {
     "name": "stdout",
     "output_type": "stream",
     "text": [
      "175.4 <class 'float'>\n"
     ]
    }
   ],
   "source": [
    "print(dict1[\"키\"],type(dict1[\"키\"]))"
   ]
  },
  {
   "cell_type": "code",
   "execution_count": 131,
   "id": "e1f45e87",
   "metadata": {},
   "outputs": [
    {
     "name": "stdout",
     "output_type": "stream",
     "text": [
      "['둘리', '또치', '도우너'] <class 'list'>\n"
     ]
    }
   ],
   "source": [
    "print(dict1[\"가족\"],type(dict1[\"가족\"]))"
   ]
  },
  {
   "cell_type": "code",
   "execution_count": 133,
   "id": "69fe4ae7",
   "metadata": {},
   "outputs": [
    {
     "data": {
      "text/plain": [
       "'둘리'"
      ]
     },
     "execution_count": 133,
     "metadata": {},
     "output_type": "execute_result"
    }
   ],
   "source": [
    "dict1[\"가족\"][0]"
   ]
  },
  {
   "cell_type": "code",
   "execution_count": 136,
   "id": "2993ee70",
   "metadata": {},
   "outputs": [],
   "source": [
    "dict2 = {\"가족\":['둘리','또치','도우너',{\"키\":[145,155,165]}]}"
   ]
  },
  {
   "cell_type": "markdown",
   "id": "099d0e4a",
   "metadata": {},
   "source": [
    "# dict 에서 len은 key의 갯수"
   ]
  },
  {
   "cell_type": "code",
   "execution_count": 135,
   "id": "40dd96ee",
   "metadata": {},
   "outputs": [
    {
     "data": {
      "text/plain": [
       "1"
      ]
     },
     "execution_count": 135,
     "metadata": {},
     "output_type": "execute_result"
    }
   ],
   "source": [
    "len(dict2)"
   ]
  },
  {
   "cell_type": "code",
   "execution_count": 138,
   "id": "de7803e6",
   "metadata": {},
   "outputs": [
    {
     "data": {
      "text/plain": [
       "['둘리', '또치', '도우너', {'키': [145, 155, 165]}]"
      ]
     },
     "execution_count": 138,
     "metadata": {},
     "output_type": "execute_result"
    }
   ],
   "source": [
    "dict2[\"가족\"]"
   ]
  },
  {
   "cell_type": "code",
   "execution_count": 139,
   "id": "ade226c8",
   "metadata": {},
   "outputs": [
    {
     "data": {
      "text/plain": [
       "{'키': [145, 155, 165]}"
      ]
     },
     "execution_count": 139,
     "metadata": {},
     "output_type": "execute_result"
    }
   ],
   "source": [
    "dict2[\"가족\"][3]"
   ]
  },
  {
   "cell_type": "code",
   "execution_count": 140,
   "id": "d0ca8096",
   "metadata": {},
   "outputs": [
    {
     "data": {
      "text/plain": [
       "[145, 155, 165]"
      ]
     },
     "execution_count": 140,
     "metadata": {},
     "output_type": "execute_result"
    }
   ],
   "source": [
    "dict2[\"가족\"][3][\"키\"]"
   ]
  },
  {
   "cell_type": "code",
   "execution_count": 141,
   "id": "22629bea",
   "metadata": {},
   "outputs": [
    {
     "data": {
      "text/plain": [
       "155"
      ]
     },
     "execution_count": 141,
     "metadata": {},
     "output_type": "execute_result"
    }
   ],
   "source": [
    "dict2[\"가족\"][3][\"키\"][1]"
   ]
  },
  {
   "cell_type": "markdown",
   "id": "231eb96a",
   "metadata": {},
   "source": [
    "# 딕셔너리에 자료 추가/삭제하기\n",
    "* 자료추가\n",
    "    * 변수명['새로운 키'] = 새 자료 **key가 중복되면 안됨, 중복될 경우 나중 값으로 덮어쓰기 됨**\n",
    "* 자료삭제\n",
    "    * del변수명.[\"key\"]."
   ]
  },
  {
   "cell_type": "code",
   "execution_count": 143,
   "id": "3ff7acb9",
   "metadata": {},
   "outputs": [
    {
     "data": {
      "text/plain": [
       "{'가족': ['둘리', '또치', '도우너', {'키': [145, 155, 165]}]}"
      ]
     },
     "execution_count": 143,
     "metadata": {},
     "output_type": "execute_result"
    }
   ],
   "source": [
    "dict2"
   ]
  },
  {
   "cell_type": "code",
   "execution_count": 144,
   "id": "6b48e559",
   "metadata": {},
   "outputs": [],
   "source": [
    "dict2['좋아하는 음식']=['짜장면', '짬뽕','볶음밥']"
   ]
  },
  {
   "cell_type": "code",
   "execution_count": 145,
   "id": "47c7c5e5",
   "metadata": {},
   "outputs": [
    {
     "data": {
      "text/plain": [
       "{'가족': ['둘리', '또치', '도우너', {'키': [145, 155, 165]}],\n",
       " '좋아하는 음식': ['짜장면', '짬뽕', '볶음밥']}"
      ]
     },
     "execution_count": 145,
     "metadata": {},
     "output_type": "execute_result"
    }
   ],
   "source": [
    "dict2"
   ]
  },
  {
   "cell_type": "code",
   "execution_count": 147,
   "id": "d678a49c",
   "metadata": {},
   "outputs": [],
   "source": [
    "del dict2['가족'][3]"
   ]
  },
  {
   "cell_type": "code",
   "execution_count": 149,
   "id": "67bb9d47",
   "metadata": {},
   "outputs": [
    {
     "data": {
      "text/plain": [
       "{'가족': ['둘리', '또치', '도우너'], '좋아하는 음식': ['짜장면', '짬뽕', '볶음밥']}"
      ]
     },
     "execution_count": 149,
     "metadata": {},
     "output_type": "execute_result"
    }
   ],
   "source": [
    "dict2"
   ]
  },
  {
   "cell_type": "code",
   "execution_count": 150,
   "id": "84f6d714",
   "metadata": {},
   "outputs": [],
   "source": [
    "del dict2['좋아하는 음식']"
   ]
  },
  {
   "cell_type": "code",
   "execution_count": 151,
   "id": "749c1f94",
   "metadata": {},
   "outputs": [
    {
     "data": {
      "text/plain": [
       "{'가족': ['둘리', '또치', '도우너']}"
      ]
     },
     "execution_count": 151,
     "metadata": {},
     "output_type": "execute_result"
    }
   ],
   "source": [
    "dict2"
   ]
  },
  {
   "cell_type": "code",
   "execution_count": 152,
   "id": "6d24d5af",
   "metadata": {},
   "outputs": [],
   "source": [
    "dict2['가족']=\"대가족\""
   ]
  },
  {
   "cell_type": "code",
   "execution_count": 153,
   "id": "650c369f",
   "metadata": {},
   "outputs": [
    {
     "data": {
      "text/plain": [
       "{'가족': '대가족'}"
      ]
     },
     "execution_count": 153,
     "metadata": {},
     "output_type": "execute_result"
    }
   ],
   "source": [
    "dict2"
   ]
  },
  {
   "cell_type": "markdown",
   "id": "e9ef173d",
   "metadata": {},
   "source": [
    "# 형변환 함수\n",
    "* data type을 다른 data type으로 바꾸는 것\n",
    "* int, float, str, list, tuple, dict"
   ]
  },
  {
   "cell_type": "markdown",
   "id": "6916255b",
   "metadata": {},
   "source": [
    "## 숫자나 인수를 실수로 형변환"
   ]
  },
  {
   "cell_type": "code",
   "execution_count": 154,
   "id": "a01b075f",
   "metadata": {},
   "outputs": [],
   "source": [
    "a = 3.14"
   ]
  },
  {
   "cell_type": "code",
   "execution_count": 155,
   "id": "6af382a0",
   "metadata": {},
   "outputs": [
    {
     "name": "stdout",
     "output_type": "stream",
     "text": [
      "3.14 <class 'float'>\n"
     ]
    }
   ],
   "source": [
    "print(a,type(a))"
   ]
  },
  {
   "cell_type": "code",
   "execution_count": 156,
   "id": "eca079bd",
   "metadata": {},
   "outputs": [
    {
     "name": "stdout",
     "output_type": "stream",
     "text": [
      "3 <class 'int'>\n"
     ]
    }
   ],
   "source": [
    "print(int(a),type(int(a)))"
   ]
  },
  {
   "cell_type": "code",
   "execution_count": 157,
   "id": "9d9cc7e5",
   "metadata": {},
   "outputs": [
    {
     "name": "stdout",
     "output_type": "stream",
     "text": [
      "3 <class 'str'>\n"
     ]
    }
   ],
   "source": [
    "b=\"3\"\n",
    "print(b,type(b))"
   ]
  },
  {
   "cell_type": "code",
   "execution_count": 159,
   "id": "666e63d4",
   "metadata": {},
   "outputs": [
    {
     "data": {
      "text/plain": [
       "'3'"
      ]
     },
     "execution_count": 159,
     "metadata": {},
     "output_type": "execute_result"
    }
   ],
   "source": [
    "b"
   ]
  },
  {
   "cell_type": "code",
   "execution_count": 160,
   "id": "ea49dcff",
   "metadata": {},
   "outputs": [
    {
     "data": {
      "text/plain": [
       "3"
      ]
     },
     "execution_count": 160,
     "metadata": {},
     "output_type": "execute_result"
    }
   ],
   "source": [
    "int(a)"
   ]
  },
  {
   "cell_type": "code",
   "execution_count": 161,
   "id": "085fdf85",
   "metadata": {},
   "outputs": [
    {
     "name": "stdout",
     "output_type": "stream",
     "text": [
      "3 <class 'int'>\n"
     ]
    }
   ],
   "source": [
    "print(int(b),type(int(b)))"
   ]
  },
  {
   "cell_type": "markdown",
   "id": "3e69d924",
   "metadata": {},
   "source": [
    "## float() 정수나, 문자를 실수로 형변환"
   ]
  },
  {
   "cell_type": "code",
   "execution_count": 162,
   "id": "f44f8567",
   "metadata": {},
   "outputs": [
    {
     "name": "stdout",
     "output_type": "stream",
     "text": [
      "200 <class 'int'>\n"
     ]
    }
   ],
   "source": [
    "c=200\n",
    "print(c,type(c))"
   ]
  },
  {
   "cell_type": "code",
   "execution_count": 163,
   "id": "f001e7f6",
   "metadata": {},
   "outputs": [
    {
     "name": "stdout",
     "output_type": "stream",
     "text": [
      "200.0 <class 'float'>\n"
     ]
    }
   ],
   "source": [
    "print(float(c),type(float(c)))"
   ]
  },
  {
   "cell_type": "code",
   "execution_count": 164,
   "id": "5f4e6ea7",
   "metadata": {},
   "outputs": [],
   "source": [
    "c=float(c)"
   ]
  },
  {
   "cell_type": "code",
   "execution_count": 166,
   "id": "7fbf4bd6",
   "metadata": {},
   "outputs": [
    {
     "data": {
      "text/plain": [
       "200.0"
      ]
     },
     "execution_count": 166,
     "metadata": {},
     "output_type": "execute_result"
    }
   ],
   "source": [
    "c"
   ]
  },
  {
   "cell_type": "code",
   "execution_count": 167,
   "id": "8581ee0d",
   "metadata": {},
   "outputs": [
    {
     "name": "stdout",
     "output_type": "stream",
     "text": [
      "3.14 <class 'str'>\n"
     ]
    }
   ],
   "source": [
    "d=\"3.14\"\n",
    "print(d,type(d))"
   ]
  },
  {
   "cell_type": "code",
   "execution_count": 170,
   "id": "44d17cc1",
   "metadata": {},
   "outputs": [
    {
     "name": "stdout",
     "output_type": "stream",
     "text": [
      "3.14 <class 'float'>\n"
     ]
    }
   ],
   "source": [
    "d=float(d)\n",
    "print(d,type(d))"
   ]
  },
  {
   "cell_type": "markdown",
   "id": "555d9f7c",
   "metadata": {},
   "source": [
    "## str() 숫자나, 다른 자료형을 문자로 변환"
   ]
  },
  {
   "cell_type": "code",
   "execution_count": 172,
   "id": "0a330d43",
   "metadata": {},
   "outputs": [],
   "source": [
    "a=10\n",
    "b=34.5\n",
    "c=[1,2,4,\"오\"]\n",
    "d=(\"육\",7,8.5,9)\n",
    "e={3:[1,2,3]}"
   ]
  },
  {
   "cell_type": "code",
   "execution_count": 177,
   "id": "8abcd801",
   "metadata": {},
   "outputs": [
    {
     "name": "stdout",
     "output_type": "stream",
     "text": [
      "10 <class 'str'>\n",
      "34.5 <class 'str'>\n",
      "[1, 2, 4, '오'] <class 'str'>\n",
      "('육', 7, 8.5, 9) <class 'str'>\n",
      "{3: [1, 2, 3]} <class 'str'>\n"
     ]
    }
   ],
   "source": [
    "print(str(a),type(str(a)))\n",
    "print(str(b),type(str(b)))\n",
    "print(str(c),type(str(c)))\n",
    "print(str(d),type(str(d)))\n",
    "print(str(e),type(str(e)))"
   ]
  },
  {
   "cell_type": "markdown",
   "id": "7e48a290",
   "metadata": {},
   "source": [
    "## list() 튜플이나 문자열로 되어 있는 리스트를 리스트로 변환"
   ]
  },
  {
   "cell_type": "code",
   "execution_count": 180,
   "id": "6c42bf24",
   "metadata": {},
   "outputs": [
    {
     "name": "stdout",
     "output_type": "stream",
     "text": [
      "('육', 7, 8.5, 9) ['육', 7, 8.5, 9] <class 'list'>\n"
     ]
    }
   ],
   "source": [
    "print(d,list(d),type(list(d)))"
   ]
  },
  {
   "cell_type": "code",
   "execution_count": 181,
   "id": "6314313a",
   "metadata": {},
   "outputs": [
    {
     "name": "stdout",
     "output_type": "stream",
     "text": [
      "[1, 2, 4, '오'] <class 'str'>\n"
     ]
    }
   ],
   "source": [
    "c=str(c)\n",
    "print(c,type(c))"
   ]
  },
  {
   "cell_type": "code",
   "execution_count": 182,
   "id": "b3946344",
   "metadata": {},
   "outputs": [
    {
     "name": "stdout",
     "output_type": "stream",
     "text": [
      "['[', '1', ',', ' ', '2', ',', ' ', '4', ',', ' ', \"'\", '오', \"'\", ']'] <class 'list'>\n"
     ]
    }
   ],
   "source": [
    "print(list(c),type(list(c)))"
   ]
  },
  {
   "cell_type": "code",
   "execution_count": 183,
   "id": "abc34f40",
   "metadata": {},
   "outputs": [
    {
     "name": "stdout",
     "output_type": "stream",
     "text": [
      "['육', 7, 8.5, 9] <class 'list'>\n"
     ]
    }
   ],
   "source": [
    "d=list(d)\n",
    "print(d,type(d))"
   ]
  },
  {
   "cell_type": "code",
   "execution_count": 185,
   "id": "bd244060",
   "metadata": {},
   "outputs": [],
   "source": [
    "d.append(\"튜플을 리스트로 변환 후 자료 입력\")"
   ]
  },
  {
   "cell_type": "code",
   "execution_count": 186,
   "id": "c9756fc7",
   "metadata": {},
   "outputs": [
    {
     "data": {
      "text/plain": [
       "['육', 7, 8.5, 9, '튜플을 리스트로 변환 후 자료 입력', '튜플을 리스트로 변환 후 자료 입력']"
      ]
     },
     "execution_count": 186,
     "metadata": {},
     "output_type": "execute_result"
    }
   ],
   "source": [
    "d"
   ]
  },
  {
   "cell_type": "markdown",
   "id": "b1e8b8d9",
   "metadata": {},
   "source": [
    "## tuple() 리스트를 튜플로 변환"
   ]
  },
  {
   "cell_type": "code",
   "execution_count": 187,
   "id": "2438051b",
   "metadata": {},
   "outputs": [
    {
     "name": "stdout",
     "output_type": "stream",
     "text": [
      "('육', 7, 8.5, 9, '튜플을 리스트로 변환 후 자료 입력', '튜플을 리스트로 변환 후 자료 입력') <class 'tuple'>\n"
     ]
    }
   ],
   "source": [
    "d=tuple(d)\n",
    "print(d,type(d))"
   ]
  },
  {
   "cell_type": "markdown",
   "id": "17d85251",
   "metadata": {},
   "source": [
    "# 연산자의 종류"
   ]
  },
  {
   "cell_type": "markdown",
   "id": "6e525220",
   "metadata": {},
   "source": [
    "## 산술연상자 +,-,*,/,%,//,**"
   ]
  },
  {
   "cell_type": "code",
   "execution_count": 190,
   "id": "c5b7f025",
   "metadata": {},
   "outputs": [
    {
     "data": {
      "text/plain": [
       "2"
      ]
     },
     "execution_count": 190,
     "metadata": {},
     "output_type": "execute_result"
    }
   ],
   "source": [
    "# 덧셈\n",
    "1+1"
   ]
  },
  {
   "cell_type": "code",
   "execution_count": 191,
   "id": "ae94c716",
   "metadata": {},
   "outputs": [
    {
     "data": {
      "text/plain": [
       "1"
      ]
     },
     "execution_count": 191,
     "metadata": {},
     "output_type": "execute_result"
    }
   ],
   "source": [
    "#뺄셈\n",
    "3-2\n",
    "\n"
   ]
  },
  {
   "cell_type": "code",
   "execution_count": 193,
   "id": "e2ce2fa2",
   "metadata": {},
   "outputs": [],
   "source": [
    "a=3\n",
    "b=2"
   ]
  },
  {
   "cell_type": "code",
   "execution_count": 194,
   "id": "aacee77c",
   "metadata": {},
   "outputs": [
    {
     "data": {
      "text/plain": [
       "5"
      ]
     },
     "execution_count": 194,
     "metadata": {},
     "output_type": "execute_result"
    }
   ],
   "source": [
    "a+b"
   ]
  },
  {
   "cell_type": "code",
   "execution_count": 197,
   "id": "612982a2",
   "metadata": {},
   "outputs": [
    {
     "data": {
      "text/plain": [
       "6"
      ]
     },
     "execution_count": 197,
     "metadata": {},
     "output_type": "execute_result"
    }
   ],
   "source": [
    "#곱셈\n",
    "a*b"
   ]
  },
  {
   "cell_type": "markdown",
   "id": "aa0ed7cd",
   "metadata": {},
   "source": [
    "### 나눗셈을 할 경우 데이터 타입이 정수에서 실수로 바뀐다."
   ]
  },
  {
   "cell_type": "code",
   "execution_count": 196,
   "id": "4df4519f",
   "metadata": {},
   "outputs": [
    {
     "data": {
      "text/plain": [
       "0.6666666666666666"
      ]
     },
     "execution_count": 196,
     "metadata": {},
     "output_type": "execute_result"
    }
   ],
   "source": [
    "#나눗셈의 결과는 반드시 실수로 나온다\n",
    "b/a"
   ]
  },
  {
   "cell_type": "code",
   "execution_count": null,
   "id": "b2a15b94",
   "metadata": {},
   "outputs": [],
   "source": [
    "a=5, b=2"
   ]
  },
  {
   "cell_type": "code",
   "execution_count": 205,
   "id": "d962c7ea",
   "metadata": {},
   "outputs": [
    {
     "name": "stdout",
     "output_type": "stream",
     "text": [
      "1.5\n",
      "1\n",
      "0\n"
     ]
    }
   ],
   "source": [
    "# 나머지 연산자 % 나눈 후 나머지만 출력\\\n",
    "#홀수, 짝수 구분시 주로 사용 % 2 ==0 짝수 %2==1 홀수\n",
    "# 배수를 구할 때 사용 %3--0 3의 배ㅐ수 %7==0 7의 배수\n",
    "print(a/b)\n",
    "print(a%b)\n",
    "print(6%2)"
   ]
  },
  {
   "cell_type": "code",
   "execution_count": 207,
   "id": "41033d42",
   "metadata": {},
   "outputs": [
    {
     "name": "stdout",
     "output_type": "stream",
     "text": [
      "2.5\n",
      "2\n"
     ]
    }
   ],
   "source": [
    "# //나눗셈 후 몫만 촐력\n",
    "print(5/2)\n",
    "print(5//2)"
   ]
  },
  {
   "cell_type": "code",
   "execution_count": 208,
   "id": "cfba4655",
   "metadata": {},
   "outputs": [
    {
     "name": "stdout",
     "output_type": "stream",
     "text": [
      "128\n"
     ]
    }
   ],
   "source": [
    "# #**제곱\n",
    "print(2**7)"
   ]
  },
  {
   "cell_type": "markdown",
   "id": "50973db2",
   "metadata": {},
   "source": [
    "## 할당연산자\n",
    "* =, +=, -=, *=, /=, %="
   ]
  },
  {
   "cell_type": "code",
   "execution_count": 209,
   "id": "58e3851d",
   "metadata": {},
   "outputs": [
    {
     "data": {
      "text/plain": [
       "10"
      ]
     },
     "execution_count": 209,
     "metadata": {},
     "output_type": "execute_result"
    }
   ],
   "source": [
    "#오른쪽에 있는 자료를 왼쪽 변수에 집어 넣는 할당 연산자 \n",
    "a=10\n",
    "a"
   ]
  },
  {
   "cell_type": "code",
   "execution_count": 212,
   "id": "6d04ab6f",
   "metadata": {},
   "outputs": [
    {
     "data": {
      "text/plain": [
       "32"
      ]
     },
     "execution_count": 212,
     "metadata": {},
     "output_type": "execute_result"
    }
   ],
   "source": [
    "# b= b+10 => b +=10\n",
    "b +=10\n",
    "b"
   ]
  },
  {
   "cell_type": "code",
   "execution_count": 214,
   "id": "7f9bfb5b",
   "metadata": {},
   "outputs": [
    {
     "data": {
      "text/plain": [
       "28"
      ]
     },
     "execution_count": 214,
     "metadata": {},
     "output_type": "execute_result"
    }
   ],
   "source": [
    "#b=b-2 => b -= 2\n",
    "b -= 2\n",
    "b"
   ]
  },
  {
   "cell_type": "code",
   "execution_count": 215,
   "id": "ae7e9509",
   "metadata": {},
   "outputs": [
    {
     "data": {
      "text/plain": [
       "84"
      ]
     },
     "execution_count": 215,
     "metadata": {},
     "output_type": "execute_result"
    }
   ],
   "source": [
    "# b=b*3 => b *=3\n",
    "b*=3\n",
    "b"
   ]
  },
  {
   "cell_type": "code",
   "execution_count": 216,
   "id": "5c85fcfd",
   "metadata": {},
   "outputs": [
    {
     "data": {
      "text/plain": [
       "21.0"
      ]
     },
     "execution_count": 216,
     "metadata": {},
     "output_type": "execute_result"
    }
   ],
   "source": [
    "#b =b/5 => b/=5\n",
    "b /=4\n",
    "b"
   ]
  },
  {
   "cell_type": "code",
   "execution_count": 217,
   "id": "0414c3c0",
   "metadata": {},
   "outputs": [
    {
     "data": {
      "text/plain": [
       "1.0"
      ]
     },
     "execution_count": 217,
     "metadata": {},
     "output_type": "execute_result"
    }
   ],
   "source": [
    "#b=b%2 => b%=2\n",
    "b%=2\n",
    "b"
   ]
  },
  {
   "cell_type": "markdown",
   "id": "4319cbcf",
   "metadata": {},
   "source": [
    "# 비교 연산자\n",
    "* 같다 == \n",
    "* 다르다 !=\n",
    "* 초과 >\n",
    "* 이상 >=\n",
    "* 미만 <\n",
    "* 이하 <="
   ]
  },
  {
   "cell_type": "code",
   "execution_count": 219,
   "id": "c0954de3",
   "metadata": {},
   "outputs": [],
   "source": [
    "a=3\n",
    "b=3.0\n",
    "c=5\n",
    "d=\"Python\"\n",
    "e='python'\n",
    "f=True\n",
    "g=False"
   ]
  },
  {
   "cell_type": "markdown",
   "id": "3c81a1c9",
   "metadata": {},
   "source": [
    "* == 같으면 True, 다르면 False"
   ]
  },
  {
   "cell_type": "code",
   "execution_count": 220,
   "id": "ae5f692e",
   "metadata": {},
   "outputs": [
    {
     "data": {
      "text/plain": [
       "True"
      ]
     },
     "execution_count": 220,
     "metadata": {},
     "output_type": "execute_result"
    }
   ],
   "source": [
    "a==b"
   ]
  },
  {
   "cell_type": "code",
   "execution_count": 221,
   "id": "3f84dcf7",
   "metadata": {},
   "outputs": [
    {
     "data": {
      "text/plain": [
       "False"
      ]
     },
     "execution_count": 221,
     "metadata": {},
     "output_type": "execute_result"
    }
   ],
   "source": [
    "a==c"
   ]
  },
  {
   "cell_type": "code",
   "execution_count": 222,
   "id": "fb3f4192",
   "metadata": {},
   "outputs": [
    {
     "data": {
      "text/plain": [
       "False"
      ]
     },
     "execution_count": 222,
     "metadata": {},
     "output_type": "execute_result"
    }
   ],
   "source": [
    "d==e"
   ]
  },
  {
   "cell_type": "code",
   "execution_count": 223,
   "id": "b1fe83fe",
   "metadata": {},
   "outputs": [
    {
     "data": {
      "text/plain": [
       "False"
      ]
     },
     "execution_count": 223,
     "metadata": {},
     "output_type": "execute_result"
    }
   ],
   "source": [
    "f==g"
   ]
  },
  {
   "cell_type": "markdown",
   "id": "aa61b542",
   "metadata": {},
   "source": [
    "* 같으면 False, 다르면 True"
   ]
  },
  {
   "cell_type": "code",
   "execution_count": 225,
   "id": "eb05a22f",
   "metadata": {},
   "outputs": [
    {
     "data": {
      "text/plain": [
       "False"
      ]
     },
     "execution_count": 225,
     "metadata": {},
     "output_type": "execute_result"
    }
   ],
   "source": [
    "a!=b"
   ]
  },
  {
   "cell_type": "code",
   "execution_count": 226,
   "id": "798cc181",
   "metadata": {},
   "outputs": [
    {
     "data": {
      "text/plain": [
       "True"
      ]
     },
     "execution_count": 226,
     "metadata": {},
     "output_type": "execute_result"
    }
   ],
   "source": [
    "a!=c"
   ]
  },
  {
   "cell_type": "code",
   "execution_count": 227,
   "id": "521a666e",
   "metadata": {},
   "outputs": [
    {
     "data": {
      "text/plain": [
       "True"
      ]
     },
     "execution_count": 227,
     "metadata": {},
     "output_type": "execute_result"
    }
   ],
   "source": [
    "d!=e"
   ]
  },
  {
   "cell_type": "code",
   "execution_count": 228,
   "id": "7d928229",
   "metadata": {},
   "outputs": [
    {
     "data": {
      "text/plain": [
       "True"
      ]
     },
     "execution_count": 228,
     "metadata": {},
     "output_type": "execute_result"
    }
   ],
   "source": [
    "f!=g"
   ]
  },
  {
   "cell_type": "markdown",
   "id": "fa76caf2",
   "metadata": {},
   "source": [
    "* \\> 왼쪽 값을 오른쪽 값과 비교해서 크면 True(초과) \n",
    "* \\< 왼쪽 값을 오른쪽 값과 비교해서 작으면 True(미만)\n",
    "* \\>= 왼쪽 값을 오른쪽 값과 비교해서 크거나 같으면 True(이상) \n",
    "* \\<= 왼쪽 값을 오른쪽 값과 비교해서 작거나 같으면 True "
   ]
  },
  {
   "cell_type": "code",
   "execution_count": 229,
   "id": "1510087a",
   "metadata": {},
   "outputs": [
    {
     "data": {
      "text/plain": [
       "True"
      ]
     },
     "execution_count": 229,
     "metadata": {},
     "output_type": "execute_result"
    }
   ],
   "source": [
    "5>=3"
   ]
  },
  {
   "cell_type": "code",
   "execution_count": 230,
   "id": "d8625a0f",
   "metadata": {},
   "outputs": [
    {
     "data": {
      "text/plain": [
       "True"
      ]
     },
     "execution_count": 230,
     "metadata": {},
     "output_type": "execute_result"
    }
   ],
   "source": [
    "5>3"
   ]
  },
  {
   "cell_type": "code",
   "execution_count": 231,
   "id": "1fd623c1",
   "metadata": {},
   "outputs": [
    {
     "data": {
      "text/plain": [
       "False"
      ]
     },
     "execution_count": 231,
     "metadata": {},
     "output_type": "execute_result"
    }
   ],
   "source": [
    "5<=3"
   ]
  },
  {
   "cell_type": "code",
   "execution_count": 232,
   "id": "4f4b158f",
   "metadata": {},
   "outputs": [
    {
     "data": {
      "text/plain": [
       "False"
      ]
     },
     "execution_count": 232,
     "metadata": {},
     "output_type": "execute_result"
    }
   ],
   "source": [
    "5<3"
   ]
  },
  {
   "cell_type": "code",
   "execution_count": 233,
   "id": "85ae5fbb",
   "metadata": {},
   "outputs": [
    {
     "data": {
      "text/plain": [
       "False"
      ]
     },
     "execution_count": 233,
     "metadata": {},
     "output_type": "execute_result"
    }
   ],
   "source": [
    "5<5"
   ]
  },
  {
   "cell_type": "code",
   "execution_count": 234,
   "id": "60b57dec",
   "metadata": {},
   "outputs": [
    {
     "data": {
      "text/plain": [
       "True"
      ]
     },
     "execution_count": 234,
     "metadata": {},
     "output_type": "execute_result"
    }
   ],
   "source": [
    "5<=5"
   ]
  },
  {
   "cell_type": "markdown",
   "id": "faabe6c0",
   "metadata": {},
   "source": [
    "# 논리 연산자\n",
    "* and, or, not"
   ]
  },
  {
   "cell_type": "markdown",
   "id": "365eb2bc",
   "metadata": {},
   "source": [
    "* and: 왼쪽과 오른쪽 값 모두 True 일 때 True, 하나라도 False면 False"
   ]
  },
  {
   "cell_type": "code",
   "execution_count": 235,
   "id": "000a2546",
   "metadata": {},
   "outputs": [
    {
     "data": {
      "text/plain": [
       "True"
      ]
     },
     "execution_count": 235,
     "metadata": {},
     "output_type": "execute_result"
    }
   ],
   "source": [
    "#true and true\n",
    "3==3 and 5>3"
   ]
  },
  {
   "cell_type": "code",
   "execution_count": 238,
   "id": "e9f320f0",
   "metadata": {},
   "outputs": [
    {
     "data": {
      "text/plain": [
       "False"
      ]
     },
     "execution_count": 238,
     "metadata": {},
     "output_type": "execute_result"
    }
   ],
   "source": [
    "# false and true\n",
    "3<3 and 5>3"
   ]
  },
  {
   "cell_type": "code",
   "execution_count": 237,
   "id": "48a3c3d5",
   "metadata": {},
   "outputs": [
    {
     "data": {
      "text/plain": [
       "False"
      ]
     },
     "execution_count": 237,
     "metadata": {},
     "output_type": "execute_result"
    }
   ],
   "source": [
    "# true and false\n",
    "3==3 and 5<3"
   ]
  },
  {
   "cell_type": "code",
   "execution_count": 239,
   "id": "f8ca20de",
   "metadata": {},
   "outputs": [
    {
     "data": {
      "text/plain": [
       "False"
      ]
     },
     "execution_count": 239,
     "metadata": {},
     "output_type": "execute_result"
    }
   ],
   "source": [
    "#false and false\n",
    "3<3 and 5<3"
   ]
  },
  {
   "cell_type": "markdown",
   "id": "e2edff08",
   "metadata": {},
   "source": [
    "* or: 왼쪽이나 오른쪽 중 하나라도 True 면 True, 둘 다 False 일 때만 False"
   ]
  },
  {
   "cell_type": "code",
   "execution_count": 240,
   "id": "b4b943f5",
   "metadata": {},
   "outputs": [
    {
     "data": {
      "text/plain": [
       "True"
      ]
     },
     "execution_count": 240,
     "metadata": {},
     "output_type": "execute_result"
    }
   ],
   "source": [
    "# True or True\n",
    "3==3 or 5>3"
   ]
  },
  {
   "cell_type": "code",
   "execution_count": 241,
   "id": "4281b85b",
   "metadata": {},
   "outputs": [
    {
     "data": {
      "text/plain": [
       "True"
      ]
     },
     "execution_count": 241,
     "metadata": {},
     "output_type": "execute_result"
    }
   ],
   "source": [
    "# False or True\n",
    "3>3 or 5>3"
   ]
  },
  {
   "cell_type": "code",
   "execution_count": 243,
   "id": "6fc26c6a",
   "metadata": {},
   "outputs": [
    {
     "data": {
      "text/plain": [
       "True"
      ]
     },
     "execution_count": 243,
     "metadata": {},
     "output_type": "execute_result"
    }
   ],
   "source": [
    "# True or False\n",
    "3==3 or 5<3"
   ]
  },
  {
   "cell_type": "code",
   "execution_count": 245,
   "id": "82785e94",
   "metadata": {},
   "outputs": [
    {
     "data": {
      "text/plain": [
       "False"
      ]
     },
     "execution_count": 245,
     "metadata": {},
     "output_type": "execute_result"
    }
   ],
   "source": [
    "# False or False\n",
    "3>3 or 5<3"
   ]
  },
  {
   "cell_type": "markdown",
   "id": "2aa46cc0",
   "metadata": {},
   "source": [
    "* not: 값을 반대로 뒤집음 True => False, False=>True"
   ]
  },
  {
   "cell_type": "code",
   "execution_count": 246,
   "id": "6a7be3c1",
   "metadata": {},
   "outputs": [
    {
     "data": {
      "text/plain": [
       "False"
      ]
     },
     "execution_count": 246,
     "metadata": {},
     "output_type": "execute_result"
    }
   ],
   "source": [
    "not True"
   ]
  },
  {
   "cell_type": "code",
   "execution_count": 248,
   "id": "c44ea330",
   "metadata": {},
   "outputs": [
    {
     "data": {
      "text/plain": [
       "True"
      ]
     },
     "execution_count": 248,
     "metadata": {},
     "output_type": "execute_result"
    }
   ],
   "source": [
    "not False"
   ]
  },
  {
   "cell_type": "code",
   "execution_count": 251,
   "id": "2f684366",
   "metadata": {},
   "outputs": [
    {
     "data": {
      "text/plain": [
       "True"
      ]
     },
     "execution_count": 251,
     "metadata": {},
     "output_type": "execute_result"
    }
   ],
   "source": [
    "not 3>3 and not 5<3"
   ]
  },
  {
   "cell_type": "markdown",
   "id": "47b7af67",
   "metadata": {},
   "source": [
    "* not, and, or 의 순위\n",
    "* not > and > or"
   ]
  },
  {
   "cell_type": "code",
   "execution_count": 252,
   "id": "3d34fd35",
   "metadata": {},
   "outputs": [
    {
     "data": {
      "text/plain": [
       "True"
      ]
     },
     "execution_count": 252,
     "metadata": {},
     "output_type": "execute_result"
    }
   ],
   "source": [
    "not True and False or not False\n",
    "# false and false or true\n",
    "# false or true"
   ]
  },
  {
   "cell_type": "code",
   "execution_count": 253,
   "id": "a40fec63",
   "metadata": {},
   "outputs": [
    {
     "data": {
      "text/plain": [
       "True"
      ]
     },
     "execution_count": 253,
     "metadata": {},
     "output_type": "execute_result"
    }
   ],
   "source": [
    "10==10 and 10!=5\n",
    "#true and true"
   ]
  },
  {
   "cell_type": "markdown",
   "id": "5aff25d5",
   "metadata": {},
   "source": [
    "# 식별연산자\n",
    "* is, is not(data type 까지 같은지 비교)"
   ]
  },
  {
   "cell_type": "code",
   "execution_count": 254,
   "id": "50f1b541",
   "metadata": {},
   "outputs": [
    {
     "name": "stdout",
     "output_type": "stream",
     "text": [
      "3\n",
      "3.0\n",
      "5\n"
     ]
    }
   ],
   "source": [
    "print(a)\n",
    "print(b)\n",
    "print(c)"
   ]
  },
  {
   "cell_type": "code",
   "execution_count": 255,
   "id": "4e32d85b",
   "metadata": {},
   "outputs": [
    {
     "name": "stdout",
     "output_type": "stream",
     "text": [
      "True\n",
      "False\n"
     ]
    }
   ],
   "source": [
    "# ==는 값만 같으면 True 처리, is는 값이 같아도 데이터 타입이 다르면 False\n",
    "print(a==b)\n",
    "print(a is b)"
   ]
  },
  {
   "cell_type": "code",
   "execution_count": 256,
   "id": "66f25d8c",
   "metadata": {},
   "outputs": [],
   "source": [
    "d = 3"
   ]
  },
  {
   "cell_type": "code",
   "execution_count": 257,
   "id": "eada7ad4",
   "metadata": {},
   "outputs": [
    {
     "name": "stdout",
     "output_type": "stream",
     "text": [
      "True\n"
     ]
    }
   ],
   "source": [
    "# a와 d 모두 int 3이기 때문에 True\n",
    "print(a is d)"
   ]
  },
  {
   "cell_type": "code",
   "execution_count": 259,
   "id": "3ad9998b",
   "metadata": {},
   "outputs": [
    {
     "name": "stdout",
     "output_type": "stream",
     "text": [
      "True\n"
     ]
    }
   ],
   "source": [
    "# is not 은 둘이 다르면 True\n",
    "print(a is not b)"
   ]
  },
  {
   "cell_type": "markdown",
   "id": "cb9d6325",
   "metadata": {},
   "source": [
    "# 멤버연산자\n",
    "* in, not in\n",
    "* list나 truple, dict 안에 원하는 값이 있는지 찾을 때 사용"
   ]
  },
  {
   "cell_type": "code",
   "execution_count": 261,
   "id": "15dbf065",
   "metadata": {},
   "outputs": [],
   "source": [
    "mem =[1,2,3,4,5,\"육\"]"
   ]
  },
  {
   "cell_type": "code",
   "execution_count": 262,
   "id": "3b4b4f15",
   "metadata": {},
   "outputs": [
    {
     "data": {
      "text/plain": [
       "True"
      ]
     },
     "execution_count": 262,
     "metadata": {},
     "output_type": "execute_result"
    }
   ],
   "source": [
    "3 in mem"
   ]
  },
  {
   "cell_type": "code",
   "execution_count": 263,
   "id": "5f0d1c7a",
   "metadata": {},
   "outputs": [
    {
     "data": {
      "text/plain": [
       "False"
      ]
     },
     "execution_count": 263,
     "metadata": {},
     "output_type": "execute_result"
    }
   ],
   "source": [
    "6 in mem"
   ]
  },
  {
   "cell_type": "code",
   "execution_count": 264,
   "id": "4a8f36e4",
   "metadata": {},
   "outputs": [
    {
     "data": {
      "text/plain": [
       "True"
      ]
     },
     "execution_count": 264,
     "metadata": {},
     "output_type": "execute_result"
    }
   ],
   "source": [
    "6 not in mem"
   ]
  },
  {
   "cell_type": "code",
   "execution_count": 265,
   "id": "aa0df318",
   "metadata": {},
   "outputs": [
    {
     "data": {
      "text/plain": [
       "False"
      ]
     },
     "execution_count": 265,
     "metadata": {},
     "output_type": "execute_result"
    }
   ],
   "source": [
    "3 not in mem"
   ]
  },
  {
   "cell_type": "markdown",
   "id": "aa234d12",
   "metadata": {},
   "source": [
    "# 문자열 함수 .replace(\"찾을 값\", \"바꿀 값\")"
   ]
  },
  {
   "cell_type": "code",
   "execution_count": 266,
   "id": "accda4b4",
   "metadata": {},
   "outputs": [
    {
     "data": {
      "text/plain": [
       "'010-1111-2222'"
      ]
     },
     "execution_count": 266,
     "metadata": {},
     "output_type": "execute_result"
    }
   ],
   "source": [
    "c = \"010-1111-2222\"\n",
    "c"
   ]
  },
  {
   "cell_type": "code",
   "execution_count": 267,
   "id": "836169a7",
   "metadata": {},
   "outputs": [
    {
     "data": {
      "text/plain": [
       "'010.1111.2222'"
      ]
     },
     "execution_count": 267,
     "metadata": {},
     "output_type": "execute_result"
    }
   ],
   "source": [
    "c.replace(\"-\",\".\")"
   ]
  },
  {
   "cell_type": "code",
   "execution_count": 270,
   "id": "0f5accef",
   "metadata": {},
   "outputs": [
    {
     "data": {
      "text/plain": [
       "'010.1111.2222'"
      ]
     },
     "execution_count": 270,
     "metadata": {},
     "output_type": "execute_result"
    }
   ],
   "source": [
    "c=c.replace(\"-\",\".\")\n",
    "c"
   ]
  },
  {
   "cell_type": "code",
   "execution_count": null,
   "id": "9ec16865",
   "metadata": {},
   "outputs": [],
   "source": []
  }
 ],
 "metadata": {
  "kernelspec": {
   "display_name": "Python 3 (ipykernel)",
   "language": "python",
   "name": "python3"
  },
  "language_info": {
   "codemirror_mode": {
    "name": "ipython",
    "version": 3
   },
   "file_extension": ".py",
   "mimetype": "text/x-python",
   "name": "python",
   "nbconvert_exporter": "python",
   "pygments_lexer": "ipython3",
   "version": "3.9.23"
  }
 },
 "nbformat": 4,
 "nbformat_minor": 5
}
