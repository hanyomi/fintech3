{
 "cells": [
  {
   "cell_type": "markdown",
   "id": "fa80bce8",
   "metadata": {},
   "source": [
    "<h1>주피터 노트북 사용법</h1>\n",
    "<ul>\n",
    "    <li>코딩모드</li>\n",
    "    <li>메모모드</li>\n",
    "</ul>"
   ]
  },
  {
   "cell_type": "markdown",
   "id": "00abda21",
   "metadata": {},
   "source": [
    "# ul은 *로 표시 하위 항목은 들여쓰기 후 *\n",
    " * 목록\n",
    "    * 세부목록\n",
    "    * 세부목록2\n",
    "    * 세부목록3\n",
    "# \\#글씨를 굵게 만들기 \\**내용\\**\n",
    "글씨를 **굵게** 만들어 보아요.\n",
    "# 이텔릭체(기울이기) \\*내용\\*\n",
    "글씨를 *기울여* 보아요."
   ]
  },
  {
   "cell_type": "markdown",
   "id": "5e04d6be",
   "metadata": {},
   "source": [
    "# 링크걸기 \\[링크이름\\](링크 주소)\n",
    ".[네이버링크].(https://www.naver.com)"
   ]
  },
  {
   "cell_type": "markdown",
   "id": "ed739cb5",
   "metadata": {},
   "source": [
    "# 이미지 넣기 \\!\\[이미지설명\\]\\(이미지 주소\\)\n",
    "![고양이](https://www.biteme.co.kr/blog/wp-content/uploads/2025/04/491b87a0-1913-43ab-92e3-b16c2a1e6f82.jpg)"
   ]
  },
  {
   "cell_type": "markdown",
   "id": "03708f0a",
   "metadata": {},
   "source": [
    "# 수식넣기 \\\\$\\\\$수식코드\\\\$\\\\$\n",
    "$$ {1 \\over 2} $$\n",
    "$ {1 \\over 2} $"
   ]
  },
  {
   "cell_type": "markdown",
   "id": "687e508e",
   "metadata": {},
   "source": [
    "# 표 만들기 \\|값\\|의미\\|기본값\\| \\|---\\|---\\|---\\|\n",
    "|값|의미|기본값|\n",
    "|---|:---:|---:|\n",
    "|str|문자형 데이터 타입|str|\n",
    "|int|정수형 데이터 타입|0|\n",
    "|float|실수형 데이터 타입|3.14|"
   ]
  },
  {
   "cell_type": "code",
   "execution_count": null,
   "id": "4d3bb80e",
   "metadata": {},
   "outputs": [],
   "source": [
    "1+1"
   ]
  },
  {
   "cell_type": "code",
   "execution_count": 2,
   "id": "e47416a8",
   "metadata": {},
   "outputs": [],
   "source": [
    "a=10"
   ]
  },
  {
   "cell_type": "code",
   "execution_count": 3,
   "id": "70177779",
   "metadata": {},
   "outputs": [
    {
     "name": "stdout",
     "output_type": "stream",
     "text": [
      "10\n"
     ]
    }
   ],
   "source": [
    "print(a)"
   ]
  },
  {
   "cell_type": "code",
   "execution_count": 4,
   "id": "64fb8652",
   "metadata": {},
   "outputs": [
    {
     "data": {
      "text/plain": [
       "10"
      ]
     },
     "execution_count": 4,
     "metadata": {},
     "output_type": "execute_result"
    }
   ],
   "source": [
    "a"
   ]
  },
  {
   "cell_type": "code",
   "execution_count": 5,
   "id": "e5841717",
   "metadata": {},
   "outputs": [
    {
     "ename": "NameError",
     "evalue": "name 'b' is not defined",
     "output_type": "error",
     "traceback": [
      "\u001b[1;31m---------------------------------------------------------------------------\u001b[0m",
      "\u001b[1;31mNameError\u001b[0m                                 Traceback (most recent call last)",
      "Cell \u001b[1;32mIn[5], line 1\u001b[0m\n\u001b[1;32m----> 1\u001b[0m \u001b[38;5;28mprint\u001b[39m(a\u001b[38;5;241m+\u001b[39m\u001b[43mb\u001b[49m)\n",
      "\u001b[1;31mNameError\u001b[0m: name 'b' is not defined"
     ]
    }
   ],
   "source": [
    "print(a+b)"
   ]
  },
  {
   "cell_type": "code",
   "execution_count": 7,
   "id": "81175c5e",
   "metadata": {},
   "outputs": [],
   "source": [
    " b=20"
   ]
  },
  {
   "cell_type": "code",
   "execution_count": 9,
   "id": "5728a2aa",
   "metadata": {},
   "outputs": [],
   "source": [
    "c=30"
   ]
  },
  {
   "cell_type": "code",
   "execution_count": null,
   "id": "b78121de",
   "metadata": {},
   "outputs": [],
   "source": []
  }
 ],
 "metadata": {
  "kernelspec": {
   "display_name": "Python 3 (ipykernel)",
   "language": "python",
   "name": "python3"
  },
  "language_info": {
   "codemirror_mode": {
    "name": "ipython",
    "version": 3
   },
   "file_extension": ".py",
   "mimetype": "text/x-python",
   "name": "python",
   "nbconvert_exporter": "python",
   "pygments_lexer": "ipython3",
   "version": "3.9.23"
  }
 },
 "nbformat": 4,
 "nbformat_minor": 5
}
